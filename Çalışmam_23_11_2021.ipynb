{
  "nbformat": 4,
  "nbformat_minor": 0,
  "metadata": {
    "colab": {
      "name": "Çalışmam 23.11.2021.ipynb",
      "provenance": [],
      "collapsed_sections": [],
      "authorship_tag": "ABX9TyOYmpNkigDMqmQTbC3wTMZx",
      "include_colab_link": true
    },
    "kernelspec": {
      "name": "python3",
      "display_name": "Python 3"
    },
    "language_info": {
      "name": "python"
    }
  },
  "cells": [
    {
      "cell_type": "markdown",
      "metadata": {
        "id": "view-in-github",
        "colab_type": "text"
      },
      "source": [
        "<a href=\"https://colab.research.google.com/github/MuratYarali/Python-Studies/blob/main/%C3%87al%C4%B1%C5%9Fmam_23_11_2021.ipynb\" target=\"_parent\"><img src=\"https://colab.research.google.com/assets/colab-badge.svg\" alt=\"Open In Colab\"/></a>"
      ]
    },
    {
      "cell_type": "code",
      "metadata": {
        "colab": {
          "base_uri": "https://localhost:8080/"
        },
        "id": "207_Sa3FwbvN",
        "outputId": "eb1ab97d-c3c0-4dbd-bc5c-8d39b0d7cb97"
      },
      "source": [
        "i = int(input(\"Bir sayı giriniz: \"))\n",
        "\n",
        "print(i, \"bir çift sayı\" if i % 2 == 0 else \"bir \n",
        "tek sayı\")"
      ],
      "execution_count": null,
      "outputs": [
        {
          "output_type": "stream",
          "name": "stdout",
          "text": [
            "Bir sayı giriniz: 122\n",
            "122 bir çift sayı\n"
          ]
        }
      ]
    },
    {
      "cell_type": "code",
      "metadata": {
        "colab": {
          "base_uri": "https://localhost:8080/"
        },
        "id": "uyvLpXHJ_GI6",
        "outputId": "0f9e3bb8-8ced-4afe-ec64-e2559bfea085"
      },
      "source": [
        "for i in range(11):\n",
        "  print(i, end=\"\\n\")"
      ],
      "execution_count": null,
      "outputs": [
        {
          "output_type": "stream",
          "name": "stdout",
          "text": [
            "0\n",
            "1\n",
            "2\n",
            "3\n",
            "4\n",
            "5\n",
            "6\n",
            "7\n",
            "8\n",
            "9\n",
            "10\n"
          ]
        }
      ]
    },
    {
      "cell_type": "code",
      "metadata": {
        "colab": {
          "base_uri": "https://localhost:8080/"
        },
        "id": "JWrziK9l_Ztz",
        "outputId": "ee29d65e-483f-4971-b72a-90abaa2cecd8"
      },
      "source": [
        "course = \"clarusway\"\n",
        "counter = 0\n",
        "\n",
        "for i in course:\n",
        "  counter += 1\n",
        "  if counter < len(course):\n",
        "    i += \"-\"\n",
        "  print(i, end= \"\")"
      ],
      "execution_count": null,
      "outputs": [
        {
          "output_type": "stream",
          "name": "stdout",
          "text": [
            "c-l-a-r-u-s-w-a-y"
          ]
        }
      ]
    },
    {
      "cell_type": "code",
      "metadata": {
        "colab": {
          "base_uri": "https://localhost:8080/"
        },
        "id": "jLVRXwUVCfvu",
        "outputId": "3efe8a66-7edc-4da6-b911-d4527bcee8a5"
      },
      "source": [
        "print(* range(10, 0, -2))"
      ],
      "execution_count": null,
      "outputs": [
        {
          "output_type": "stream",
          "name": "stdout",
          "text": [
            "10 8 6 4 2\n"
          ]
        }
      ]
    },
    {
      "cell_type": "code",
      "metadata": {
        "colab": {
          "base_uri": "https://localhost:8080/"
        },
        "id": "3f6POb0hC6qE",
        "outputId": "88b2526e-c0b2-4e14-82ed-8c15eb5381c0"
      },
      "source": [
        "for i in [1,2,3,4,5]:\n",
        "  print(i)"
      ],
      "execution_count": null,
      "outputs": [
        {
          "output_type": "stream",
          "name": "stdout",
          "text": [
            "1\n",
            "2\n",
            "3\n",
            "4\n",
            "5\n"
          ]
        }
      ]
    },
    {
      "cell_type": "code",
      "metadata": {
        "colab": {
          "base_uri": "https://localhost:8080/"
        },
        "id": "8xTwLzRzLryv",
        "outputId": "1e14c20a-549b-4a42-ed59-9f0146c7bf3c"
      },
      "source": [
        "[1,2,3,4,5] + [\"bir\", \"iki\"]"
      ],
      "execution_count": null,
      "outputs": [
        {
          "output_type": "execute_result",
          "data": {
            "text/plain": [
              "[1, 2, 3, 4, 5, 'bir', 'iki']"
            ]
          },
          "metadata": {},
          "execution_count": 22
        }
      ]
    },
    {
      "cell_type": "code",
      "metadata": {
        "colab": {
          "base_uri": "https://localhost:8080/"
        },
        "id": "M231p9WjNfhr",
        "outputId": "375242de-91d0-413a-e677-2dfb0f6967fb"
      },
      "source": [
        "x, y, *z = [1,2,3,4,5]\n",
        "x"
      ],
      "execution_count": null,
      "outputs": [
        {
          "output_type": "execute_result",
          "data": {
            "text/plain": [
              "1"
            ]
          },
          "metadata": {},
          "execution_count": 24
        }
      ]
    }
  ]
}