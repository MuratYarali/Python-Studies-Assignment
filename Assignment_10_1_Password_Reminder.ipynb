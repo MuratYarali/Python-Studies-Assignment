{
  "nbformat": 4,
  "nbformat_minor": 0,
  "metadata": {
    "colab": {
      "name": "Assignment-10/1_Password_Reminder.ipynb",
      "provenance": [],
      "authorship_tag": "ABX9TyMtqMc/gGbyVIcZvgOx7cON",
      "include_colab_link": true
    },
    "kernelspec": {
      "name": "python3",
      "display_name": "Python 3"
    },
    "language_info": {
      "name": "python"
    }
  },
  "cells": [
    {
      "cell_type": "markdown",
      "metadata": {
        "id": "view-in-github",
        "colab_type": "text"
      },
      "source": [
        "<a href=\"https://colab.research.google.com/github/MuratYarali/assignments/blob/main/Assignment_10_1_Password_Reminder.ipynb\" target=\"_parent\"><img src=\"https://colab.research.google.com/assets/colab-badge.svg\" alt=\"Open In Colab\"/></a>"
      ]
    },
    {
      "cell_type": "markdown",
      "metadata": {
        "id": "N-VHo6ZoYpxL"
      },
      "source": [
        ""
      ]
    },
    {
      "cell_type": "code",
      "metadata": {
        "colab": {
          "base_uri": "https://localhost:8080/"
        },
        "id": "ZTfv5P7UdUJe",
        "outputId": "cc374f3b-ad18-4d7a-9e6f-959aabae1e7d"
      },
      "source": [
        "name = \"Murat\"\n",
        "\n",
        "first_name = input(\"Enter your first name: \")\n",
        "\n",
        "if first_name.title() == name:\n",
        "  print(\"Hello, Murat! The password is : W@12\")\n",
        "else:\n",
        "  print(f\"Hello, {first_name}! See you later.\")"
      ],
      "execution_count": 10,
      "outputs": [
        {
          "output_type": "stream",
          "name": "stdout",
          "text": [
            "Enter your first name: murat\n",
            "Hello, murat! See you later.\n"
          ]
        }
      ]
    }
  ]
}
