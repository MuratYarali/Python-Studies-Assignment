{
  "nbformat": 4,
  "nbformat_minor": 0,
  "metadata": {
    "colab": {
      "name": "Çalışmam 22.11.2021.ipynb",
      "provenance": [],
      "collapsed_sections": [],
      "authorship_tag": "ABX9TyMLYGbg0tGqX7G1qSGSYAj6",
      "include_colab_link": true
    },
    "kernelspec": {
      "name": "python3",
      "display_name": "Python 3"
    },
    "language_info": {
      "name": "python"
    }
  },
  "cells": [
    {
      "cell_type": "markdown",
      "metadata": {
        "id": "view-in-github",
        "colab_type": "text"
      },
      "source": [
        "<a href=\"https://colab.research.google.com/github/MuratYarali/Python-Studies/blob/main/%C3%87al%C4%B1%C5%9Fmam_22_11_2021.ipynb\" target=\"_parent\"><img src=\"https://colab.research.google.com/assets/colab-badge.svg\" alt=\"Open In Colab\"/></a>"
      ]
    },
    {
      "cell_type": "code",
      "metadata": {
        "colab": {
          "base_uri": "https://localhost:8080/"
        },
        "id": "yS83KkhYLktV",
        "outputId": "9b4227d8-550b-4ec2-eae3-5d9f03dd7d63"
      },
      "source": [
        "tuple = {}\n",
        "\n",
        "print(type(tuple))"
      ],
      "execution_count": 1,
      "outputs": [
        {
          "output_type": "stream",
          "name": "stdout",
          "text": [
            "<class 'dict'>\n"
          ]
        }
      ]
    },
    {
      "cell_type": "code",
      "metadata": {
        "colab": {
          "base_uri": "https://localhost:8080/"
        },
        "id": "MvBhmqGNh7j7",
        "outputId": "43a60b83-6173-42dc-c07f-79bbffc49de6"
      },
      "source": [
        "my_dict = {'animal' : \"dog\", 'is_good' : True}\n",
        "\n",
        "my_dict.values()"
      ],
      "execution_count": 10,
      "outputs": [
        {
          "output_type": "execute_result",
          "data": {
            "text/plain": [
              "dict_values(['dog', True])"
            ]
          },
          "metadata": {},
          "execution_count": 10
        }
      ]
    },
    {
      "cell_type": "code",
      "metadata": {
        "colab": {
          "base_uri": "https://localhost:8080/"
        },
        "id": "ImQ7U0l1jLSx",
        "outputId": "d87a405f-c7cc-42f1-cfeb-b67c357087dc"
      },
      "source": [
        "my_dict.update({'a':1})\n",
        "\n",
        "print(my_dict)"
      ],
      "execution_count": 14,
      "outputs": [
        {
          "output_type": "stream",
          "name": "stdout",
          "text": [
            "{'animal': 'dog', 'is_good': True, 'a': 1}\n"
          ]
        }
      ]
    },
    {
      "cell_type": "code",
      "metadata": {
        "colab": {
          "base_uri": "https://localhost:8080/"
        },
        "id": "y1Qrn7TDoQ3I",
        "outputId": "9516cc64-db47-4c9a-903f-2a4d93f3155a"
      },
      "source": [
        "numbers = [1,3,7,4,3,0,3,6,3]\n",
        "\n",
        "max(numbers, key=numbers.count)"
      ],
      "execution_count": 18,
      "outputs": [
        {
          "output_type": "execute_result",
          "data": {
            "text/plain": [
              "3"
            ]
          },
          "metadata": {},
          "execution_count": 18
        }
      ]
    },
    {
      "cell_type": "code",
      "metadata": {
        "colab": {
          "base_uri": "https://localhost:8080/"
        },
        "id": "94hRH5kwpKau",
        "outputId": "ae8e6e95-9ed9-4cb7-cb22-b5f38dabb1a4"
      },
      "source": [
        "numbers.count(3)"
      ],
      "execution_count": 22,
      "outputs": [
        {
          "output_type": "execute_result",
          "data": {
            "text/plain": [
              "4"
            ]
          },
          "metadata": {},
          "execution_count": 22
        }
      ]
    },
    {
      "cell_type": "code",
      "metadata": {
        "colab": {
          "base_uri": "https://localhost:8080/"
        },
        "id": "oZ_l9izmqKw8",
        "outputId": "f8ed667c-b9e5-4239-f65b-3eeb55cd2a11"
      },
      "source": [
        "şehirler = [\"istanbul\", \"ankara\", \"ağrı\", \"van\"]\n",
        "\n",
        "print(sorted(şehirler, key=len, reverse=True))"
      ],
      "execution_count": 28,
      "outputs": [
        {
          "output_type": "stream",
          "name": "stdout",
          "text": [
            "['istanbul', 'ankara', 'ağrı', 'van']\n"
          ]
        }
      ]
    }
  ]
}