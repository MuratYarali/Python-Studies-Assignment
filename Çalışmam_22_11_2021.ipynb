{
  "nbformat": 4,
  "nbformat_minor": 0,
  "metadata": {
    "colab": {
      "name": "Çalışmam 22.11.2021.ipynb",
      "provenance": [],
      "collapsed_sections": [],
      "authorship_tag": "ABX9TyO2FQuoCuO4eilIcSl12pHM",
      "include_colab_link": true
    },
    "kernelspec": {
      "name": "python3",
      "display_name": "Python 3"
    },
    "language_info": {
      "name": "python"
    }
  },
  "cells": [
    {
      "cell_type": "markdown",
      "metadata": {
        "id": "view-in-github",
        "colab_type": "text"
      },
      "source": [
        "<a href=\"https://colab.research.google.com/github/MuratYarali/Python-Studies/blob/main/%C3%87al%C4%B1%C5%9Fmam_22_11_2021.ipynb\" target=\"_parent\"><img src=\"https://colab.research.google.com/assets/colab-badge.svg\" alt=\"Open In Colab\"/></a>"
      ]
    },
    {
      "cell_type": "code",
      "metadata": {
        "colab": {
          "base_uri": "https://localhost:8080/"
        },
        "id": "yS83KkhYLktV",
        "outputId": "9b4227d8-550b-4ec2-eae3-5d9f03dd7d63"
      },
      "source": [
        "tuple = {}\n",
        "\n",
        "print(type(tuple))"
      ],
      "execution_count": null,
      "outputs": [
        {
          "output_type": "stream",
          "name": "stdout",
          "text": [
            "<class 'dict'>\n"
          ]
        }
      ]
    },
    {
      "cell_type": "code",
      "metadata": {
        "colab": {
          "base_uri": "https://localhost:8080/"
        },
        "id": "MvBhmqGNh7j7",
        "outputId": "43a60b83-6173-42dc-c07f-79bbffc49de6"
      },
      "source": [
        "my_dict = {'animal' : \"dog\", 'is_good' : True}\n",
        "\n",
        "my_dict.values()"
      ],
      "execution_count": null,
      "outputs": [
        {
          "output_type": "execute_result",
          "data": {
            "text/plain": [
              "dict_values(['dog', True])"
            ]
          },
          "metadata": {},
          "execution_count": 10
        }
      ]
    },
    {
      "cell_type": "code",
      "metadata": {
        "colab": {
          "base_uri": "https://localhost:8080/"
        },
        "id": "ImQ7U0l1jLSx",
        "outputId": "d87a405f-c7cc-42f1-cfeb-b67c357087dc"
      },
      "source": [
        "my_dict.update({'a':1})\n",
        "\n",
        "print(my_dict)"
      ],
      "execution_count": null,
      "outputs": [
        {
          "output_type": "stream",
          "name": "stdout",
          "text": [
            "{'animal': 'dog', 'is_good': True, 'a': 1}\n"
          ]
        }
      ]
    },
    {
      "cell_type": "code",
      "metadata": {
        "colab": {
          "base_uri": "https://localhost:8080/"
        },
        "id": "y1Qrn7TDoQ3I",
        "outputId": "9516cc64-db47-4c9a-903f-2a4d93f3155a"
      },
      "source": [
        "numbers = [1,3,7,4,3,0,3,6,3]\n",
        "\n",
        "max(numbers, key=numbers.count)"
      ],
      "execution_count": null,
      "outputs": [
        {
          "output_type": "execute_result",
          "data": {
            "text/plain": [
              "3"
            ]
          },
          "metadata": {},
          "execution_count": 18
        }
      ]
    },
    {
      "cell_type": "code",
      "metadata": {
        "colab": {
          "base_uri": "https://localhost:8080/"
        },
        "id": "94hRH5kwpKau",
        "outputId": "ae8e6e95-9ed9-4cb7-cb22-b5f38dabb1a4"
      },
      "source": [
        "numbers.count(3)"
      ],
      "execution_count": null,
      "outputs": [
        {
          "output_type": "execute_result",
          "data": {
            "text/plain": [
              "4"
            ]
          },
          "metadata": {},
          "execution_count": 22
        }
      ]
    },
    {
      "cell_type": "code",
      "metadata": {
        "colab": {
          "base_uri": "https://localhost:8080/"
        },
        "id": "oZ_l9izmqKw8",
        "outputId": "f8ed667c-b9e5-4239-f65b-3eeb55cd2a11"
      },
      "source": [
        "şehirler = [\"istanbul\", \"ankara\", \"ağrı\", \"van\"]\n",
        "\n",
        "print(sorted(şehirler, key=len, reverse=True))"
      ],
      "execution_count": null,
      "outputs": [
        {
          "output_type": "stream",
          "name": "stdout",
          "text": [
            "['istanbul', 'ankara', 'ağrı', 'van']\n"
          ]
        }
      ]
    },
    {
      "cell_type": "code",
      "metadata": {
        "colab": {
          "base_uri": "https://localhost:8080/",
          "height": 130
        },
        "id": "a7m2c0w5xaVU",
        "outputId": "03a9d848-63d6-4c6f-af56-3c59ef243865"
      },
      "source": [
        "lambda x, y: (x+y)/2\n",
        "\n",
        "lambda x = \"odd\" if x % 2 != 0 else 'even'"
      ],
      "execution_count": null,
      "outputs": [
        {
          "output_type": "error",
          "ename": "SyntaxError",
          "evalue": "ignored",
          "traceback": [
            "\u001b[0;36m  File \u001b[0;32m\"<ipython-input-6-ad9b14ab40a5>\"\u001b[0;36m, line \u001b[0;32m3\u001b[0m\n\u001b[0;31m    lambda x = \"odd\" if x % 2 != 0 else 'even'\u001b[0m\n\u001b[0m                                              ^\u001b[0m\n\u001b[0;31mSyntaxError\u001b[0m\u001b[0;31m:\u001b[0m invalid syntax\n"
          ]
        }
      ]
    },
    {
      "cell_type": "code",
      "metadata": {
        "colab": {
          "base_uri": "https://localhost:8080/"
        },
        "id": "v2OWKqsEFt2B",
        "outputId": "cb12b710-9ac4-4cab-da91-1df7598f4217"
      },
      "source": [
        "(lambda x: x ** 2)(9)"
      ],
      "execution_count": null,
      "outputs": [
        {
          "output_type": "execute_result",
          "data": {
            "text/plain": [
              "81"
            ]
          },
          "metadata": {},
          "execution_count": 4
        }
      ]
    },
    {
      "cell_type": "code",
      "metadata": {
        "colab": {
          "base_uri": "https://localhost:8080/"
        },
        "id": "fA9PVCbSGANT",
        "outputId": "5e295a54-ea12-4fda-c162-d06395e63d84"
      },
      "source": [
        "print((lambda x, y: (x+y)/2)(3, 5))"
      ],
      "execution_count": null,
      "outputs": [
        {
          "output_type": "stream",
          "name": "stdout",
          "text": [
            "4.0\n"
          ]
        }
      ]
    },
    {
      "cell_type": "code",
      "metadata": {
        "colab": {
          "base_uri": "https://localhost:8080/"
        },
        "id": "l4rIaOBLGleR",
        "outputId": "f37c1982-bce3-4365-e758-763ae55f33c8"
      },
      "source": [
        "avarage = (lambda x, y: (x+y)/2)(3, 5)\n",
        "\n",
        "print(avarage)"
      ],
      "execution_count": null,
      "outputs": [
        {
          "output_type": "stream",
          "name": "stdout",
          "text": [
            "4.0\n"
          ]
        }
      ]
    },
    {
      "cell_type": "code",
      "metadata": {
        "colab": {
          "base_uri": "https://localhost:8080/"
        },
        "id": "hZwSCAxTG3X_",
        "outputId": "0dd49b3a-bd19-4ab8-f4c2-44a09c28ba81"
      },
      "source": [
        "avarage = lambda x, y: (x+y)/2\n",
        "\n",
        "print(avarage(3, 5))"
      ],
      "execution_count": null,
      "outputs": [
        {
          "output_type": "stream",
          "name": "stdout",
          "text": [
            "4.0\n"
          ]
        }
      ]
    },
    {
      "cell_type": "code",
      "metadata": {
        "colab": {
          "base_uri": "https://localhost:8080/"
        },
        "id": "Ma9yjRaOHddY",
        "outputId": "b1635d68-5255-4382-ff10-ea4e4981bea0"
      },
      "source": [
        "echo_word = lambda x, y: x * y\n",
        "\n",
        "print(echo_word('hello', 3))"
      ],
      "execution_count": null,
      "outputs": [
        {
          "output_type": "stream",
          "name": "stdout",
          "text": [
            "hellohellohello\n"
          ]
        }
      ]
    },
    {
      "cell_type": "code",
      "metadata": {
        "colab": {
          "base_uri": "https://localhost:8080/"
        },
        "id": "jTlFBm1EJZQk",
        "outputId": "58b087a3-762e-4deb-8ec1-7f97aedc795d"
      },
      "source": [
        "iterable = [1, 2, 3, 4, 5]\n",
        "\n",
        "map(lambda x:x**2, iterable)\n",
        "\n",
        "result = map(lambda x: x**2, iterable)\n",
        "\n",
        "print(type(result))\n",
        "\n",
        "print(list(result))\n",
        "\n",
        "print(list(map(lambda x:x**2, iterable)))"
      ],
      "execution_count": null,
      "outputs": [
        {
          "output_type": "stream",
          "name": "stdout",
          "text": [
            "<class 'map'>\n",
            "[1, 4, 9, 16, 25]\n",
            "[1, 4, 9, 16, 25]\n"
          ]
        }
      ]
    },
    {
      "cell_type": "code",
      "metadata": {
        "colab": {
          "base_uri": "https://localhost:8080/"
        },
        "id": "RAoiZMRlJaF0",
        "outputId": "40856572-7a38-4609-ff3d-6e91b443236b"
      },
      "source": [
        "def square(x):\n",
        "  return x ** 2\n",
        "\n",
        "iterable = [1, 2, 3, 4, 5]\n",
        "result = map(square, iterable)\n",
        "\n",
        "print(list(result))"
      ],
      "execution_count": null,
      "outputs": [
        {
          "output_type": "stream",
          "name": "stdout",
          "text": [
            "[1, 4, 9, 16, 25]\n"
          ]
        }
      ]
    },
    {
      "cell_type": "code",
      "metadata": {
        "colab": {
          "base_uri": "https://localhost:8080/"
        },
        "id": "8IbL46HfKw9K",
        "outputId": "8edcf8fd-de5f-4db5-ca25-8e1630b43bb7"
      },
      "source": [
        "letter1 = ['o', 's', 't', 't']\n",
        "letter2 = ['n', 'i', 'e', 'w']\n",
        "letter3 = ['e', 'x', 'n', 'o']\n",
        "\n",
        "numbers = map(lambda x,y,z: x+y+z, letter1, letter2, letter3)\n",
        "\n",
        "print(list(numbers))"
      ],
      "execution_count": null,
      "outputs": [
        {
          "output_type": "stream",
          "name": "stdout",
          "text": [
            "['one', 'six', 'ten', 'two']\n"
          ]
        }
      ]
    },
    {
      "cell_type": "code",
      "metadata": {
        "colab": {
          "base_uri": "https://localhost:8080/"
        },
        "id": "FFUcw-pSLMYh",
        "outputId": "128eba55-efc5-40e0-a349-ea39f6d3bc8d"
      },
      "source": [
        "number_list = [1, 2, 3, 4, 5]\n",
        "\n",
        "result = list(map(lambda x: 3 * x , number_list))\n",
        "print(result)"
      ],
      "execution_count": null,
      "outputs": [
        {
          "output_type": "stream",
          "name": "stdout",
          "text": [
            "[3, 6, 9, 12, 15]\n"
          ]
        }
      ]
    },
    {
      "cell_type": "code",
      "metadata": {
        "colab": {
          "base_uri": "https://localhost:8080/"
        },
        "id": "oWUlUDS7Lwe_",
        "outputId": "31e27f32-b1b4-4bd9-8199-d4c4802b1571"
      },
      "source": [
        "ages = [5, 12, 17, 18, 24, 32]\n",
        "\n",
        "def myFunc(x):\n",
        "  if x < 18:\n",
        "    return False\n",
        "  else:\n",
        "    return True\n",
        "\n",
        "adults = filter(myFunc, ages)\n",
        "\n",
        "for x in adults:\n",
        "  print(x)"
      ],
      "execution_count": null,
      "outputs": [
        {
          "output_type": "stream",
          "name": "stdout",
          "text": [
            "18\n",
            "24\n",
            "32\n"
          ]
        }
      ]
    },
    {
      "cell_type": "code",
      "metadata": {
        "colab": {
          "base_uri": "https://localhost:8080/"
        },
        "id": "-GqCK0pgdznS",
        "outputId": "8dcbd37b-3066-42e9-9778-b599e1c54944"
      },
      "source": [
        "vowel_list = ['a', 'e', 'i', 'o', 'u']\n",
        "first_ten = ['a', 'b', 'c', 'd', 'e', 'f', 'g', 'h', 'i', 'j']\n",
        "\n",
        "vowels = filter(lambda x: True if x in vowel_list else False, first_ten )\n",
        "\n",
        "print(\"Vowels are:\", list(vowels))"
      ],
      "execution_count": null,
      "outputs": [
        {
          "output_type": "stream",
          "name": "stdout",
          "text": [
            "Vowels are: ['a', 'e', 'i']\n"
          ]
        }
      ]
    },
    {
      "cell_type": "code",
      "metadata": {
        "colab": {
          "base_uri": "https://localhost:8080/"
        },
        "id": "c8oFbrMaeMvs",
        "outputId": "ee575ed9-8c0a-42c4-e4b5-b67e848d453e"
      },
      "source": [
        "vowel_list = ['a', 'e', 'i', 'o', 'u']\n",
        "first_ten = ['a', 'b', 'c', 'd', 'e', 'f', 'g', 'h', 'i', 'j']\n",
        "\n",
        "vowels = filter(lambda i: True if i in vowel_list else False, first_ten)\n",
        "\n",
        "print(list(vowels))"
      ],
      "execution_count": null,
      "outputs": [
        {
          "output_type": "stream",
          "name": "stdout",
          "text": [
            "['a', 'e', 'i']\n"
          ]
        }
      ]
    },
    {
      "cell_type": "code",
      "metadata": {
        "colab": {
          "base_uri": "https://localhost:8080/"
        },
        "id": "UaL0h901gpU3",
        "outputId": "8b12baaa-e5ce-43f6-d913-cc0dd06f13fd"
      },
      "source": [
        "number_list=[1, 2, 3, 4, 5, 6, 7, 8, 9, 10]\n",
        "\n",
        "result = list(filter(lambda x: True if x >= 6 else False, number_list))\n",
        "\n",
        "print(result)"
      ],
      "execution_count": null,
      "outputs": [
        {
          "output_type": "stream",
          "name": "stdout",
          "text": [
            "[6, 7, 8, 9, 10]\n"
          ]
        }
      ]
    },
    {
      "cell_type": "code",
      "metadata": {
        "colab": {
          "base_uri": "https://localhost:8080/"
        },
        "id": "lObgDLoYh8rt",
        "outputId": "82a0f317-34fc-4f77-80f5-e39a861ee1ce"
      },
      "source": [
        "def modular_function(n):\n",
        "  return lambda x: x ** n\n",
        "\n",
        "power_of_2 = modular_function(2)\n",
        "power_of_3 = modular_function(3)\n",
        "power_of_4 = modular_function(4)\n",
        "\n",
        "print(power_of_2(2))  # 2 to the power of 2\n",
        "print(power_of_3(2))  # 2 to the power of 3\n",
        "print(power_of_4(2))  # 2 to the power of 4"
      ],
      "execution_count": null,
      "outputs": [
        {
          "output_type": "stream",
          "name": "stdout",
          "text": [
            "4\n",
            "8\n",
            "16\n"
          ]
        }
      ]
    },
    {
      "cell_type": "code",
      "metadata": {
        "colab": {
          "base_uri": "https://localhost:8080/"
        },
        "id": "Vk89NkqFk7XY",
        "outputId": "87aecc23-0199-43a2-b267-a3d85a58312c"
      },
      "source": [
        "def repeater(n):\n",
        "  return lambda x: x * n\n",
        "\n",
        "repeat2 = repeater(2)\n",
        "\n",
        "print(repeat2('alex '))"
      ],
      "execution_count": null,
      "outputs": [
        {
          "output_type": "stream",
          "name": "stdout",
          "text": [
            "alex alex \n"
          ]
        }
      ]
    },
    {
      "cell_type": "code",
      "metadata": {
        "colab": {
          "base_uri": "https://localhost:8080/"
        },
        "id": "hsXC3s1jl7gd",
        "outputId": "7415e83c-28e8-4a1b-c663-64dcd3474713"
      },
      "source": [
        "def modular_function(n):\n",
        "    return lambda x: x ** n\n",
        "\n",
        "power_of_3 = modular_function(3)\n",
        "print(power_of_3(5))"
      ],
      "execution_count": null,
      "outputs": [
        {
          "output_type": "stream",
          "name": "stdout",
          "text": [
            "125\n"
          ]
        }
      ]
    },
    {
      "cell_type": "code",
      "metadata": {
        "colab": {
          "base_uri": "https://localhost:8080/"
        },
        "id": "1A7tq-iYl_1M",
        "outputId": "cae31d87-4233-4a5b-eb32-d689e7092ce1"
      },
      "source": [
        "print((lambda x: x**3)(5))"
      ],
      "execution_count": null,
      "outputs": [
        {
          "output_type": "stream",
          "name": "stdout",
          "text": [
            "125\n"
          ]
        }
      ]
    },
    {
      "cell_type": "code",
      "metadata": {
        "colab": {
          "base_uri": "https://localhost:8080/"
        },
        "id": "ePiUjMR1mB5s",
        "outputId": "1d8156b8-cb73-4fcc-c3bf-e7ca41c5cc71"
      },
      "source": [
        "mean = lambda x, y: (x+y)/2\n",
        "\n",
        "print(mean(8, 10))"
      ],
      "execution_count": null,
      "outputs": [
        {
          "output_type": "stream",
          "name": "stdout",
          "text": [
            "9.0\n"
          ]
        }
      ]
    },
    {
      "cell_type": "code",
      "metadata": {
        "colab": {
          "base_uri": "https://localhost:8080/"
        },
        "id": "_rL1qIP4mNIC",
        "outputId": "df670d1f-991e-4988-cdf6-99d075eae6c5"
      },
      "source": [
        "multiply = lambda x: x * 4\n",
        "\n",
        "add = lambda x, y: x + y\n",
        "\n",
        "print(add(multiply(10), 5))"
      ],
      "execution_count": null,
      "outputs": [
        {
          "output_type": "stream",
          "name": "stdout",
          "text": [
            "45\n"
          ]
        }
      ]
    },
    {
      "cell_type": "code",
      "metadata": {
        "colab": {
          "base_uri": "https://localhost:8080/"
        },
        "id": "5bYdGJbZov6W",
        "outputId": "dfeb9d58-ccfe-4759-cb86-d73560a3dc60"
      },
      "source": [
        "kisiler = ['Sinan', 'Erdinç', 'Mehmet']\n",
        "tarihler = [2018, 2017, 2020]\n",
        "\n",
        "print(zip(kisiler,tarihler))\n",
        "\n",
        "print(list(filter(lambda zipped:2018<=zipped[1]<=2020,zip(kisiler,tarihler))))"
      ],
      "execution_count": null,
      "outputs": [
        {
          "output_type": "stream",
          "name": "stdout",
          "text": [
            "<zip object at 0x7f5248fef780>\n",
            "[('Sinan', 2018), ('Mehmet', 2020)]\n"
          ]
        }
      ]
    },
    {
      "cell_type": "code",
      "metadata": {
        "colab": {
          "base_uri": "https://localhost:8080/"
        },
        "id": "fgoIWccHpTFu",
        "outputId": "7d7f5329-7329-4ad4-a162-fc3f2d2a6c49"
      },
      "source": [
        "number_list = [1, 2, 3, 4]\n",
        "\n",
        "result = map(lambda x:x**3, number_list)\n",
        "\n",
        "print(list(result))"
      ],
      "execution_count": null,
      "outputs": [
        {
          "output_type": "stream",
          "name": "stdout",
          "text": [
            "[1, 8, 27, 64]\n"
          ]
        }
      ]
    },
    {
      "cell_type": "code",
      "metadata": {
        "colab": {
          "base_uri": "https://localhost:8080/"
        },
        "id": "o12QZehopvxd",
        "outputId": "1e705aa9-32de-489b-8c7b-bc91cea7030d"
      },
      "source": [
        "number_list = [0, 1, 2, 3, 4, 5, 6, 7, 8, 9, 10, 11, 12] \n",
        "\n",
        "divisiable = filter(lambda x: x % 3 == 0, number_list)\n",
        "\n",
        "print(list(divisiable))"
      ],
      "execution_count": null,
      "outputs": [
        {
          "output_type": "stream",
          "name": "stdout",
          "text": [
            "[0, 3, 6, 9, 12]\n"
          ]
        }
      ]
    },
    {
      "cell_type": "code",
      "metadata": {
        "colab": {
          "base_uri": "https://localhost:8080/"
        },
        "id": "v8HbcTj9qftG",
        "outputId": "6af4d191-b97b-4691-ba56-cb3adf4951f4"
      },
      "source": [
        "number_list=[1, 2, 3, 4, 5]\n",
        "\n",
        "result= list(map(lambda x: x ** 2, number_list))\n",
        "\n",
        "print(result)"
      ],
      "execution_count": null,
      "outputs": [
        {
          "output_type": "stream",
          "name": "stdout",
          "text": [
            "[1, 4, 9, 16, 25]\n"
          ]
        }
      ]
    },
    {
      "cell_type": "code",
      "metadata": {
        "colab": {
          "base_uri": "https://localhost:8080/"
        },
        "id": "oqiiJQzDq8Rb",
        "outputId": "77c3888b-6de2-4db1-8f29-b21e1eff1103"
      },
      "source": [
        "number_list=[1, 2, 3, 4, 5, 6, 7, 8, 9, 10]\n",
        "\n",
        "result= list(filter(lambda x: True if x % 2 != 0 else False, number_list))\n",
        "\n",
        "print(result)"
      ],
      "execution_count": null,
      "outputs": [
        {
          "output_type": "stream",
          "name": "stdout",
          "text": [
            "[1, 3, 5, 7, 9]\n"
          ]
        }
      ]
    },
    {
      "cell_type": "code",
      "metadata": {
        "colab": {
          "base_uri": "https://localhost:8080/"
        },
        "id": "7EWirSXJww_Z",
        "outputId": "97816eef-d824-4863-fcf1-2338ee3e2ff0"
      },
      "source": [
        "given_list = [1,2,3,4,5]\n",
        "\n",
        "print(set(given_list))"
      ],
      "execution_count": null,
      "outputs": [
        {
          "output_type": "stream",
          "name": "stdout",
          "text": [
            "{1, 2, 3, 4, 5}\n"
          ]
        }
      ]
    },
    {
      "cell_type": "code",
      "metadata": {
        "colab": {
          "base_uri": "https://localhost:8080/"
        },
        "id": "kyxygy5PxrvB",
        "outputId": "ab40407c-d14c-44c0-8157-08de4bf7d2a3"
      },
      "source": [
        "s = set(\"unselfishness\")\n",
        "\n",
        "s"
      ],
      "execution_count": null,
      "outputs": [
        {
          "output_type": "execute_result",
          "data": {
            "text/plain": [
              "{'e', 'f', 'h', 'i', 'l', 'n', 's', 'u'}"
            ]
          },
          "metadata": {},
          "execution_count": 66
        }
      ]
    },
    {
      "cell_type": "code",
      "metadata": {
        "colab": {
          "base_uri": "https://localhost:8080/"
        },
        "id": "2R_7zSFa3XGA",
        "outputId": "7a718436-8081-4680-93bb-0abb4cd4e301"
      },
      "source": [
        "def who(first, last):\n",
        "  print(\"Your first name is: \", first)\n",
        "  print(\"Your last name is: \", last)\n",
        "\n",
        "print(who(\"murat\", \"yaralı\"))"
      ],
      "execution_count": null,
      "outputs": [
        {
          "output_type": "stream",
          "name": "stdout",
          "text": [
            "Your first name is:  murat\n",
            "Your last name is:  yaralı\n",
            "None\n"
          ]
        }
      ]
    },
    {
      "cell_type": "code",
      "metadata": {
        "colab": {
          "base_uri": "https://localhost:8080/"
        },
        "id": "bYLYGsQh5eeD",
        "outputId": "a78c0861-14ab-451a-9276-6870f8b775e3"
      },
      "source": [
        "def texter(c, a, b):\n",
        "  print(a, b, c)\n",
        "\n",
        "a = \"i\"\n",
        "b = \"love\"\n",
        "c = \"you\"\n",
        "\n",
        "texter(c, a, b)"
      ],
      "execution_count": null,
      "outputs": [
        {
          "output_type": "stream",
          "name": "stdout",
          "text": [
            "i love you\n"
          ]
        }
      ]
    },
    {
      "cell_type": "code",
      "metadata": {
        "colab": {
          "base_uri": "https://localhost:8080/"
        },
        "id": "PCJaz1NT7R7y",
        "outputId": "bfa7b947-3754-4d1a-983d-ee1ec5d04a90"
      },
      "source": [
        "texter(c = \"you\", b = \"love\", a = \"i\")"
      ],
      "execution_count": null,
      "outputs": [
        {
          "output_type": "stream",
          "name": "stdout",
          "text": [
            "i love you\n"
          ]
        }
      ]
    },
    {
      "cell_type": "code",
      "metadata": {
        "colab": {
          "base_uri": "https://localhost:8080/"
        },
        "id": "9KB0WJp97w8h",
        "outputId": "f861fb14-9c91-4092-e49f-8be0b9c656dc"
      },
      "source": [
        "def fonksiyon(x = \"ali\", y = 22):\n",
        "  print(x, y, \"yaşındadır\")\n",
        "\n",
        "fonksiyon()"
      ],
      "execution_count": null,
      "outputs": [
        {
          "output_type": "stream",
          "name": "stdout",
          "text": [
            "ali 22 yaşındadır\n"
          ]
        }
      ]
    },
    {
      "cell_type": "code",
      "metadata": {
        "colab": {
          "base_uri": "https://localhost:8080/"
        },
        "id": "0ZfihtV-899W",
        "outputId": "ff60ca86-24fe-414b-9c8b-5f60bd8b8d89"
      },
      "source": [
        "fonksiyon(x = \"deli\", y = 33)"
      ],
      "execution_count": null,
      "outputs": [
        {
          "output_type": "stream",
          "name": "stdout",
          "text": [
            "deli 33 yaşındadır\n"
          ]
        }
      ]
    },
    {
      "cell_type": "code",
      "metadata": {
        "colab": {
          "base_uri": "https://localhost:8080/"
        },
        "id": "kpS0U8zR9C01",
        "outputId": "3809cdf3-4f7c-4133-c8e2-749808a28802"
      },
      "source": [
        "fonksiyon(\"veli\", 40)"
      ],
      "execution_count": null,
      "outputs": [
        {
          "output_type": "stream",
          "name": "stdout",
          "text": [
            "veli 40 yaşındadır\n"
          ]
        }
      ]
    },
    {
      "cell_type": "code",
      "metadata": {
        "colab": {
          "base_uri": "https://localhost:8080/"
        },
        "id": "2rojpSLN9FNN",
        "outputId": "249d8b10-36f3-43be-cc58-a615617835ef"
      },
      "source": [
        "fonksiyon( y = 33, x = \"deli\")"
      ],
      "execution_count": null,
      "outputs": [
        {
          "output_type": "stream",
          "name": "stdout",
          "text": [
            "deli 33 yaşındadır\n"
          ]
        }
      ]
    },
    {
      "cell_type": "code",
      "metadata": {
        "colab": {
          "base_uri": "https://localhost:8080/"
        },
        "id": "5cBp794G9jbL",
        "outputId": "1ea11c27-8a36-427b-ddc4-0f0c39a817bf"
      },
      "source": [
        "fonksiyon(\"selin\")"
      ],
      "execution_count": null,
      "outputs": [
        {
          "output_type": "stream",
          "name": "stdout",
          "text": [
            "selin 22 yaşındadır\n"
          ]
        }
      ]
    },
    {
      "cell_type": "code",
      "metadata": {
        "id": "zVkU1Opu91UT"
      },
      "source": [
        "def parrot(voltage, state='a stiff', action='voom', type='Norwegian Blue'):\n",
        "    print(\"-- This parrot wouldn't\", action, end=' ')\n",
        "    print(\"if you put\", voltage, \"volts through it.\")\n",
        "    print(\"-- Lovely plumage, the\", type)\n",
        "    print(\"-- It's\", state, \"!\")"
      ],
      "execution_count": null,
      "outputs": []
    },
    {
      "cell_type": "code",
      "metadata": {
        "colab": {
          "base_uri": "https://localhost:8080/"
        },
        "id": "yAYdKOwo-B4z",
        "outputId": "a737ad20-f412-4377-e1dc-c0738a68793e"
      },
      "source": [
        "parrot(1000)"
      ],
      "execution_count": null,
      "outputs": [
        {
          "output_type": "stream",
          "name": "stdout",
          "text": [
            "-- This parrot wouldn't voom if you put 1000 volts through it.\n",
            "-- Lovely plumage, the Norwegian Blue\n",
            "-- It's a stiff !\n"
          ]
        }
      ]
    },
    {
      "cell_type": "code",
      "metadata": {
        "colab": {
          "base_uri": "https://localhost:8080/"
        },
        "id": "eA-sfGB4-3DZ",
        "outputId": "2499b7a7-2daf-4014-eeb4-8ca95a1ecf08"
      },
      "source": [
        "parrot(action = \"VOOOOOMM\", voltage = 1000000)"
      ],
      "execution_count": null,
      "outputs": [
        {
          "output_type": "stream",
          "name": "stdout",
          "text": [
            "-- This parrot wouldn't VOOOOOMM if you put 1000000 volts through it.\n",
            "-- Lovely plumage, the Norwegian Blue\n",
            "-- It's a stiff !\n"
          ]
        }
      ]
    },
    {
      "cell_type": "code",
      "metadata": {
        "colab": {
          "base_uri": "https://localhost:8080/"
        },
        "id": "flC0qjoGDNzj",
        "outputId": "5b22653f-515e-4dbf-fd6d-6a942902f134"
      },
      "source": [
        "parrot(\"a million\", \"bereft of life\", \"jump\")"
      ],
      "execution_count": null,
      "outputs": [
        {
          "output_type": "stream",
          "name": "stdout",
          "text": [
            "-- This parrot wouldn't jump if you put a million volts through it.\n",
            "-- Lovely plumage, the Norwegian Blue\n",
            "-- It's bereft of life !\n"
          ]
        }
      ]
    },
    {
      "cell_type": "code",
      "metadata": {
        "colab": {
          "base_uri": "https://localhost:8080/",
          "height": 130
        },
        "id": "9oosAPwEERu7",
        "outputId": "40eab827-4f29-4da3-fd9e-423a4a04240a"
      },
      "source": [
        "parrot(voltage=5, \"dead\")"
      ],
      "execution_count": null,
      "outputs": [
        {
          "output_type": "error",
          "ename": "SyntaxError",
          "evalue": "ignored",
          "traceback": [
            "\u001b[0;36m  File \u001b[0;32m\"<ipython-input-106-1e819ba30355>\"\u001b[0;36m, line \u001b[0;32m1\u001b[0m\n\u001b[0;31m    parrot(voltage=5, \"dead\")\u001b[0m\n\u001b[0m                     ^\u001b[0m\n\u001b[0;31mSyntaxError\u001b[0m\u001b[0;31m:\u001b[0m positional argument follows keyword argument\n"
          ]
        }
      ]
    },
    {
      "cell_type": "code",
      "metadata": {
        "colab": {
          "base_uri": "https://localhost:8080/"
        },
        "id": "-1ZWJXqLEs8P",
        "outputId": "717ce2d8-b1fe-48ab-d1b3-85b8a839f197"
      },
      "source": [
        "parrot(\"a billion\", state= \"ball\")"
      ],
      "execution_count": null,
      "outputs": [
        {
          "output_type": "stream",
          "name": "stdout",
          "text": [
            "-- This parrot wouldn't voom if you put a billion volts through it.\n",
            "-- Lovely plumage, the Norwegian Blue\n",
            "-- It's ball !\n"
          ]
        }
      ]
    },
    {
      "cell_type": "code",
      "metadata": {
        "id": "cMZVXBrFE7yW"
      },
      "source": [
        "def argu(a, c, b = \"dünya\", d = \"saturn\"):\n",
        "  print(a,b,c,d, sep=\"\\n\")"
      ],
      "execution_count": null,
      "outputs": []
    },
    {
      "cell_type": "code",
      "metadata": {
        "colab": {
          "base_uri": "https://localhost:8080/"
        },
        "id": "-LZxJuvsGRcF",
        "outputId": "1569b791-09fb-48e1-955b-3a76359bf803"
      },
      "source": [
        "argu(a = \"uranüs\", c = \"jupiter\")"
      ],
      "execution_count": null,
      "outputs": [
        {
          "output_type": "stream",
          "name": "stdout",
          "text": [
            "uranüs\n",
            "dünya\n",
            "jupiter\n",
            "saturn\n"
          ]
        }
      ]
    },
    {
      "cell_type": "code",
      "metadata": {
        "colab": {
          "base_uri": "https://localhost:8080/"
        },
        "id": "zlAPKN3UGi6s",
        "outputId": "1f526787-483b-4f96-8746-84fa5aa763bd"
      },
      "source": [
        "argu(\"uranüs\", \"jüpiter\")"
      ],
      "execution_count": null,
      "outputs": [
        {
          "output_type": "stream",
          "name": "stdout",
          "text": [
            "uranüs\n",
            "dünya\n",
            "jüpiter\n",
            "saturn\n"
          ]
        }
      ]
    },
    {
      "cell_type": "code",
      "metadata": {
        "colab": {
          "base_uri": "https://localhost:8080/",
          "height": 130
        },
        "id": "IloAfnx8HGdj",
        "outputId": "42efb5c2-a5dd-4fa2-90c9-3626557c1d63"
      },
      "source": [
        "argu(\"plüton\", c = \"venüs\", \"mars\")"
      ],
      "execution_count": null,
      "outputs": [
        {
          "output_type": "error",
          "ename": "SyntaxError",
          "evalue": "ignored",
          "traceback": [
            "\u001b[0;36m  File \u001b[0;32m\"<ipython-input-122-4be3b19e403f>\"\u001b[0;36m, line \u001b[0;32m1\u001b[0m\n\u001b[0;31m    argu(\"plüton\", c = \"venüs\", \"mars\")\u001b[0m\n\u001b[0m                                 ^\u001b[0m\n\u001b[0;31mSyntaxError\u001b[0m\u001b[0;31m:\u001b[0m positional argument follows keyword argument\n"
          ]
        }
      ]
    },
    {
      "cell_type": "code",
      "metadata": {
        "colab": {
          "base_uri": "https://localhost:8080/",
          "height": 130
        },
        "id": "umJBd7X3HZda",
        "outputId": "ba639d19-3c8a-4182-ca28-04cd79516896"
      },
      "source": [
        "argu(\"plüton\", \"mars\" c = \"venüs\")"
      ],
      "execution_count": null,
      "outputs": [
        {
          "output_type": "error",
          "ename": "SyntaxError",
          "evalue": "ignored",
          "traceback": [
            "\u001b[0;36m  File \u001b[0;32m\"<ipython-input-124-fd3cd45a7bc8>\"\u001b[0;36m, line \u001b[0;32m1\u001b[0m\n\u001b[0;31m    argu(\"plüton\", \"mars\" c = \"venüs\")\u001b[0m\n\u001b[0m                          ^\u001b[0m\n\u001b[0;31mSyntaxError\u001b[0m\u001b[0;31m:\u001b[0m invalid syntax\n"
          ]
        }
      ]
    },
    {
      "cell_type": "code",
      "metadata": {
        "colab": {
          "base_uri": "https://localhost:8080/"
        },
        "id": "71oisVGzHzhZ",
        "outputId": "21cee2d8-6a5b-4f2d-934a-456f640ee034"
      },
      "source": [
        "argu(d = \"güneş\", a = \"dünya\", c = \"plüton\", b = \"venüs\")"
      ],
      "execution_count": null,
      "outputs": [
        {
          "output_type": "stream",
          "name": "stdout",
          "text": [
            "dünya\n",
            "venüs\n",
            "plüton\n",
            "güneş\n"
          ]
        }
      ]
    },
    {
      "cell_type": "code",
      "metadata": {
        "colab": {
          "base_uri": "https://localhost:8080/"
        },
        "id": "U6cexYIiH_xZ",
        "outputId": "3000711c-ca91-48a6-8dc3-2224c6e74ecf"
      },
      "source": [
        "argu(\"güneş\", \"dünya\", \"plüton\", \"venüs\")"
      ],
      "execution_count": null,
      "outputs": [
        {
          "output_type": "stream",
          "name": "stdout",
          "text": [
            "güneş\n",
            "plüton\n",
            "dünya\n",
            "venüs\n"
          ]
        }
      ]
    },
    {
      "cell_type": "code",
      "metadata": {
        "colab": {
          "base_uri": "https://localhost:8080/"
        },
        "id": "5eotGb2yLBS1",
        "outputId": "c0aa21b9-fa5f-48a7-f545-edc2449306b4"
      },
      "source": [
        "\"11.1\".isdigit()"
      ],
      "execution_count": null,
      "outputs": [
        {
          "output_type": "execute_result",
          "data": {
            "text/plain": [
              "False"
            ]
          },
          "metadata": {},
          "execution_count": 130
        }
      ]
    },
    {
      "cell_type": "code",
      "metadata": {
        "colab": {
          "base_uri": "https://localhost:8080/"
        },
        "id": "qdKb3IQULR-k",
        "outputId": "23b2c09c-425e-4807-cb0e-ba0973600537"
      },
      "source": [
        "\"111\".isdigit()"
      ],
      "execution_count": null,
      "outputs": [
        {
          "output_type": "execute_result",
          "data": {
            "text/plain": [
              "True"
            ]
          },
          "metadata": {},
          "execution_count": 131
        }
      ]
    },
    {
      "cell_type": "code",
      "metadata": {
        "colab": {
          "base_uri": "https://localhost:8080/"
        },
        "id": "qO1nXobDLUir",
        "outputId": "dd109351-6916-4c36-caf9-9103b372d5c4"
      },
      "source": [
        "\"-22\".isdigit()"
      ],
      "execution_count": null,
      "outputs": [
        {
          "output_type": "execute_result",
          "data": {
            "text/plain": [
              "False"
            ]
          },
          "metadata": {},
          "execution_count": 133
        }
      ]
    },
    {
      "cell_type": "code",
      "metadata": {
        "colab": {
          "base_uri": "https://localhost:8080/"
        },
        "id": "nMOwRAcCLvvb",
        "outputId": "98231e7c-2b0c-40d6-b1ac-af21fd10bff4"
      },
      "source": [
        "while True:\n",
        "\n",
        "  number = input(\"Enter a positive number: \")\n",
        "  digits = len(number)\n",
        "  summ = 0\n",
        "\n",
        "  if not number.isdigit():\n",
        "    print(number, \"is invalid entry. Enter a valid input\")\n",
        "\n",
        "  elif int(number) >= 0:\n",
        "    for i in range(digits):\n",
        "      summ += int(number[i]) ** digits\n",
        "    \n",
        "    if summ == int(number):\n",
        "      print(number, \"is an Armstrong Number\")\n",
        "      break\n",
        "      \n",
        "    else:\n",
        "      print(number, \"is not an Armstrong Number\")\n",
        "      break"
      ],
      "execution_count": null,
      "outputs": [
        {
          "output_type": "stream",
          "name": "stdout",
          "text": [
            "Enter a positive number: 63105425988599693916\n",
            "63105425988599693916 is an Armstrong Number\n"
          ]
        }
      ]
    },
    {
      "cell_type": "code",
      "metadata": {
        "colab": {
          "base_uri": "https://localhost:8080/"
        },
        "id": "0lFGw2W4Tocb",
        "outputId": "4e06b087-1c24-4a6c-c05b-b9de71b88be2"
      },
      "source": [
        "n = int(input(\"Enter a positive number to check if it is a Prime Number: \"))\n",
        "counter = 0\n",
        "\n",
        "for i in range(1, n+1) :\n",
        "    if n % i == 0 :\n",
        "        counter += 1\n",
        "        \n",
        "if (n == 0) or (n == 1) or (counter >= 3) :\n",
        "    print(n, \"is not a Prime Number\")\n",
        "    \n",
        "else :\n",
        "    print(n, \"is a Prime Number\")"
      ],
      "execution_count": null,
      "outputs": [
        {
          "output_type": "stream",
          "name": "stdout",
          "text": [
            "Enter a positive number to check if it is a Prime Number: 22\n",
            "22 is not a Prime Number\n"
          ]
        }
      ]
    }
  ]
}