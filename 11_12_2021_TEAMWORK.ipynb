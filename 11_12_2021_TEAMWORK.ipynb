{
  "nbformat": 4,
  "nbformat_minor": 0,
  "metadata": {
    "colab": {
      "name": "11.12.2021 TEAMWORK.ipynb",
      "provenance": [],
      "authorship_tag": "ABX9TyONrZLUV7uKd3dthX9EEywh",
      "include_colab_link": true
    },
    "kernelspec": {
      "name": "python3",
      "display_name": "Python 3"
    },
    "language_info": {
      "name": "python"
    }
  },
  "cells": [
    {
      "cell_type": "markdown",
      "metadata": {
        "id": "view-in-github",
        "colab_type": "text"
      },
      "source": [
        "<a href=\"https://colab.research.google.com/github/MuratYarali/Python-Studies/blob/main/11_12_2021_TEAMWORK.ipynb\" target=\"_parent\"><img src=\"https://colab.research.google.com/assets/colab-badge.svg\" alt=\"Open In Colab\"/></a>"
      ]
    },
    {
      "cell_type": "code",
      "metadata": {
        "id": "SCXLlf6tMgx3"
      },
      "source": [
        "#SORU-1\n",
        "\n",
        "a = [1,2,3,4]\n",
        "print(a, end=\"\\n\"*2)\n",
        "\n",
        "b = a\n",
        "a.append(5)\n",
        "\n",
        "print(a)\n",
        "print(b)"
      ],
      "execution_count": null,
      "outputs": []
    },
    {
      "cell_type": "code",
      "metadata": {
        "id": "Tn_65kkC707_"
      },
      "source": [
        "# SORU-2\n",
        "\n",
        "a = [1,2,3,4]\n",
        "b=a.copy()\n",
        "\n",
        "print(a)\n",
        "print(b, end=\"\\n\"*2)\n",
        "\n",
        "a.append(5)\n",
        "print(a)\n",
        "print(b)"
      ],
      "execution_count": null,
      "outputs": []
    },
    {
      "cell_type": "code",
      "metadata": {
        "colab": {
          "base_uri": "https://localhost:8080/"
        },
        "id": "pCqJKZqX-gvq",
        "outputId": "57bf56dd-e793-4a21-9e74-cdc2be274090"
      },
      "source": [
        "#SORU-3\n",
        "\n",
        "fruits = ['apple', 'banana', 'cherry']\n",
        "\n",
        "cars = ['Ford', 'BMW', 'Volvo']\n",
        "\n",
        "fruits.extend(cars)\n",
        "\n",
        "print(fruits)"
      ],
      "execution_count": 9,
      "outputs": [
        {
          "output_type": "stream",
          "name": "stdout",
          "text": [
            "['apple', 'banana', 'cherry', 'Ford', 'BMW', 'Volvo']\n"
          ]
        }
      ]
    },
    {
      "cell_type": "code",
      "metadata": {
        "id": "D1ewyNFZ_LVh"
      },
      "source": [
        "#SORU-3\n",
        "\n",
        "L1 = []\n",
        "L1.append([1, [2, 3], 4])\n",
        "\n",
        "print(L1)"
      ],
      "execution_count": null,
      "outputs": []
    },
    {
      "cell_type": "code",
      "metadata": {
        "id": "-jzoAxMg_bu8"
      },
      "source": [
        "#SORU-3\n",
        "\n",
        "L1 = []\n",
        "L1.append([1, [2, 3], 4])\n",
        "\n",
        "print(L1)\n",
        "\n",
        "L1.extend([7, 8, 9])\n",
        "print(L1)\n",
        "\n",
        "print(L1[0][1][1] + L1[2])"
      ],
      "execution_count": null,
      "outputs": []
    },
    {
      "cell_type": "code",
      "metadata": {
        "id": "FjumE4jcAwbf"
      },
      "source": [
        "# SORU-4\n",
        "\n",
        "T = (1, 2, 3, 4, 5, 6, 7, 8)\n",
        "\n",
        "print(T[T.index(5)], end = \" \")\n",
        "\n",
        "print(T[T[T[6]-3]-6])"
      ],
      "execution_count": null,
      "outputs": []
    },
    {
      "cell_type": "code",
      "metadata": {
        "id": "To-FEW4ZDiwq"
      },
      "source": [
        "# SORU-5\n",
        "\n",
        "D = {1 : 1, 2 : '2', '1' : 1, '2' : 3}\n",
        "D['1'] = 2\n",
        "\n",
        "D = {1 : 1, 2 : '2', '1' : 2, '2' : 3}\n",
        "\n",
        "print(D)\n",
        "\n",
        "print(D[D[D[str(D[1])]]])"
      ],
      "execution_count": null,
      "outputs": []
    },
    {
      "cell_type": "code",
      "metadata": {
        "colab": {
          "base_uri": "https://localhost:8080/"
        },
        "id": "b1NWKwegGwHj",
        "outputId": "b02de490-1ad4-4d6a-85f3-697bdad548be"
      },
      "source": [
        "# SORU-6\n",
        "\n",
        "set1 = {1, 2, 3}\n",
        "\n",
        "set2 = set1.copy()\n",
        "\n",
        "set2.add(4)\n",
        "\n",
        "print(set1)\n",
        "\n",
        "print(set2)"
      ],
      "execution_count": 19,
      "outputs": [
        {
          "output_type": "stream",
          "name": "stdout",
          "text": [
            "{1, 2, 3}\n",
            "{1, 2, 3, 4}\n"
          ]
        }
      ]
    }
  ]
}