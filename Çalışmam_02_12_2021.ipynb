{
  "nbformat": 4,
  "nbformat_minor": 0,
  "metadata": {
    "colab": {
      "name": "Çalışmam 02.12.2021.ipynb",
      "provenance": [],
      "collapsed_sections": [],
      "authorship_tag": "ABX9TyN48tWz4siHromBoJUV16aB",
      "include_colab_link": true
    },
    "kernelspec": {
      "name": "python3",
      "display_name": "Python 3"
    },
    "language_info": {
      "name": "python"
    }
  },
  "cells": [
    {
      "cell_type": "markdown",
      "metadata": {
        "id": "view-in-github",
        "colab_type": "text"
      },
      "source": [
        "<a href=\"https://colab.research.google.com/github/MuratYarali/Python-Studies/blob/main/%C3%87al%C4%B1%C5%9Fmam_02_12_2021.ipynb\" target=\"_parent\"><img src=\"https://colab.research.google.com/assets/colab-badge.svg\" alt=\"Open In Colab\"/></a>"
      ]
    },
    {
      "cell_type": "code",
      "metadata": {
        "colab": {
          "base_uri": "https://localhost:8080/"
        },
        "id": "yHbevjsNJfNT",
        "outputId": "ff628a3a-ec70-4baa-97ca-0dbd7aad0bb0"
      },
      "source": [
        "def my_function_1(a,b):\n",
        "  area = a * b\n",
        "  return area\n",
        "\n",
        "def my_function_2(a,b):\n",
        "  hypotenuse = (a ** 2 + b ** 2) ** 0.5\n",
        "  return hypotenuse\n",
        "\n",
        "print(my_function_1(b=20, a=10))\n",
        "print(my_function_2(a=30, b=40))  "
      ],
      "execution_count": 13,
      "outputs": [
        {
          "output_type": "stream",
          "name": "stdout",
          "text": [
            "200\n",
            "50.0\n"
          ]
        }
      ]
    },
    {
      "cell_type": "code",
      "metadata": {
        "colab": {
          "base_uri": "https://localhost:8080/"
        },
        "id": "U_r6X9ObQi4i",
        "outputId": "ce8fd639-6393-4c0a-f551-9af073da60c0"
      },
      "source": [
        "print(\"hello\")\n",
        "\n",
        "def my_func1(x):\n",
        "  return print(x ** 2)\n",
        "\n",
        "my_func1(3)\n",
        "\n",
        "def my_func2(y):\n",
        "  return print(*y)\n",
        "\n",
        "my_func2(\"clarusway\")"
      ],
      "execution_count": 17,
      "outputs": [
        {
          "output_type": "stream",
          "name": "stdout",
          "text": [
            "hello\n",
            "9\n",
            "c l a r u s w a y\n"
          ]
        }
      ]
    }
  ]
}