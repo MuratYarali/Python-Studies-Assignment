{
  "nbformat": 4,
  "nbformat_minor": 0,
  "metadata": {
    "colab": {
      "name": "Çalışmam 17.11.2021.ipynb",
      "provenance": [],
      "collapsed_sections": [],
      "authorship_tag": "ABX9TyP2joRtFhAJE8QsCGBHwgGR",
      "include_colab_link": true
    },
    "kernelspec": {
      "name": "python3",
      "display_name": "Python 3"
    },
    "language_info": {
      "name": "python"
    }
  },
  "cells": [
    {
      "cell_type": "markdown",
      "metadata": {
        "id": "view-in-github",
        "colab_type": "text"
      },
      "source": [
        "<a href=\"https://colab.research.google.com/github/MuratYarali/Python-Studies/blob/main/%C3%87al%C4%B1%C5%9Fmam_17_11_2021.ipynb\" target=\"_parent\"><img src=\"https://colab.research.google.com/assets/colab-badge.svg\" alt=\"Open In Colab\"/></a>"
      ]
    },
    {
      "cell_type": "code",
      "metadata": {
        "id": "1xV6K5K6q197",
        "colab": {
          "base_uri": "https://localhost:8080/"
        },
        "outputId": "fafe43ad-fef9-4a2c-f4a8-f85226b0fc01"
      },
      "source": [
        "def parrot(voltage, state='a stiff', action='voom', type='Norwegian Blue'):\n",
        "    print(\"-- This parrot wouldn't\", action, end=' ')\n",
        "    print(\"if you put\", voltage, \"volts through it.\")\n",
        "    print(\"-- Lovely plumage, the\", type)\n",
        "    print(\"-- It's\", state, \"!\")\n",
        "\n",
        "\n",
        "# parrot(1000)                                          # 1 positional argument\n",
        "# parrot(voltage=1000)                                  # 1 keyword argument\n",
        "# parrot(voltage=1000000, action='VOOOOOM')             # 2 keyword arguments\n",
        "# parrot(action='VOOOOOM', voltage=1000000)             # 2 keyword arguments \n",
        "# parrot('a million', 'bereft of life', 'jump')         # 3 positional arguments\n",
        "parrot('a thousand', state='pushing up the daisies')"
      ],
      "execution_count": null,
      "outputs": [
        {
          "output_type": "stream",
          "name": "stdout",
          "text": [
            "-- This parrot wouldn't voom if you put a thousand volts through it.\n",
            "-- Lovely plumage, the Norwegian Blue\n",
            "-- It's pushing up the daisies !\n"
          ]
        }
      ]
    },
    {
      "cell_type": "code",
      "metadata": {
        "colab": {
          "base_uri": "https://localhost:8080/"
        },
        "id": "_XbMCYDuhQ5s",
        "outputId": "3331f449-ad95-4b41-f203-f16fbba86356"
      },
      "source": [
        "def city(capital, continent='Europe'):\n",
        "    print(capital, 'in', continent)\n",
        "\n",
        "# city('Athens')  # we don't have to pass any arguments into 'continent'\n",
        "# city('Ulaanbaatar', continent='Asia')  # we can change the default value by kwargs\n",
        "city('Cape Town', 'Africa')  # we can change the default value by positional args."
      ],
      "execution_count": null,
      "outputs": [
        {
          "output_type": "stream",
          "name": "stdout",
          "text": [
            "Cape Town in Africa\n"
          ]
        }
      ]
    },
    {
      "cell_type": "code",
      "metadata": {
        "colab": {
          "base_uri": "https://localhost:8080/",
          "height": 208
        },
        "id": "4R8rS4dvFVYy",
        "outputId": "5c8bd060-3416-490a-845f-ed93f40f6bd3"
      },
      "source": [
        "def brothers(bro1, bro2, bro3):\n",
        "  print(\"Here are the names of brothers\")\n",
        "  print(bro1, bro2, bro3, sep = \"\\n\")\n",
        "\n",
        "family = ['tom', 'sue', 'tim']\n",
        "\n",
        "brothers(*family)"
      ],
      "execution_count": null,
      "outputs": [
        {
          "output_type": "error",
          "ename": "TypeError",
          "evalue": "ignored",
          "traceback": [
            "\u001b[0;31m---------------------------------------------------------------------------\u001b[0m",
            "\u001b[0;31mTypeError\u001b[0m                                 Traceback (most recent call last)",
            "\u001b[0;32m<ipython-input-5-22cdd8ee629b>\u001b[0m in \u001b[0;36m<module>\u001b[0;34m()\u001b[0m\n\u001b[1;32m      5\u001b[0m \u001b[0mfamily\u001b[0m \u001b[0;34m=\u001b[0m \u001b[0;34m[\u001b[0m\u001b[0;34m'tom'\u001b[0m\u001b[0;34m,\u001b[0m \u001b[0;34m'sue'\u001b[0m\u001b[0;34m,\u001b[0m \u001b[0;34m'tim'\u001b[0m\u001b[0;34m,\u001b[0m \u001b[0;34m\"polo\"\u001b[0m\u001b[0;34m]\u001b[0m\u001b[0;34m\u001b[0m\u001b[0;34m\u001b[0m\u001b[0m\n\u001b[1;32m      6\u001b[0m \u001b[0;34m\u001b[0m\u001b[0m\n\u001b[0;32m----> 7\u001b[0;31m \u001b[0mbrothers\u001b[0m\u001b[0;34m(\u001b[0m\u001b[0;34m*\u001b[0m\u001b[0mfamily\u001b[0m\u001b[0;34m)\u001b[0m\u001b[0;34m\u001b[0m\u001b[0;34m\u001b[0m\u001b[0m\n\u001b[0m",
            "\u001b[0;31mTypeError\u001b[0m: brothers() takes 3 positional arguments but 4 were given"
          ]
        }
      ]
    },
    {
      "cell_type": "code",
      "metadata": {
        "colab": {
          "base_uri": "https://localhost:8080/"
        },
        "id": "XXtVxrdqGiWo",
        "outputId": "8eb20447-fcec-4617-ad0a-cf9942c09bb9"
      },
      "source": [
        "def gene(x, y):\n",
        "    print(x, \"belongs to Generation X\")\n",
        "    print(y, \"belongs to Generation Y\")\n",
        "\n",
        "dict_gene = {\"y\" : \"Marry\", \"x\" : \"Fred\"}\n",
        "\n",
        "gene(**dict_gene)\n"
      ],
      "execution_count": null,
      "outputs": [
        {
          "output_type": "stream",
          "name": "stdout",
          "text": [
            "Fred belongs to Generation X\n",
            "Marry belongs to Generation Y\n"
          ]
        }
      ]
    },
    {
      "cell_type": "code",
      "metadata": {
        "colab": {
          "base_uri": "https://localhost:8080/"
        },
        "id": "S8xt_LhSHz3d",
        "outputId": "9a0dfa40-ed44-4c1d-c0e1-e1633536544c"
      },
      "source": [
        "def gene(x=\"Solomon\", y=\"David\"):\n",
        "  print(x, \"belongs to Generation X\")\n",
        "  print(y, \"belongs to Generation Y\")\n",
        "\n",
        "dict_gene = {\"y\" : \"Marry\", \"x\" : \"Fred\"}\n",
        "\n",
        "gene(**dict_gene)"
      ],
      "execution_count": null,
      "outputs": [
        {
          "output_type": "stream",
          "name": "stdout",
          "text": [
            "Fred belongs to Generation X\n",
            "Marry belongs to Generation Y\n"
          ]
        }
      ]
    },
    {
      "cell_type": "code",
      "metadata": {
        "colab": {
          "base_uri": "https://localhost:8080/"
        },
        "id": "zHch2-tNK36w",
        "outputId": "4f777bfc-9795-4a80-8415-ebfde0511fa6"
      },
      "source": [
        "def get_initial(name, force_uppercase=True):\n",
        "  initial = name[0:1].upper()\n",
        "  return initial\n",
        "\n",
        "first_name = input(\"Enter your first name: \")\n",
        "first_name_initial = get_initial(first_name, False)\n",
        "\n",
        "print(\"Your initial is: \" + first_name_initial)"
      ],
      "execution_count": null,
      "outputs": [
        {
          "output_type": "stream",
          "name": "stdout",
          "text": [
            "Enter your first name: murat\n",
            "Your initial is: M\n"
          ]
        }
      ]
    },
    {
      "cell_type": "code",
      "metadata": {
        "colab": {
          "base_uri": "https://localhost:8080/"
        },
        "id": "kk0SXoQudw4u",
        "outputId": "36e1dffa-e99b-4e2b-f537-c41ebba483b0"
      },
      "source": [
        "number = input(\"Please enter an integer number: \")\n",
        "power = len(number)\n",
        "sonuc = 0\n",
        "if number.startswith(\"-\"):\n",
        "    print(\"It is an invalid entry. Don't use non-numeric, float, or\\\n",
        "    negative values!\")\n",
        "elif \".\" in number or \",\" in number:\n",
        "    print(\"It is an invalid entry. Don't use non-numeric, float, or\\\n",
        "    negative values!\")\n",
        "elif not number.isdigit():\n",
        "    print(\"It is an invalid entry. Don't use non-numeric, float, or\\\n",
        "    negative values!\")\n",
        "else:\n",
        "    for i in number:\n",
        "        sonuc += int(i) ** power\n",
        "    if int(number) == sonuc:\n",
        "        print(number + \" is an Armstrong number\")\n",
        "    else:\n",
        "        print(number + \" is not an Armstrong number\")"
      ],
      "execution_count": null,
      "outputs": [
        {
          "output_type": "stream",
          "name": "stdout",
          "text": [
            "Please enter an integer number: 121\n",
            "121 is not an Armstrong number\n"
          ]
        }
      ]
    },
    {
      "cell_type": "code",
      "metadata": {
        "colab": {
          "base_uri": "https://localhost:8080/"
        },
        "id": "aIF5jdtJoFWW",
        "outputId": "14f3f564-ce33-4053-c7e8-7f01589f3996"
      },
      "source": [
        "num = input(\"Enter a positive integer number: \")\n",
        "sonuç = 0\n",
        "\n",
        "if int(num) <= 0:\n",
        "  print(\"It is an invalid entry. Don't use non-numeric, float,\\\n",
        "  or negative values!\")"
      ],
      "execution_count": null,
      "outputs": [
        {
          "name": "stdout",
          "output_type": "stream",
          "text": [
            "Enter a positive integer number: 33\n"
          ]
        }
      ]
    },
    {
      "cell_type": "code",
      "metadata": {
        "colab": {
          "base_uri": "https://localhost:8080/",
          "height": 135
        },
        "id": "OckLL488DDiZ",
        "outputId": "89f4db8e-6ad4-41e1-f393-307efb7327eb"
      },
      "source": [
        "def get_initial(name, force_uppercase=True):\n",
        "  if force_uppercase:\n",
        "    initial = name[0:1].upper()\n",
        "  else:\n",
        "    initial = name[0:1]\n",
        "  return initial\n",
        "\n",
        "first_name = input(\"Enter your first name: \")\n",
        "first_name_initial = get_initial(force_uppercase=False, name = first_name)\n",
        "\n",
        "print(\"Your initial is: \" + first_name_initial)"
      ],
      "execution_count": null,
      "outputs": [
        {
          "output_type": "error",
          "ename": "SyntaxError",
          "evalue": "ignored",
          "traceback": [
            "\u001b[0;36m  File \u001b[0;32m\"<ipython-input-26-0aee491f0b7c>\"\u001b[0;36m, line \u001b[0;32m9\u001b[0m\n\u001b[0;31m    first_name_initial = get_initial(force_uppercase=False, name)\u001b[0m\n\u001b[0m                                                           ^\u001b[0m\n\u001b[0;31mSyntaxError\u001b[0m\u001b[0;31m:\u001b[0m positional argument follows keyword argument\n"
          ]
        }
      ]
    },
    {
      "cell_type": "code",
      "metadata": {
        "colab": {
          "base_uri": "https://localhost:8080/"
        },
        "id": "E192iKv4Fm2u",
        "outputId": "28499898-54d1-407c-cb83-bca85229a54e"
      },
      "source": [
        "def team_names(*teams) :\n",
        "  print('The teams in Premier League are :')\n",
        "  for i in teams :\n",
        "    print('-', i)\n",
        "\n",
        "team_names('Liverpool', 'M.United', 'M.City', 'Arsenal')"
      ],
      "execution_count": null,
      "outputs": [
        {
          "output_type": "stream",
          "name": "stdout",
          "text": [
            "The teams in Premier League are :\n",
            "- Liverpool\n",
            "- M.United\n",
            "- M.City\n",
            "- Arsenal\n"
          ]
        }
      ]
    },
    {
      "cell_type": "code",
      "metadata": {
        "colab": {
          "base_uri": "https://localhost:8080/"
        },
        "id": "6DtnyK9GNXTo",
        "outputId": "ec24dd97-196d-4906-f502-6f37bdecd382"
      },
      "source": [
        "def team_league(team, league='Premier League'):\n",
        "    print(team, 'in', league)\n",
        "\n",
        "team_league('Liverpool')"
      ],
      "execution_count": null,
      "outputs": [
        {
          "output_type": "stream",
          "name": "stdout",
          "text": [
            "Liverpool in Premier League\n"
          ]
        }
      ]
    },
    {
      "cell_type": "code",
      "metadata": {
        "id": "qZkA8KCyN_-J"
      },
      "source": [
        "def my_function(first, last) : \n",
        "    print('Your first name is :', first)\n",
        "    print('Your last name is :', last)\n",
        "\n",
        "my_function(first='Richard', last='Rice') "
      ],
      "execution_count": null,
      "outputs": []
    },
    {
      "cell_type": "code",
      "metadata": {
        "id": "UEZTCpXH-Zem"
      },
      "source": [
        "number = int(input(\"Bir sayı giriniz: \"))\n",
        "listem = []\n",
        "\n",
        "for i in range(2, number+1):\n",
        "  if number % i == 0:\n",
        "    listem.append(i)\n",
        "if len(listem) == 1:\n",
        "  print(f\"{number} bir asal sayıdır\")\n",
        "else:\n",
        "  print(f\"{number} bir asal sayı değildir\")"
      ],
      "execution_count": null,
      "outputs": []
    }
  ]
}