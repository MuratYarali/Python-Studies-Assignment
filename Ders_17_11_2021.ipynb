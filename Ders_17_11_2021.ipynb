{
  "nbformat": 4,
  "nbformat_minor": 0,
  "metadata": {
    "colab": {
      "name": "Ders 17.11.2021.ipynb",
      "provenance": [],
      "collapsed_sections": [],
      "authorship_tag": "ABX9TyNh3gfZQzMkkHtbe+ngudY1",
      "include_colab_link": true
    },
    "kernelspec": {
      "name": "python3",
      "display_name": "Python 3"
    },
    "language_info": {
      "name": "python"
    }
  },
  "cells": [
    {
      "cell_type": "markdown",
      "metadata": {
        "id": "view-in-github",
        "colab_type": "text"
      },
      "source": [
        "<a href=\"https://colab.research.google.com/github/MuratYarali/Python-Studies/blob/main/Ders_17_11_2021.ipynb\" target=\"_parent\"><img src=\"https://colab.research.google.com/assets/colab-badge.svg\" alt=\"Open In Colab\"/></a>"
      ]
    },
    {
      "cell_type": "code",
      "metadata": {
        "colab": {
          "base_uri": "https://localhost:8080/"
        },
        "id": "R0i-w9JvJUsC",
        "outputId": "4c851797-23cf-407f-ae82-64524f18ecbb"
      },
      "source": [
        "listA = [\"susan\", \"tom\", False, 0 , 22]\n",
        "\n",
        "filtered_list= filter(None, listA)\n",
        "\n",
        "print(\"The filterede elements are: \")\n",
        "\n",
        "for i in filtered_list:\n",
        "  print(i)"
      ],
      "execution_count": null,
      "outputs": [
        {
          "output_type": "stream",
          "name": "stdout",
          "text": [
            "The filterede elements are: \n",
            "susan\n",
            "tom\n",
            "22\n"
          ]
        }
      ]
    },
    {
      "cell_type": "code",
      "metadata": {
        "colab": {
          "base_uri": "https://localhost:8080/"
        },
        "id": "hR1BUwovKyk0",
        "outputId": "b5afeb91-3bcc-40db-8935-d9ecad3107d0"
      },
      "source": [
        "grocery = [\"bread\", \"water\", \"olive\"]\n",
        "enum_grocery = enumerate(grocery)\n",
        "\n",
        "print(type(enum_grocery))\n",
        "print(list(enum_grocery))\n",
        "enum_grocery = enumerate(grocery, 10)\n",
        "print(list(enum_grocery))"
      ],
      "execution_count": null,
      "outputs": [
        {
          "output_type": "stream",
          "name": "stdout",
          "text": [
            "<class 'enumerate'>\n",
            "[(0, 'bread'), (1, 'water'), (2, 'olive')]\n",
            "[(10, 'bread'), (11, 'water'), (12, 'olive')]\n"
          ]
        }
      ]
    },
    {
      "cell_type": "code",
      "metadata": {
        "colab": {
          "base_uri": "https://localhost:8080/"
        },
        "id": "11x6PPBVMK-f",
        "outputId": "e317141e-e165-476a-e9a5-775c37dc405e"
      },
      "source": [
        "max(1,2,3,4)"
      ],
      "execution_count": null,
      "outputs": [
        {
          "output_type": "execute_result",
          "data": {
            "text/plain": [
              "4"
            ]
          },
          "metadata": {},
          "execution_count": 5
        }
      ]
    },
    {
      "cell_type": "code",
      "metadata": {
        "colab": {
          "base_uri": "https://localhost:8080/"
        },
        "id": "9JSanG22MilJ",
        "outputId": "8a11bc97-4bf1-40ec-c7ff-65164824ab56"
      },
      "source": [
        "min(1,2,3,4)"
      ],
      "execution_count": null,
      "outputs": [
        {
          "output_type": "execute_result",
          "data": {
            "text/plain": [
              "1"
            ]
          },
          "metadata": {},
          "execution_count": 7
        }
      ]
    },
    {
      "cell_type": "code",
      "metadata": {
        "colab": {
          "base_uri": "https://localhost:8080/"
        },
        "id": "clD7uIoET3NB",
        "outputId": "145ab60e-febf-43ef-9451-088a163218a8"
      },
      "source": [
        "def first_function(argument_1, argument_2):\n",
        "  print(argument_1 ** 2 + argument_2 ** 2)\n",
        "\n",
        "first_function(3, 4)"
      ],
      "execution_count": null,
      "outputs": [
        {
          "output_type": "stream",
          "name": "stdout",
          "text": [
            "25\n"
          ]
        }
      ]
    },
    {
      "cell_type": "code",
      "metadata": {
        "colab": {
          "base_uri": "https://localhost:8080/"
        },
        "id": "-H32Bkb6UagA",
        "outputId": "02c79e06-bd12-4687-f6bb-9f2d963b30f5"
      },
      "source": [
        "def hipotenus(a, b):\n",
        "  print((a ** 2 + b ** 2) ** .5)\n",
        "\n",
        "hipotenus(3, 4)"
      ],
      "execution_count": null,
      "outputs": [
        {
          "output_type": "stream",
          "name": "stdout",
          "text": [
            "5.0\n"
          ]
        }
      ]
    },
    {
      "cell_type": "code",
      "metadata": {
        "colab": {
          "base_uri": "https://localhost:8080/"
        },
        "id": "gwbp_eIjVAgg",
        "outputId": "008adc09-379f-46eb-839e-a2e561d85b4a"
      },
      "source": [
        "hipotenus(2, 3)"
      ],
      "execution_count": null,
      "outputs": [
        {
          "output_type": "stream",
          "name": "stdout",
          "text": [
            "3.605551275463989\n"
          ]
        }
      ]
    },
    {
      "cell_type": "code",
      "metadata": {
        "colab": {
          "base_uri": "https://localhost:8080/"
        },
        "id": "u32VOcnvVKL-",
        "outputId": "f864c730-e1a8-44c5-a7e5-69c0b42ca445"
      },
      "source": [
        "def multiply(a, b):\n",
        "  print(a, b)\n",
        "\n",
        "multiply(3, 5)\n",
        "multiply(-1, 2.5)\n",
        "multiply(\"amazing\", 3)"
      ],
      "execution_count": null,
      "outputs": [
        {
          "output_type": "stream",
          "name": "stdout",
          "text": [
            "3 5\n",
            "-1 2.5\n",
            "amazing 3\n"
          ]
        }
      ]
    },
    {
      "cell_type": "code",
      "metadata": {
        "colab": {
          "base_uri": "https://localhost:8080/"
        },
        "id": "gNIKBtVkVyBG",
        "outputId": "e280d853-0b58-43c9-85d4-b00f2eed9787"
      },
      "source": [
        "def rumi():\n",
        "  print(\"Cennet cennet dedikleri\\\n",
        "  Birkaç köşkle birkaç huri\\\n",
        "  İsteyene Ver anları\\\n",
        "  Bana seni gerek seni\")\n",
        "\n",
        "rumi()"
      ],
      "execution_count": null,
      "outputs": [
        {
          "output_type": "stream",
          "name": "stdout",
          "text": [
            "Cennet cennet dedikleri  Birkaç köşkle birkaç huri  İsteyene Ver anları  Bana seni gerek seni\n"
          ]
        }
      ]
    },
    {
      "cell_type": "code",
      "metadata": {
        "colab": {
          "base_uri": "https://localhost:8080/"
        },
        "id": "GJNGh1kQWUbb",
        "outputId": "7a347bed-480a-4274-c2e6-807ae96e8830"
      },
      "source": [
        "def motto():\n",
        "  print(\"Don't hesitate to reinvent yourself!\")\n",
        "\n",
        "motto()"
      ],
      "execution_count": null,
      "outputs": [
        {
          "output_type": "stream",
          "name": "stdout",
          "text": [
            "Don't hesitate to reinvent yourself!\n"
          ]
        }
      ]
    },
    {
      "cell_type": "code",
      "metadata": {
        "colab": {
          "base_uri": "https://localhost:8080/"
        },
        "id": "xvoGSIGcWmlz",
        "outputId": "61f1e5c5-398a-4320-9399-a8892ee47bd7"
      },
      "source": [
        "def add(x, y):\n",
        "  print(x + y)\n",
        "\n",
        "add(3, 4)"
      ],
      "execution_count": null,
      "outputs": [
        {
          "output_type": "stream",
          "name": "stdout",
          "text": [
            "7\n"
          ]
        }
      ]
    },
    {
      "cell_type": "code",
      "metadata": {
        "colab": {
          "base_uri": "https://localhost:8080/"
        },
        "id": "r9TsCAlvW7BC",
        "outputId": "a560214f-87ce-4e59-b3c1-99f7111b7f1c"
      },
      "source": [
        "add(2, 5)"
      ],
      "execution_count": null,
      "outputs": [
        {
          "output_type": "stream",
          "name": "stdout",
          "text": [
            "7\n"
          ]
        }
      ]
    },
    {
      "cell_type": "code",
      "metadata": {
        "colab": {
          "base_uri": "https://localhost:8080/"
        },
        "id": "H0vPslACXBUc",
        "outputId": "6e4fae4b-d7fa-46b1-9112-cd508df509a0"
      },
      "source": [
        "add(\"5\", \"5\")"
      ],
      "execution_count": null,
      "outputs": [
        {
          "output_type": "stream",
          "name": "stdout",
          "text": [
            "55\n"
          ]
        }
      ]
    },
    {
      "cell_type": "code",
      "metadata": {
        "colab": {
          "base_uri": "https://localhost:8080/"
        },
        "id": "cWLOHJs4XQIp",
        "outputId": "444a80c2-d9eb-4854-94d6-23edb50c1351"
      },
      "source": [
        "def calculator(x, y, z):\n",
        "  if z == \"+\":\n",
        "    print(x + y)\n",
        "  elif z == \"-\":\n",
        "    print(x - y)\n",
        "  elif z == \"*\":\n",
        "    print(x * y)\n",
        "  elif z == \"/\":\n",
        "    print(x / y)\n",
        "  else:\n",
        "    print(\"Enter a valid operator\")\n",
        "\n",
        "calculator(22, 11, \"*\")"
      ],
      "execution_count": null,
      "outputs": [
        {
          "output_type": "stream",
          "name": "stdout",
          "text": [
            "242\n"
          ]
        }
      ]
    },
    {
      "cell_type": "code",
      "metadata": {
        "colab": {
          "base_uri": "https://localhost:8080/"
        },
        "id": "66qgWiadZ_Ze",
        "outputId": "9cc35e86-1fef-4033-c186-77cba512fbe4"
      },
      "source": [
        "print(50)"
      ],
      "execution_count": null,
      "outputs": [
        {
          "output_type": "stream",
          "name": "stdout",
          "text": [
            "50\n"
          ]
        }
      ]
    },
    {
      "cell_type": "code",
      "metadata": {
        "colab": {
          "base_uri": "https://localhost:8080/",
          "height": 35
        },
        "id": "bB4otddgaPtc",
        "outputId": "85f3b2c1-d32a-4480-c434-8a5778141100"
      },
      "source": [
        "10\n",
        "\"string\""
      ],
      "execution_count": null,
      "outputs": [
        {
          "output_type": "execute_result",
          "data": {
            "application/vnd.google.colaboratory.intrinsic+json": {
              "type": "string"
            },
            "text/plain": [
              "'string'"
            ]
          },
          "metadata": {},
          "execution_count": 36
        }
      ]
    },
    {
      "cell_type": "code",
      "metadata": {
        "colab": {
          "base_uri": "https://localhost:8080/"
        },
        "id": "GDTsGPJ6aaT8",
        "outputId": "24565495-9e3e-4829-a9d4-d53f6a03c85b"
      },
      "source": [
        "def multiply(a, b):\n",
        "  return (a* b)\n",
        "\n",
        "multiply(3, 5)"
      ],
      "execution_count": null,
      "outputs": [
        {
          "output_type": "execute_result",
          "data": {
            "text/plain": [
              "15"
            ]
          },
          "metadata": {},
          "execution_count": 37
        }
      ]
    },
    {
      "cell_type": "code",
      "metadata": {
        "colab": {
          "base_uri": "https://localhost:8080/"
        },
        "id": "l5KyRYeka2hM",
        "outputId": "40e3c9fe-8b2f-433f-c259-015cd65e6a06"
      },
      "source": [
        "def topla(x, y):\n",
        "  return x + y\n",
        "\n",
        "type(topla(3,5))\n",
        "\n",
        "type(3 + 5)\n",
        "\n",
        "type(8)"
      ],
      "execution_count": null,
      "outputs": [
        {
          "output_type": "execute_result",
          "data": {
            "text/plain": [
              "int"
            ]
          },
          "metadata": {},
          "execution_count": 40
        }
      ]
    },
    {
      "cell_type": "code",
      "metadata": {
        "colab": {
          "base_uri": "https://localhost:8080/"
        },
        "id": "7YIo4jmgbkKb",
        "outputId": "070627e1-8931-4913-9c7e-d5aaa8bea424"
      },
      "source": [
        "def calculator(x, y, z):\n",
        "  if z == \"+\":\n",
        "    return (x + y)\n",
        "  elif z == \"-\":\n",
        "    return x - y\n",
        "  elif z == \"*\":\n",
        "    return x * y\n",
        "  elif z == \"/\":\n",
        "    return x / y\n",
        "  else:\n",
        "    return \"Enter a valid operator\"\n",
        "\n",
        "calculator(22, 11, \"+\")"
      ],
      "execution_count": null,
      "outputs": [
        {
          "output_type": "execute_result",
          "data": {
            "text/plain": [
              "33"
            ]
          },
          "metadata": {},
          "execution_count": 70
        }
      ]
    },
    {
      "cell_type": "code",
      "metadata": {
        "colab": {
          "base_uri": "https://localhost:8080/",
          "height": 200
        },
        "id": "2jq769Q1b06p",
        "outputId": "d22a6009-8924-4b8f-b89a-2c722e7c2718"
      },
      "source": [
        "def string():\n",
        "  return \"alivelideli\"\n",
        "\n",
        "string()"
      ],
      "execution_count": null,
      "outputs": [
        {
          "output_type": "error",
          "ename": "NameError",
          "evalue": "ignored",
          "traceback": [
            "\u001b[0;31m---------------------------------------------------------------------------\u001b[0m",
            "\u001b[0;31mNameError\u001b[0m                                 Traceback (most recent call last)",
            "\u001b[0;32m<ipython-input-44-f4d0a774e8ae>\u001b[0m in \u001b[0;36m<module>\u001b[0;34m()\u001b[0m\n\u001b[1;32m      2\u001b[0m   \u001b[0;32mreturn\u001b[0m \u001b[0;34m\"alivelideli\"\u001b[0m\u001b[0;34m\u001b[0m\u001b[0;34m\u001b[0m\u001b[0m\n\u001b[1;32m      3\u001b[0m \u001b[0;34m\u001b[0m\u001b[0m\n\u001b[0;32m----> 4\u001b[0;31m \u001b[0mstring\u001b[0m\u001b[0;34m(\u001b[0m\u001b[0msa\u001b[0m\u001b[0;34m)\u001b[0m\u001b[0;34m\u001b[0m\u001b[0;34m\u001b[0m\u001b[0m\n\u001b[0m",
            "\u001b[0;31mNameError\u001b[0m: name 'sa' is not defined"
          ]
        }
      ]
    },
    {
      "cell_type": "code",
      "metadata": {
        "colab": {
          "base_uri": "https://localhost:8080/"
        },
        "id": "aVoWOnuucFM5",
        "outputId": "6c883425-19de-4ad4-8475-3890b6f2fc23"
      },
      "source": [
        "def integer():\n",
        "  return 22\n",
        "\n",
        "integer()"
      ],
      "execution_count": null,
      "outputs": [
        {
          "output_type": "execute_result",
          "data": {
            "text/plain": [
              "22"
            ]
          },
          "metadata": {},
          "execution_count": 45
        }
      ]
    },
    {
      "cell_type": "code",
      "metadata": {
        "colab": {
          "base_uri": "https://localhost:8080/"
        },
        "id": "HvigU7_lcLdx",
        "outputId": "d19eaf44-d733-4079-eeb5-52e966c3ea5e"
      },
      "source": [
        "def boolean():\n",
        "  return True\n",
        "\n",
        "if boolean():\n",
        "  print(\"aaaa kim o\")"
      ],
      "execution_count": null,
      "outputs": [
        {
          "output_type": "stream",
          "name": "stdout",
          "text": [
            "aaaa kim o\n"
          ]
        }
      ]
    },
    {
      "cell_type": "code",
      "metadata": {
        "colab": {
          "base_uri": "https://localhost:8080/"
        },
        "id": "XRw9TV-3i37O",
        "outputId": "c06d3121-8bdd-45a1-f3b5-231a673d4068"
      },
      "source": [
        "def listem():\n",
        "  return [1,2,3,4,5]\n",
        "\n",
        "listem()"
      ],
      "execution_count": null,
      "outputs": [
        {
          "output_type": "execute_result",
          "data": {
            "text/plain": [
              "[1, 2, 3, 4, 5]"
            ]
          },
          "metadata": {},
          "execution_count": 55
        }
      ]
    },
    {
      "cell_type": "code",
      "metadata": {
        "colab": {
          "base_uri": "https://localhost:8080/"
        },
        "id": "FSzuu1LJjV68",
        "outputId": "e3649cc7-3bf1-4b1b-9eaa-659f54501c17"
      },
      "source": [
        "type(listem())"
      ],
      "execution_count": null,
      "outputs": [
        {
          "output_type": "execute_result",
          "data": {
            "text/plain": [
              "list"
            ]
          },
          "metadata": {},
          "execution_count": 57
        }
      ]
    },
    {
      "cell_type": "code",
      "metadata": {
        "colab": {
          "base_uri": "https://localhost:8080/"
        },
        "id": "bPONSyBcjZNk",
        "outputId": "52ff1c43-9419-4e92-c89a-8759e11e0f4b"
      },
      "source": [
        "for i in listem():\n",
        "  print(i)"
      ],
      "execution_count": null,
      "outputs": [
        {
          "output_type": "stream",
          "name": "stdout",
          "text": [
            "1\n",
            "2\n",
            "3\n",
            "4\n",
            "5\n"
          ]
        }
      ]
    },
    {
      "cell_type": "code",
      "metadata": {
        "colab": {
          "base_uri": "https://localhost:8080/"
        },
        "id": "7bPbyrkijeq7",
        "outputId": "f67902c7-76db-49f9-b2bd-8c90d4f7afc5"
      },
      "source": [
        "tuple([1,2,3,4,5])"
      ],
      "execution_count": null,
      "outputs": [
        {
          "output_type": "execute_result",
          "data": {
            "text/plain": [
              "(1, 2, 3, 4, 5)"
            ]
          },
          "metadata": {},
          "execution_count": 62
        }
      ]
    },
    {
      "cell_type": "code",
      "metadata": {
        "colab": {
          "base_uri": "https://localhost:8080/"
        },
        "id": "ibzHr1uzjlub",
        "outputId": "2902f432-2a65-41cb-b9ee-516220559505"
      },
      "source": [
        "tuple(listem())"
      ],
      "execution_count": null,
      "outputs": [
        {
          "output_type": "execute_result",
          "data": {
            "text/plain": [
              "(1, 2, 3, 4, 5)"
            ]
          },
          "metadata": {},
          "execution_count": 65
        }
      ]
    },
    {
      "cell_type": "code",
      "metadata": {
        "colab": {
          "base_uri": "https://localhost:8080/"
        },
        "id": "GtOT6_aEj8Vb",
        "outputId": "9c9533b7-f808-4d6e-8f2d-04171ef440b9"
      },
      "source": [
        "print(listem()[3])"
      ],
      "execution_count": null,
      "outputs": [
        {
          "output_type": "stream",
          "name": "stdout",
          "text": [
            "4\n"
          ]
        }
      ]
    },
    {
      "cell_type": "code",
      "metadata": {
        "colab": {
          "base_uri": "https://localhost:8080/"
        },
        "id": "xe2JIYzylIZL",
        "outputId": "a869ee36-f19b-4053-e94c-30284b44ca73"
      },
      "source": [
        "def absolute(x):\n",
        "  if x < 0:\n",
        "    return -x\n",
        "  else:\n",
        "    return x\n",
        "  \n",
        "absolute(-22)"
      ],
      "execution_count": null,
      "outputs": [
        {
          "output_type": "execute_result",
          "data": {
            "text/plain": [
              "22"
            ]
          },
          "metadata": {},
          "execution_count": 3
        }
      ]
    },
    {
      "cell_type": "code",
      "metadata": {
        "colab": {
          "base_uri": "https://localhost:8080/"
        },
        "id": "knai09W5ocN7",
        "outputId": "16d2a2ab-6576-456a-8c23-208934aaced9"
      },
      "source": [
        "yeni_listem = [i ** 2 for i in range(6)]\n",
        "\n",
        "yeni_listem"
      ],
      "execution_count": null,
      "outputs": [
        {
          "output_type": "execute_result",
          "data": {
            "text/plain": [
              "[0, 1, 4, 9, 16, 25]"
            ]
          },
          "metadata": {},
          "execution_count": 5
        }
      ]
    },
    {
      "cell_type": "code",
      "metadata": {
        "colab": {
          "base_uri": "https://localhost:8080/"
        },
        "id": "IvxtOnW5oleK",
        "outputId": "436ec3e5-e72f-4b94-a017-15af8f3d6802"
      },
      "source": [
        "yeni_listem2 = [i ** 2 for i in range(6) if i % 2 == 0]\n",
        "\n",
        "yeni_listem2"
      ],
      "execution_count": null,
      "outputs": [
        {
          "output_type": "execute_result",
          "data": {
            "text/plain": [
              "[0, 4, 16]"
            ]
          },
          "metadata": {},
          "execution_count": 19
        }
      ]
    },
    {
      "cell_type": "code",
      "metadata": {
        "colab": {
          "base_uri": "https://localhost:8080/"
        },
        "id": "8obnlbCDotLi",
        "outputId": "5cd1f68c-68d5-4698-b910-064a55f2d125"
      },
      "source": [
        "generator = (i ** 2 for i in range(6))\n",
        "\n",
        "generator"
      ],
      "execution_count": null,
      "outputs": [
        {
          "output_type": "execute_result",
          "data": {
            "text/plain": [
              "<generator object <genexpr> at 0x7fbe64eca6d0>"
            ]
          },
          "metadata": {},
          "execution_count": 10
        }
      ]
    },
    {
      "cell_type": "code",
      "metadata": {
        "colab": {
          "base_uri": "https://localhost:8080/"
        },
        "id": "niNGI1Bgo5vi",
        "outputId": "d98855e4-b213-4927-cb46-8cb6ff91b2e9"
      },
      "source": [
        "print(*generator)"
      ],
      "execution_count": null,
      "outputs": [
        {
          "output_type": "stream",
          "name": "stdout",
          "text": [
            "\n"
          ]
        }
      ]
    },
    {
      "cell_type": "code",
      "metadata": {
        "id": "o1l83g6PpGGR"
      },
      "source": [
        "for i in generator:\n",
        "  print(i)"
      ],
      "execution_count": null,
      "outputs": []
    },
    {
      "cell_type": "code",
      "metadata": {
        "id": "3l4LGbnMqGRL"
      },
      "source": [
        ""
      ],
      "execution_count": null,
      "outputs": []
    },
    {
      "cell_type": "code",
      "metadata": {
        "id": "O_9i0dzmpL_Z"
      },
      "source": [
        "generator = (i ** 2 for i in range(6))"
      ],
      "execution_count": null,
      "outputs": []
    },
    {
      "cell_type": "code",
      "metadata": {
        "colab": {
          "base_uri": "https://localhost:8080/"
        },
        "id": "FG2O4YPnpNKh",
        "outputId": "004ace39-a2ed-4040-e456-a6f1c01c613f"
      },
      "source": [
        "list(generator)"
      ],
      "execution_count": null,
      "outputs": [
        {
          "output_type": "execute_result",
          "data": {
            "text/plain": [
              "[0, 1, 4, 9, 16, 25]"
            ]
          },
          "metadata": {},
          "execution_count": 17
        }
      ]
    },
    {
      "cell_type": "code",
      "metadata": {
        "id": "7TOMqtfaqIEO"
      },
      "source": [
        "generator = (i ** 2 for i in range(6))"
      ],
      "execution_count": null,
      "outputs": []
    },
    {
      "cell_type": "code",
      "metadata": {
        "colab": {
          "base_uri": "https://localhost:8080/",
          "height": 165
        },
        "id": "3zEaG4Wpp3-W",
        "outputId": "06583727-5da4-4a84-82eb-cabf166c90f6"
      },
      "source": [
        "print(next(generator))"
      ],
      "execution_count": null,
      "outputs": [
        {
          "output_type": "error",
          "ename": "StopIteration",
          "evalue": "ignored",
          "traceback": [
            "\u001b[0;31m---------------------------------------------------------------------------\u001b[0m",
            "\u001b[0;31mStopIteration\u001b[0m                             Traceback (most recent call last)",
            "\u001b[0;32m<ipython-input-8-19919da3e769>\u001b[0m in \u001b[0;36m<module>\u001b[0;34m()\u001b[0m\n\u001b[0;32m----> 1\u001b[0;31m \u001b[0mprint\u001b[0m\u001b[0;34m(\u001b[0m\u001b[0mnext\u001b[0m\u001b[0;34m(\u001b[0m\u001b[0mgenerator\u001b[0m\u001b[0;34m)\u001b[0m\u001b[0;34m)\u001b[0m\u001b[0;34m\u001b[0m\u001b[0;34m\u001b[0m\u001b[0m\n\u001b[0m",
            "\u001b[0;31mStopIteration\u001b[0m: "
          ]
        }
      ]
    },
    {
      "cell_type": "code",
      "metadata": {
        "id": "ZBF_NwuTqYRW"
      },
      "source": [
        "generator = (i ** 2 for i in range(6))"
      ],
      "execution_count": null,
      "outputs": []
    },
    {
      "cell_type": "code",
      "metadata": {
        "colab": {
          "base_uri": "https://localhost:8080/"
        },
        "id": "qzzV0aTfqZQH",
        "outputId": "f6b5ba59-88e4-4e88-dd50-c0cced65fd85"
      },
      "source": [
        "print(next(generator))"
      ],
      "execution_count": null,
      "outputs": [
        {
          "output_type": "stream",
          "name": "stdout",
          "text": [
            "4\n"
          ]
        }
      ]
    },
    {
      "cell_type": "code",
      "metadata": {
        "colab": {
          "base_uri": "https://localhost:8080/"
        },
        "id": "SzcVCHW0qeFu",
        "outputId": "d9434640-70ad-45b2-da09-a349ba06dc30"
      },
      "source": [
        "print(*generator)"
      ],
      "execution_count": null,
      "outputs": [
        {
          "output_type": "stream",
          "name": "stdout",
          "text": [
            "9 16 25\n"
          ]
        }
      ]
    }
  ]
}