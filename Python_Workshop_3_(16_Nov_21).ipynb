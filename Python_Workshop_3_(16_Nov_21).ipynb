{
  "nbformat": 4,
  "nbformat_minor": 0,
  "metadata": {
    "colab": {
      "name": "Python Workshop_3 (16 Nov 21).ipynb",
      "provenance": [],
      "collapsed_sections": [],
      "authorship_tag": "ABX9TyP1CcY7m6SQi7ANTJo5AZVR",
      "include_colab_link": true
    },
    "kernelspec": {
      "name": "python3",
      "display_name": "Python 3"
    },
    "language_info": {
      "name": "python"
    }
  },
  "cells": [
    {
      "cell_type": "markdown",
      "metadata": {
        "id": "view-in-github",
        "colab_type": "text"
      },
      "source": [
        "<a href=\"https://colab.research.google.com/github/MuratYarali/Python-Studies/blob/main/Python_Workshop_3_(16_Nov_21).ipynb\" target=\"_parent\"><img src=\"https://colab.research.google.com/assets/colab-badge.svg\" alt=\"Open In Colab\"/></a>"
      ]
    },
    {
      "cell_type": "markdown",
      "metadata": {
        "id": "Xb4mhNgTFODc"
      },
      "source": [
        "SORU-1: Kullanıcıdan kaç adet sayı (n) gireceğini alan, daha sonra bu \"n\" adet sayıyı tek tek girmesini isteyerek, sayıların toplamını bulan python kodunu yazınız.\n",
        "\n",
        "* For döngüsü kullanalım"
      ]
    },
    {
      "cell_type": "code",
      "metadata": {
        "id": "Iu70lZcUJLa8"
      },
      "source": [
        ""
      ],
      "execution_count": null,
      "outputs": []
    },
    {
      "cell_type": "markdown",
      "metadata": {
        "id": "qXFIo9BFJLAN"
      },
      "source": [
        "SORU-2: Kullanıcıdan alınan dört kenar uzunluğuna göre şeklin kare, dikdörtgen veya diğer dörtgenlerden biri olduğunu belirten python kodunu yazınız.\n",
        "\n",
        "* if-elif-else statement kullanalım"
      ]
    },
    {
      "cell_type": "code",
      "metadata": {
        "id": "OxR_18erJh8t"
      },
      "source": [
        ""
      ],
      "execution_count": null,
      "outputs": []
    },
    {
      "cell_type": "markdown",
      "metadata": {
        "id": "XjizUvaPJmXT"
      },
      "source": [
        "SORU-3: Kullanıcının belirleyeceği satır sayısı (n) kadar, \"*\" işaretiyle piramit oluşturan python kodunu yazınız.\n",
        "\n",
        "* For döngüsü kullanalım\n"
      ]
    },
    {
      "cell_type": "code",
      "metadata": {
        "id": "lXC9QO9bX-K7"
      },
      "source": [
        ""
      ],
      "execution_count": null,
      "outputs": []
    },
    {
      "cell_type": "markdown",
      "metadata": {
        "id": "VuZFEyQVX-tS"
      },
      "source": [
        "SORU-4: Kullanıcının yarıçap değerini girdiği bir dairenin, alan ve çevresini hesaplayan python kodunu yazınız.\n",
        "\n",
        "* Fonksiyon tanımlayarak yapalım"
      ]
    },
    {
      "cell_type": "code",
      "metadata": {
        "id": "sYJonYhPYMlh"
      },
      "source": [
        ""
      ],
      "execution_count": null,
      "outputs": []
    },
    {
      "cell_type": "markdown",
      "metadata": {
        "id": "TEnlOvE9aRY-"
      },
      "source": [
        "SORU-5: Kullanıcının girdiği 2 sayı arasındaki çift sayıların ortalamasını bulan python kodunu yazınız.\n",
        "\n",
        "* Fonksiyon tanımlayalım\n",
        "* map() fonksiyonu kullanalım\n",
        "\n"
      ]
    },
    {
      "cell_type": "code",
      "metadata": {
        "id": "t_Z3fuFqNp29"
      },
      "source": [
        ""
      ],
      "execution_count": null,
      "outputs": []
    },
    {
      "cell_type": "markdown",
      "metadata": {
        "id": "RWimsksgacG1"
      },
      "source": [
        "SORU-6: x listesi içinde verilen sayıları çarpan python kodunu yazınız.\n",
        "\n",
        "x = [1, 2, 3, 4, 5]\n",
        "\n",
        "* Fonksiyon tanımlayalım"
      ]
    },
    {
      "cell_type": "code",
      "metadata": {
        "id": "s0kwzZ5mPyq5"
      },
      "source": [
        ""
      ],
      "execution_count": null,
      "outputs": []
    },
    {
      "cell_type": "markdown",
      "metadata": {
        "id": "dF7t0pH_TrGp"
      },
      "source": [
        "**SORU-7:** Tanımlanan bir liste içinde aranan değerin kaç tane olduğunu bulan Python kodunu yazınız.\n",
        "\n",
        "listem = [1, 3, 8, 6, 8, 10, 20, 6, 22, 14, 10, 8, 13, 7, 8] \n",
        "\n",
        "Output = 8 elemanı dizi içinde 4 adet bulunmaktadır\n",
        "\n",
        "* Fonksiyon tanımlayalım"
      ]
    },
    {
      "cell_type": "code",
      "metadata": {
        "id": "sZDcNA7mn9EE"
      },
      "source": [
        ""
      ],
      "execution_count": null,
      "outputs": []
    }
  ]
}