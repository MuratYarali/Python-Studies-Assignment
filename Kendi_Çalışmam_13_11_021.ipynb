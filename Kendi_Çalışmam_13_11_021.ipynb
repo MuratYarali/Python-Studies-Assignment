{
  "nbformat": 4,
  "nbformat_minor": 0,
  "metadata": {
    "colab": {
      "name": "Kendi Çalışmam 13.11.021.ipynb",
      "provenance": [],
      "collapsed_sections": [],
      "authorship_tag": "ABX9TyPCC/IaYWZxBT/2lfZWkdx9",
      "include_colab_link": true
    },
    "kernelspec": {
      "name": "python3",
      "display_name": "Python 3"
    },
    "language_info": {
      "name": "python"
    }
  },
  "cells": [
    {
      "cell_type": "markdown",
      "metadata": {
        "id": "view-in-github",
        "colab_type": "text"
      },
      "source": [
        "<a href=\"https://colab.research.google.com/github/MuratYarali/Python-Studies/blob/main/Kendi_%C3%87al%C4%B1%C5%9Fmam_13_11_021.ipynb\" target=\"_parent\"><img src=\"https://colab.research.google.com/assets/colab-badge.svg\" alt=\"Open In Colab\"/></a>"
      ]
    },
    {
      "cell_type": "code",
      "metadata": {
        "colab": {
          "base_uri": "https://localhost:8080/"
        },
        "id": "hFTDGeJGKKvG",
        "outputId": "6146a67b-2ed8-4bb2-c6ff-f3f1e0adaa55"
      },
      "source": [
        "sayı = input(\"Bir sayı giriniz: \")\n",
        "çarpım = 1\n",
        "\n",
        "for rakam in sayı:\n",
        "  if int(rakam) != 0:\n",
        "    çarpım *= int(rakam)\n",
        "\n",
        "print(f\"Sayının rakamlarının çarpımı= {çarpım}\")"
      ],
      "execution_count": null,
      "outputs": [
        {
          "output_type": "stream",
          "name": "stdout",
          "text": [
            "Bir sayı giriniz: 566\n",
            "Sayının rakamlarının çarpımı= 180\n"
          ]
        }
      ]
    },
    {
      "cell_type": "code",
      "metadata": {
        "colab": {
          "base_uri": "https://localhost:8080/"
        },
        "id": "uqj5mbQAR0jS",
        "outputId": "7c399de7-f60f-4c61-f107-e3908b5e9b96"
      },
      "source": [
        "n = int(input(\"Kaç adet sayı gireceksiniz: \"))\n",
        "toplam = 0\n",
        "\n",
        "for i in range(n):\n",
        "  sayı = int(input(\"Sayıyı giriniz\"))\n",
        "  toplam += sayı\n",
        "\n",
        "ortalama = toplam / n\n",
        "\n",
        "print(f\"Ortalama= {round(ortalama,2)}\")"
      ],
      "execution_count": null,
      "outputs": [
        {
          "output_type": "stream",
          "name": "stdout",
          "text": [
            "Kaç adet sayı gireceksiniz: 3\n",
            "Sayıyı giriniz45\n",
            "Sayıyı giriniz23\n",
            "Sayıyı giriniz45\n",
            "Ortalama= 37.67\n"
          ]
        }
      ]
    },
    {
      "cell_type": "code",
      "metadata": {
        "colab": {
          "base_uri": "https://localhost:8080/"
        },
        "id": "CVvGAqZfUiOV",
        "outputId": "05115e70-7874-428c-e3a0-fefe8b0beeb4"
      },
      "source": [
        "n= int(input(\"Piramidin satır sayısını giriniz: \"))\n",
        "x = 2 * n - 1\n",
        "x\n",
        "\n",
        "# for i in range(n):\n",
        "#   print(' ' * (n-i-1) + '*' * (2*i+1))"
      ],
      "execution_count": null,
      "outputs": [
        {
          "name": "stdout",
          "output_type": "stream",
          "text": [
            "Piramidin satır sayısını giriniz: 5\n"
          ]
        },
        {
          "output_type": "execute_result",
          "data": {
            "text/plain": [
              "9"
            ]
          },
          "metadata": {},
          "execution_count": 3
        }
      ]
    },
    {
      "cell_type": "code",
      "metadata": {
        "colab": {
          "base_uri": "https://localhost:8080/"
        },
        "id": "UPgec0WjmypW",
        "outputId": "83426cca-f23c-4d2b-96b0-92bfdd8cf479"
      },
      "source": [
        "for satir in range(1,10):\n",
        "    for sutun in range(1,10):\n",
        "        print(\"*\", end=\" \")\n",
        "    print()"
      ],
      "execution_count": null,
      "outputs": [
        {
          "output_type": "stream",
          "name": "stdout",
          "text": [
            "* * * * * * * * * \n",
            "* * * * * * * * * \n",
            "* * * * * * * * * \n",
            "* * * * * * * * * \n",
            "* * * * * * * * * \n",
            "* * * * * * * * * \n",
            "* * * * * * * * * \n",
            "* * * * * * * * * \n",
            "* * * * * * * * * \n"
          ]
        }
      ]
    },
    {
      "cell_type": "code",
      "metadata": {
        "colab": {
          "base_uri": "https://localhost:8080/"
        },
        "id": "w5_DMIQfto0T",
        "outputId": "2f594405-da42-4ba3-9661-1f71beb572b5"
      },
      "source": [
        "\n",
        "s= 0\n",
        "for sayi in range(1, 3, 1):\n",
        "    cevap = int(input(\"Parolanızı giriniz.\"))\n",
        "    if cevap == 123:\n",
        "        s +=1\n",
        " \n",
        "if s == 3:\n",
        "    print(s, \"kere doğru parola girdiniz, giriş yapabilirsiniz.\")\n",
        "else:\n",
        "    print(s, \"kere parolanızı yanlış girdiniz.\")"
      ],
      "execution_count": null,
      "outputs": [
        {
          "output_type": "stream",
          "name": "stdout",
          "text": [
            "Parolanızı giriniz.123\n",
            "Parolanızı giriniz.123\n",
            "2 kere parolanızı yanlış girdiniz.\n"
          ]
        }
      ]
    },
    {
      "cell_type": "code",
      "metadata": {
        "colab": {
          "base_uri": "https://localhost:8080/"
        },
        "id": "J2LdTFUHvWTB",
        "outputId": "6b99f1ec-5859-4cbc-e84d-bf3de223b922"
      },
      "source": [
        "\n",
        "list1 = [10, 20, 4, 45, 99] \n",
        "  \n",
        "# Sırala\n",
        "list1.sort() \n",
        "  \n",
        "# Yazdır\n",
        "print(\"En Büyük Sayı:\", list1[-1])"
      ],
      "execution_count": null,
      "outputs": [
        {
          "output_type": "stream",
          "name": "stdout",
          "text": [
            "En Büyük Sayı: 99\n"
          ]
        }
      ]
    },
    {
      "cell_type": "code",
      "metadata": {
        "colab": {
          "base_uri": "https://localhost:8080/"
        },
        "id": "pOtRpnDqx9V1",
        "outputId": "b32380ea-4b68-4d17-be1a-da51d1a79429"
      },
      "source": [
        "def multiply(a, b):\n",
        "  return 2 * a * b\n",
        "\n",
        "\n",
        "x = 3\n",
        "y = 5\n",
        "\n",
        "multiply(3, 5)"
      ],
      "execution_count": null,
      "outputs": [
        {
          "output_type": "execute_result",
          "data": {
            "text/plain": [
              "30"
            ]
          },
          "metadata": {},
          "execution_count": 3
        }
      ]
    },
    {
      "cell_type": "code",
      "metadata": {
        "colab": {
          "base_uri": "https://localhost:8080/"
        },
        "id": "tWJedzpAOXF-",
        "outputId": "d60af0c1-a1aa-4bbd-f416-955a4d6f3739"
      },
      "source": [
        "def first_func(argument1, argument2):\n",
        "  print(argument1 ** 2 + argument2 ** 2)\n",
        "\n",
        "first_func(2, 3)"
      ],
      "execution_count": null,
      "outputs": [
        {
          "output_type": "stream",
          "name": "stdout",
          "text": [
            "13\n"
          ]
        }
      ]
    },
    {
      "cell_type": "code",
      "metadata": {
        "colab": {
          "base_uri": "https://localhost:8080/"
        },
        "id": "K6HTDuKaPg5M",
        "outputId": "0575c2d5-1735-4735-a9ef-9463ff3b1d70"
      },
      "source": [
        "def multiply(a, b):\n",
        "  print(a * b)\n",
        "\n",
        "multiply(3, 5)\n",
        "multiply(-1, 2.5)\n",
        "multiply('amazing', 3)"
      ],
      "execution_count": null,
      "outputs": [
        {
          "output_type": "stream",
          "name": "stdout",
          "text": [
            "15\n",
            "-2.5\n",
            "amazingamazingamazing\n"
          ]
        }
      ]
    },
    {
      "cell_type": "code",
      "metadata": {
        "colab": {
          "base_uri": "https://localhost:8080/"
        },
        "id": "rXk1zMXCRMXV",
        "outputId": "818c5f27-ab8e-4a96-8600-4454426843ed"
      },
      "source": [
        "def motto():\n",
        "  print(\"Don't hesitate to reinvent yourself\")\n",
        "\n",
        "motto()"
      ],
      "execution_count": null,
      "outputs": [
        {
          "output_type": "stream",
          "name": "stdout",
          "text": [
            "Don't hesitate to reinvent yourself\n"
          ]
        }
      ]
    },
    {
      "cell_type": "code",
      "metadata": {
        "colab": {
          "base_uri": "https://localhost:8080/"
        },
        "id": "PwXPiQFdSA6-",
        "outputId": "21fea336-3042-4149-a228-e33401ad1e10"
      },
      "source": [
        "def multiply1(a, b):\n",
        "  print(a * b)\n",
        "\n",
        "def multiply2(a, b):\n",
        "  return a * b\n",
        "\n",
        "multiply1(10, 5)\n",
        "print(multiply2(10, 5))"
      ],
      "execution_count": null,
      "outputs": [
        {
          "output_type": "stream",
          "name": "stdout",
          "text": [
            "50\n",
            "50\n"
          ]
        }
      ]
    },
    {
      "cell_type": "code",
      "metadata": {
        "colab": {
          "base_uri": "https://localhost:8080/"
        },
        "id": "DYzwImz2Qs45",
        "outputId": "b71104bd-52b5-4f4d-a3b6-6b6fccf50c8e"
      },
      "source": [
        "shadow_var = print(\"It can't be assigned to any variable\")\n",
        "print(shadow_var)  # NoneType value can't be used"
      ],
      "execution_count": null,
      "outputs": [
        {
          "output_type": "stream",
          "name": "stdout",
          "text": [
            "None\n"
          ]
        }
      ]
    },
    {
      "cell_type": "code",
      "metadata": {
        "id": "wSyUAEfPR3rc"
      },
      "source": [
        "def my_function(a, b)\n",
        "    area = a * b\n",
        "    return area\n"
      ],
      "execution_count": null,
      "outputs": []
    },
    {
      "cell_type": "code",
      "metadata": {
        "colab": {
          "base_uri": "https://localhost:8080/"
        },
        "id": "dgKdGpUrY9yA",
        "outputId": "762f096b-62a9-476f-e7b6-269511f8e783"
      },
      "source": [
        "def who(first, last) :  # same structure as the previous one\n",
        "    print('Your first name is :', first)\n",
        "    print('Your last name is :', last)\n",
        "\n",
        "who(first='Guido', last='van Russom')"
      ],
      "execution_count": null,
      "outputs": [
        {
          "output_type": "stream",
          "name": "stdout",
          "text": [
            "Your first name is : Guido\n",
            "Your last name is : van Russom\n"
          ]
        }
      ]
    },
    {
      "cell_type": "code",
      "metadata": {
        "id": "EZ4-_itgEpfZ"
      },
      "source": [
        "from datetime import datetime\n",
        "\n",
        "def print_time():\n",
        "  print('task completed')\n",
        "  print(datetime.now())\n",
        "  print()\n",
        "\n",
        "  first_name = Susan\n",
        "  print_time()\n",
        "\n",
        "  for x in range(10):\n",
        "    print(x)\n",
        "  print_time()"
      ],
      "execution_count": 5,
      "outputs": []
    },
    {
      "cell_type": "code",
      "metadata": {
        "colab": {
          "base_uri": "https://localhost:8080/",
          "height": 231
        },
        "id": "VHlo9zG3IeZZ",
        "outputId": "ee0c104e-0868-4665-c792-a6d511f614f6"
      },
      "source": [
        "def get_initial(name):\n",
        "  initial = name[0:1].upper()\n",
        "  return get_initial\n",
        "\n",
        "first_name = input(\"Enter your first name: \")\n",
        "last_name = input(\"Enter your last name: \")\n",
        "\n",
        "print('Your initials are: '\\\n",
        "      + get_initial(first_name)\\\n",
        "      + get_initial(last_name))"
      ],
      "execution_count": 7,
      "outputs": [
        {
          "name": "stdout",
          "output_type": "stream",
          "text": [
            "Enter your first name: murat\n",
            "Enter your last name: yarlı\n"
          ]
        },
        {
          "output_type": "error",
          "ename": "TypeError",
          "evalue": "ignored",
          "traceback": [
            "\u001b[0;31m---------------------------------------------------------------------------\u001b[0m",
            "\u001b[0;31mTypeError\u001b[0m                                 Traceback (most recent call last)",
            "\u001b[0;32m<ipython-input-7-0657b31b3795>\u001b[0m in \u001b[0;36m<module>\u001b[0;34m()\u001b[0m\n\u001b[1;32m      6\u001b[0m \u001b[0mlast_name\u001b[0m \u001b[0;34m=\u001b[0m \u001b[0minput\u001b[0m\u001b[0;34m(\u001b[0m\u001b[0;34m\"Enter your last name: \"\u001b[0m\u001b[0;34m)\u001b[0m\u001b[0;34m\u001b[0m\u001b[0;34m\u001b[0m\u001b[0m\n\u001b[1;32m      7\u001b[0m \u001b[0;34m\u001b[0m\u001b[0m\n\u001b[0;32m----> 8\u001b[0;31m \u001b[0mprint\u001b[0m\u001b[0;34m(\u001b[0m\u001b[0;34m'Your initials are: '\u001b[0m      \u001b[0;34m+\u001b[0m \u001b[0mget_initial\u001b[0m\u001b[0;34m(\u001b[0m\u001b[0mfirst_name\u001b[0m\u001b[0;34m)\u001b[0m      \u001b[0;34m+\u001b[0m \u001b[0mget_initial\u001b[0m\u001b[0;34m(\u001b[0m\u001b[0mlast_name\u001b[0m\u001b[0;34m)\u001b[0m\u001b[0;34m)\u001b[0m\u001b[0;34m\u001b[0m\u001b[0;34m\u001b[0m\u001b[0m\n\u001b[0m",
            "\u001b[0;31mTypeError\u001b[0m: can only concatenate str (not \"function\") to str"
          ]
        }
      ]
    },
    {
      "cell_type": "code",
      "metadata": {
        "colab": {
          "base_uri": "https://localhost:8080/"
        },
        "id": "NNWZmGX_LmP8",
        "outputId": "4b1eb166-f9dd-4246-9b6a-25fef4cb71fd"
      },
      "source": [
        "import datetime\n",
        "\n",
        "first_name = \"Susan\"\n",
        "print('task completed')\n",
        "print(datetime.datetime.now())\n",
        "print()\n",
        "\n",
        "for x in range(10):\n",
        "  print(x)\n",
        "print('task completed')\n",
        "print(datetime.datetime.now())\n",
        "print()"
      ],
      "execution_count": 9,
      "outputs": [
        {
          "output_type": "stream",
          "name": "stdout",
          "text": [
            "task completed\n",
            "2021-11-15 06:02:31.621182\n",
            "\n",
            "0\n",
            "1\n",
            "2\n",
            "3\n",
            "4\n",
            "5\n",
            "6\n",
            "7\n",
            "8\n",
            "9\n",
            "task completed\n",
            "2021-11-15 06:02:31.621888\n",
            "\n"
          ]
        }
      ]
    },
    {
      "cell_type": "code",
      "metadata": {
        "colab": {
          "base_uri": "https://localhost:8080/"
        },
        "id": "mFEO3nSQMNEI",
        "outputId": "e513ae1f-dcaa-476f-d23e-ecdcff1d5eac"
      },
      "source": [
        "from datetime import datetime\n",
        "\n",
        "def print_time(task_name):\n",
        "  print(task_name)\n",
        "  print(datetime.now())\n",
        "  print()\n",
        "\n",
        "first_name = \"Susan\"\n",
        "print_time('printed first name')\n",
        "\n",
        "for x in range(10):\n",
        "  print(x)\n",
        "print_time('completed for loop')"
      ],
      "execution_count": 14,
      "outputs": [
        {
          "output_type": "stream",
          "name": "stdout",
          "text": [
            "printed first name\n",
            "2021-11-15 06:07:01.267478\n",
            "\n",
            "0\n",
            "1\n",
            "2\n",
            "3\n",
            "4\n",
            "5\n",
            "6\n",
            "7\n",
            "8\n",
            "9\n",
            "completed for loop\n",
            "2021-11-15 06:07:01.268455\n",
            "\n"
          ]
        }
      ]
    },
    {
      "cell_type": "code",
      "metadata": {
        "colab": {
          "base_uri": "https://localhost:8080/"
        },
        "id": "JO8yt_kcOmk-",
        "outputId": "a8d9c67b-94b4-4d85-f830-be303b0e30c7"
      },
      "source": [
        "def who(first, last):\n",
        "  print('Your first name is: ', first)\n",
        "  print('Your last name is: ', last)\n",
        "\n",
        "who(first='Guido', last='von Russom')"
      ],
      "execution_count": 16,
      "outputs": [
        {
          "output_type": "stream",
          "name": "stdout",
          "text": [
            "Your first name is:  Guido\n",
            "Your last name is:  von Russom\n"
          ]
        }
      ]
    },
    {
      "cell_type": "code",
      "metadata": {
        "colab": {
          "base_uri": "https://localhost:8080/"
        },
        "id": "mGCNUt9pPOC9",
        "outputId": "3d68c6d2-e15c-4aa9-963e-f478cccbbef3"
      },
      "source": [
        "def parrot(voltage, state='a stiff', action='voom', type='Norwegian Blue'):\n",
        "    print(\"-- This parrot wouldn't\", action, end=' ')\n",
        "    print(\"if you put\", voltage, \"volts through it.\")\n",
        "    print(\"-- Lovely plumage, the\", type)\n",
        "    print(\"-- It's\", state, \"!\")\n",
        "\n",
        "parrot(1000)"
      ],
      "execution_count": 18,
      "outputs": [
        {
          "output_type": "stream",
          "name": "stdout",
          "text": [
            "-- This parrot wouldn't voom if you put 1000 volts through it.\n",
            "-- Lovely plumage, the Norwegian Blue\n",
            "-- It's a stiff !\n"
          ]
        }
      ]
    },
    {
      "cell_type": "code",
      "metadata": {
        "colab": {
          "base_uri": "https://localhost:8080/"
        },
        "id": "oaBwccWzPtSD",
        "outputId": "27788a83-5885-4a7a-8bf4-fcf843a64438"
      },
      "source": [
        "parrot(1000)                                          # 1 positional argument\n",
        "parrot(voltage=1000)                                  # 1 keyword argument\n",
        "parrot(voltage=1000000, action='VOOOOOM')             # 2 keyword arguments\n",
        "parrot(action='VOOOOOM', voltage=1000000)             # 2 keyword arguments \n",
        "parrot('a million', 'bereft of life', 'jump')         # 3 positional arguments\n",
        "parrot('a thousand', state='pushing up the daisies')  # 1 positional, 1 keyword"
      ],
      "execution_count": 19,
      "outputs": [
        {
          "output_type": "stream",
          "name": "stdout",
          "text": [
            "-- This parrot wouldn't voom if you put 1000 volts through it.\n",
            "-- Lovely plumage, the Norwegian Blue\n",
            "-- It's a stiff !\n",
            "-- This parrot wouldn't voom if you put 1000 volts through it.\n",
            "-- Lovely plumage, the Norwegian Blue\n",
            "-- It's a stiff !\n",
            "-- This parrot wouldn't VOOOOOM if you put 1000000 volts through it.\n",
            "-- Lovely plumage, the Norwegian Blue\n",
            "-- It's a stiff !\n",
            "-- This parrot wouldn't VOOOOOM if you put 1000000 volts through it.\n",
            "-- Lovely plumage, the Norwegian Blue\n",
            "-- It's a stiff !\n",
            "-- This parrot wouldn't jump if you put a million volts through it.\n",
            "-- Lovely plumage, the Norwegian Blue\n",
            "-- It's bereft of life !\n",
            "-- This parrot wouldn't voom if you put a thousand volts through it.\n",
            "-- Lovely plumage, the Norwegian Blue\n",
            "-- It's pushing up the daisies !\n"
          ]
        }
      ]
    },
    {
      "cell_type": "code",
      "metadata": {
        "colab": {
          "base_uri": "https://localhost:8080/"
        },
        "id": "2fPqLzBBU1da",
        "outputId": "ff47bdf8-9184-4a43-f032-e0eb7acd252a"
      },
      "source": [
        "def city(capital, continent='Europe'):\n",
        "  print(capital, 'in', continent)\n",
        "\n",
        "city('Athens')\n",
        "city('Ulaanbaator', continent='Asia')\n",
        "city('CApe Town', 'Africa')"
      ],
      "execution_count": 25,
      "outputs": [
        {
          "output_type": "stream",
          "name": "stdout",
          "text": [
            "Athens in Europe\n",
            "Ulaanbaator in Asia\n",
            "CApe Town in Africa\n"
          ]
        }
      ]
    },
    {
      "cell_type": "code",
      "metadata": {
        "colab": {
          "base_uri": "https://localhost:8080/",
          "height": 129
        },
        "id": "cSIzGvyPQi35",
        "outputId": "64443fa1-8246-4666-b32b-9eea18a358f3"
      },
      "source": [
        "parrot(voltage=5.0, 'dead')  # non-keyword argument after a keyword argument"
      ],
      "execution_count": 22,
      "outputs": [
        {
          "output_type": "error",
          "ename": "SyntaxError",
          "evalue": "ignored",
          "traceback": [
            "\u001b[0;36m  File \u001b[0;32m\"<ipython-input-22-b18b24da62fc>\"\u001b[0;36m, line \u001b[0;32m1\u001b[0m\n\u001b[0;31m    parrot(voltage=5.0, 'dead')  # non-keyword argument after a keyword argument\u001b[0m\n\u001b[0m                       ^\u001b[0m\n\u001b[0;31mSyntaxError\u001b[0m\u001b[0;31m:\u001b[0m positional argument follows keyword argument\n"
          ]
        }
      ]
    }
  ]
}