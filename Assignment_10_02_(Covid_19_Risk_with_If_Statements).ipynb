{
  "nbformat": 4,
  "nbformat_minor": 0,
  "metadata": {
    "colab": {
      "name": "Assignment-10/02_(Covid-19 Risk with If Statements).ipynb",
      "provenance": [],
      "authorship_tag": "ABX9TyNN6zT5iRToiz/aokY4wFYV",
      "include_colab_link": true
    },
    "kernelspec": {
      "name": "python3",
      "display_name": "Python 3"
    },
    "language_info": {
      "name": "python"
    }
  },
  "cells": [
    {
      "cell_type": "markdown",
      "metadata": {
        "id": "view-in-github",
        "colab_type": "text"
      },
      "source": [
        "<a href=\"https://colab.research.google.com/github/MuratYarali/assignments/blob/main/Assignment_10_02_(Covid_19_Risk_with_If_Statements).ipynb\" target=\"_parent\"><img src=\"https://colab.research.google.com/assets/colab-badge.svg\" alt=\"Open In Colab\"/></a>"
      ]
    },
    {
      "cell_type": "code",
      "metadata": {
        "colab": {
          "base_uri": "https://localhost:8080/"
        },
        "id": "oXO9sKA4oktf",
        "outputId": "29c86435-e813-45f0-e57f-40ab343b6909"
      },
      "source": [
        "age = input(\"Are you a cigarette addict older than 75 years old? Yes/No: \")\n",
        "chronic = input(\"Do you have a severe chronic disease? Yes/No: \")\n",
        "immune = input(\"Is your immune system too weak? Yes/No: \")\n",
        "\n",
        "if age.title() == \"Yes\" or chronic.title() == \"Yes\" or immune.title() == \"Yes\":\n",
        "  print(\"You are in risky group\")\n",
        "else:\n",
        "  print(\"You are not in risky group\")"
      ],
      "execution_count": 2,
      "outputs": [
        {
          "output_type": "stream",
          "name": "stdout",
          "text": [
            "Are you a cigarette addict older than 75 years old? Yes/No: yes\n",
            "Do you have a severe chronic disease? Yes/No: \n",
            "Is your immune system too weak? Yes/No: no\n",
            "You are in risky group\n"
          ]
        }
      ]
    }
  ]
}