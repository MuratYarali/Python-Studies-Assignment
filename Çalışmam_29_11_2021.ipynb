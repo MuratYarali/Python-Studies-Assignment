{
  "nbformat": 4,
  "nbformat_minor": 0,
  "metadata": {
    "colab": {
      "name": "Çalışmam 29.11.2021.ipynb",
      "provenance": [],
      "collapsed_sections": [],
      "authorship_tag": "ABX9TyPGeP8ZaYKj9Z0XOJ2tO/2w",
      "include_colab_link": true
    },
    "kernelspec": {
      "name": "python3",
      "display_name": "Python 3"
    },
    "language_info": {
      "name": "python"
    }
  },
  "cells": [
    {
      "cell_type": "markdown",
      "metadata": {
        "id": "view-in-github",
        "colab_type": "text"
      },
      "source": [
        "<a href=\"https://colab.research.google.com/github/MuratYarali/Python-Studies/blob/main/%C3%87al%C4%B1%C5%9Fmam_29_11_2021.ipynb\" target=\"_parent\"><img src=\"https://colab.research.google.com/assets/colab-badge.svg\" alt=\"Open In Colab\"/></a>"
      ]
    },
    {
      "cell_type": "code",
      "metadata": {
        "colab": {
          "base_uri": "https://localhost:8080/"
        },
        "id": "0BfiQa9Zk6Yd",
        "outputId": "129613c4-05e7-4c4d-c626-5bea6656502f"
      },
      "source": [
        "import math\n",
        "\n",
        "print(dir(math))"
      ],
      "execution_count": 3,
      "outputs": [
        {
          "output_type": "stream",
          "name": "stdout",
          "text": [
            "['__doc__', '__loader__', '__name__', '__package__', '__spec__', 'acos', 'acosh', 'asin', 'asinh', 'atan', 'atan2', 'atanh', 'ceil', 'copysign', 'cos', 'cosh', 'degrees', 'e', 'erf', 'erfc', 'exp', 'expm1', 'fabs', 'factorial', 'floor', 'fmod', 'frexp', 'fsum', 'gamma', 'gcd', 'hypot', 'inf', 'isclose', 'isfinite', 'isinf', 'isnan', 'ldexp', 'lgamma', 'log', 'log10', 'log1p', 'log2', 'modf', 'nan', 'pi', 'pow', 'radians', 'remainder', 'sin', 'sinh', 'sqrt', 'tan', 'tanh', 'tau', 'trunc']\n"
          ]
        }
      ]
    },
    {
      "cell_type": "code",
      "metadata": {
        "id": "1VwfFOY0lqLW"
      },
      "source": [
        "from math import pi, factorial, log10"
      ],
      "execution_count": 4,
      "outputs": []
    },
    {
      "cell_type": "code",
      "metadata": {
        "colab": {
          "base_uri": "https://localhost:8080/"
        },
        "id": "A4RUvd2sl3Tl",
        "outputId": "57132044-0fa8-4251-b909-11af07b18161"
      },
      "source": [
        "print(pi)\n",
        "print(factorial(4))\n",
        "print(log10(1000))"
      ],
      "execution_count": 6,
      "outputs": [
        {
          "output_type": "stream",
          "name": "stdout",
          "text": [
            "3.141592653589793\n",
            "24\n",
            "3.0\n"
          ]
        }
      ]
    },
    {
      "cell_type": "code",
      "metadata": {
        "colab": {
          "base_uri": "https://localhost:8080/"
        },
        "id": "jKsLTf4smMYy",
        "outputId": "28e73dac-0e5c-45f6-9e1a-5f5805277139"
      },
      "source": [
        "def factor(x):\n",
        "  result = 1\n",
        "  for i in range(x):\n",
        "    result *= (i+1)\n",
        "  return print(result)\n",
        "\n",
        "factor(5)"
      ],
      "execution_count": 11,
      "outputs": [
        {
          "output_type": "stream",
          "name": "stdout",
          "text": [
            "120\n"
          ]
        }
      ]
    },
    {
      "cell_type": "code",
      "metadata": {
        "colab": {
          "base_uri": "https://localhost:8080/"
        },
        "id": "O_D2Q6Zdnu1I",
        "outputId": "7986629c-3feb-44e9-bb3b-8f8f3d3d8c58"
      },
      "source": [
        "import string as stg\n",
        "\n",
        "print(stg.punctuation)\n",
        "print(stg.digits)"
      ],
      "execution_count": 13,
      "outputs": [
        {
          "output_type": "stream",
          "name": "stdout",
          "text": [
            "!\"#$%&'()*+,-./:;<=>?@[\\]^_`{|}~\n",
            "0123456789\n"
          ]
        }
      ]
    },
    {
      "cell_type": "code",
      "metadata": {
        "colab": {
          "base_uri": "https://localhost:8080/"
        },
        "id": "eOYsJKZDocZv",
        "outputId": "c978bd15-1b3a-4637-c43e-5215c80b6e51"
      },
      "source": [
        "import datetime as dt\n",
        "\n",
        "print(dt.date.today())\n",
        "print(dt.datetime.now())"
      ],
      "execution_count": 16,
      "outputs": [
        {
          "output_type": "stream",
          "name": "stdout",
          "text": [
            "2021-11-29\n",
            "2021-11-29 17:01:23.736234\n"
          ]
        }
      ]
    },
    {
      "cell_type": "code",
      "metadata": {
        "colab": {
          "base_uri": "https://localhost:8080/"
        },
        "id": "d8cAdNZ6pOFO",
        "outputId": "83a42546-75f4-4ee7-f31a-8ed193760529"
      },
      "source": [
        "from random import choice\n",
        "\n",
        "city = ['Stockholm', 'Istanbul', 'Seul', 'Cape Town']\n",
        "print(choice(city))"
      ],
      "execution_count": 26,
      "outputs": [
        {
          "output_type": "stream",
          "name": "stdout",
          "text": [
            "Istanbul\n"
          ]
        }
      ]
    },
    {
      "cell_type": "code",
      "metadata": {
        "colab": {
          "base_uri": "https://localhost:8080/"
        },
        "id": "FpqVsbtupvit",
        "outputId": "8864c610-c985-495c-e5b4-d74febd1d5dc"
      },
      "source": [
        "from random import random\n",
        "print(random())"
      ],
      "execution_count": 33,
      "outputs": [
        {
          "output_type": "stream",
          "name": "stdout",
          "text": [
            "0.04819862760126137\n"
          ]
        }
      ]
    }
  ]
}