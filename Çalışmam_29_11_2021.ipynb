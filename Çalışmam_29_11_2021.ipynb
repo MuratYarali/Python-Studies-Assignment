{
  "nbformat": 4,
  "nbformat_minor": 0,
  "metadata": {
    "colab": {
      "name": "Çalışmam 29.11.2021.ipynb",
      "provenance": [],
      "collapsed_sections": [],
      "authorship_tag": "ABX9TyM60luJ5eaZwDbN0kVYHHv2",
      "include_colab_link": true
    },
    "kernelspec": {
      "name": "python3",
      "display_name": "Python 3"
    },
    "language_info": {
      "name": "python"
    }
  },
  "cells": [
    {
      "cell_type": "markdown",
      "metadata": {
        "id": "view-in-github",
        "colab_type": "text"
      },
      "source": [
        "<a href=\"https://colab.research.google.com/github/MuratYarali/Python-Studies/blob/main/%C3%87al%C4%B1%C5%9Fmam_29_11_2021.ipynb\" target=\"_parent\"><img src=\"https://colab.research.google.com/assets/colab-badge.svg\" alt=\"Open In Colab\"/></a>"
      ]
    },
    {
      "cell_type": "code",
      "metadata": {
        "colab": {
          "base_uri": "https://localhost:8080/"
        },
        "id": "0BfiQa9Zk6Yd",
        "outputId": "129613c4-05e7-4c4d-c626-5bea6656502f"
      },
      "source": [
        "import math\n",
        "\n",
        "print(dir(math))"
      ],
      "execution_count": null,
      "outputs": [
        {
          "output_type": "stream",
          "name": "stdout",
          "text": [
            "['__doc__', '__loader__', '__name__', '__package__', '__spec__', 'acos', 'acosh', 'asin', 'asinh', 'atan', 'atan2', 'atanh', 'ceil', 'copysign', 'cos', 'cosh', 'degrees', 'e', 'erf', 'erfc', 'exp', 'expm1', 'fabs', 'factorial', 'floor', 'fmod', 'frexp', 'fsum', 'gamma', 'gcd', 'hypot', 'inf', 'isclose', 'isfinite', 'isinf', 'isnan', 'ldexp', 'lgamma', 'log', 'log10', 'log1p', 'log2', 'modf', 'nan', 'pi', 'pow', 'radians', 'remainder', 'sin', 'sinh', 'sqrt', 'tan', 'tanh', 'tau', 'trunc']\n"
          ]
        }
      ]
    },
    {
      "cell_type": "code",
      "metadata": {
        "id": "1VwfFOY0lqLW"
      },
      "source": [
        "from math import pi, factorial, log10"
      ],
      "execution_count": null,
      "outputs": []
    },
    {
      "cell_type": "code",
      "metadata": {
        "colab": {
          "base_uri": "https://localhost:8080/"
        },
        "id": "A4RUvd2sl3Tl",
        "outputId": "57132044-0fa8-4251-b909-11af07b18161"
      },
      "source": [
        "print(pi)\n",
        "print(factorial(4))\n",
        "print(log10(1000))"
      ],
      "execution_count": null,
      "outputs": [
        {
          "output_type": "stream",
          "name": "stdout",
          "text": [
            "3.141592653589793\n",
            "24\n",
            "3.0\n"
          ]
        }
      ]
    },
    {
      "cell_type": "code",
      "metadata": {
        "colab": {
          "base_uri": "https://localhost:8080/"
        },
        "id": "jKsLTf4smMYy",
        "outputId": "28e73dac-0e5c-45f6-9e1a-5f5805277139"
      },
      "source": [
        "def factor(x):\n",
        "  result = 1\n",
        "  for i in range(x):\n",
        "    result *= (i+1)\n",
        "  return print(result)\n",
        "\n",
        "factor(5)"
      ],
      "execution_count": null,
      "outputs": [
        {
          "output_type": "stream",
          "name": "stdout",
          "text": [
            "120\n"
          ]
        }
      ]
    },
    {
      "cell_type": "code",
      "metadata": {
        "colab": {
          "base_uri": "https://localhost:8080/"
        },
        "id": "O_D2Q6Zdnu1I",
        "outputId": "7986629c-3feb-44e9-bb3b-8f8f3d3d8c58"
      },
      "source": [
        "import string as stg\n",
        "\n",
        "print(stg.punctuation)\n",
        "print(stg.digits)"
      ],
      "execution_count": null,
      "outputs": [
        {
          "output_type": "stream",
          "name": "stdout",
          "text": [
            "!\"#$%&'()*+,-./:;<=>?@[\\]^_`{|}~\n",
            "0123456789\n"
          ]
        }
      ]
    },
    {
      "cell_type": "code",
      "metadata": {
        "colab": {
          "base_uri": "https://localhost:8080/"
        },
        "id": "eOYsJKZDocZv",
        "outputId": "c978bd15-1b3a-4637-c43e-5215c80b6e51"
      },
      "source": [
        "import datetime as dt\n",
        "\n",
        "print(dt.date.today())\n",
        "print(dt.datetime.now())"
      ],
      "execution_count": null,
      "outputs": [
        {
          "output_type": "stream",
          "name": "stdout",
          "text": [
            "2021-11-29\n",
            "2021-11-29 17:01:23.736234\n"
          ]
        }
      ]
    },
    {
      "cell_type": "code",
      "metadata": {
        "colab": {
          "base_uri": "https://localhost:8080/"
        },
        "id": "d8cAdNZ6pOFO",
        "outputId": "83a42546-75f4-4ee7-f31a-8ed193760529"
      },
      "source": [
        "from random import choice\n",
        "\n",
        "city = ['Stockholm', 'Istanbul', 'Seul', 'Cape Town']\n",
        "print(choice(city))"
      ],
      "execution_count": null,
      "outputs": [
        {
          "output_type": "stream",
          "name": "stdout",
          "text": [
            "Istanbul\n"
          ]
        }
      ]
    },
    {
      "cell_type": "code",
      "metadata": {
        "colab": {
          "base_uri": "https://localhost:8080/"
        },
        "id": "FpqVsbtupvit",
        "outputId": "096ba18c-851f-4ff7-dd2b-62dfeb809b72"
      },
      "source": [
        "from random import random\n",
        "print(random())"
      ],
      "execution_count": null,
      "outputs": [
        {
          "output_type": "stream",
          "name": "stdout",
          "text": [
            "0.4001212720447397\n"
          ]
        }
      ]
    },
    {
      "cell_type": "code",
      "metadata": {
        "colab": {
          "base_uri": "https://localhost:8080/"
        },
        "id": "KLAxRyk_uCUf",
        "outputId": "f054ec7f-870c-4bb4-938a-286a962db7dd"
      },
      "source": [
        "def sum_double(x, y):\n",
        "  result = 0\n",
        "  if x == y:\n",
        "    result = 2 * (x + y)\n",
        "  else:\n",
        "    result = x + y\n",
        "  return result\n",
        "\n",
        "print(sum_double(5, 5))"
      ],
      "execution_count": null,
      "outputs": [
        {
          "output_type": "stream",
          "name": "stdout",
          "text": [
            "20\n"
          ]
        }
      ]
    },
    {
      "cell_type": "code",
      "metadata": {
        "id": "Zfi4qteZvsZU"
      },
      "source": [
        "def parrot_trouble(talking, hour):\n",
        "  result = 0\n",
        "  if talking == True and (0 <= hour <= 6 or 21 <= hour <= 23):\n",
        "    result = True\n",
        "  else:\n",
        "    result = False\n",
        "  return result"
      ],
      "execution_count": null,
      "outputs": []
    },
    {
      "cell_type": "code",
      "metadata": {
        "colab": {
          "base_uri": "https://localhost:8080/"
        },
        "id": "wsIZSEWwwBqC",
        "outputId": "0d92834a-65af-426b-b7b2-c2ed8b73c637"
      },
      "source": [
        "print(parrot_trouble(False, 5))"
      ],
      "execution_count": null,
      "outputs": [
        {
          "output_type": "stream",
          "name": "stdout",
          "text": [
            "False\n"
          ]
        }
      ]
    },
    {
      "cell_type": "code",
      "metadata": {
        "colab": {
          "base_uri": "https://localhost:8080/"
        },
        "id": "x4JwU4SK6aoY",
        "outputId": "4d052b32-a749-49c1-d4c6-e5a41121084e"
      },
      "source": [
        "print((lambda x: x ** 2)(2))"
      ],
      "execution_count": null,
      "outputs": [
        {
          "output_type": "stream",
          "name": "stdout",
          "text": [
            "4\n"
          ]
        }
      ]
    },
    {
      "cell_type": "code",
      "metadata": {
        "colab": {
          "base_uri": "https://localhost:8080/"
        },
        "id": "S4JmaQom6nYv",
        "outputId": "c2417cec-673e-473b-af1c-9f912db855b0"
      },
      "source": [
        "lambda x: \"odd\" if x % 2 != 0 else \"even\""
      ],
      "execution_count": null,
      "outputs": [
        {
          "output_type": "execute_result",
          "data": {
            "text/plain": [
              "<function __main__.<lambda>>"
            ]
          },
          "metadata": {},
          "execution_count": 56
        }
      ]
    },
    {
      "cell_type": "code",
      "metadata": {
        "colab": {
          "base_uri": "https://localhost:8080/",
          "height": 35
        },
        "id": "eM6EBIo064PW",
        "outputId": "7325c240-a761-4f6e-e37c-452f0dd3bd2c"
      },
      "source": [
        "(lambda x: \"odd\" if x % 2 != 0 else \"even\")(5)"
      ],
      "execution_count": null,
      "outputs": [
        {
          "output_type": "execute_result",
          "data": {
            "application/vnd.google.colaboratory.intrinsic+json": {
              "type": "string"
            },
            "text/plain": [
              "'odd'"
            ]
          },
          "metadata": {},
          "execution_count": 61
        }
      ]
    },
    {
      "cell_type": "code",
      "metadata": {
        "colab": {
          "base_uri": "https://localhost:8080/",
          "height": 35
        },
        "id": "qWU72UKM7XUF",
        "outputId": "7baf5bda-4445-4d00-bc1b-cd8cf9303e1c"
      },
      "source": [
        "(lambda x: \",\".join(sorted(x, reverse = True)))(\"ali\")\n"
      ],
      "execution_count": null,
      "outputs": [
        {
          "output_type": "execute_result",
          "data": {
            "application/vnd.google.colaboratory.intrinsic+json": {
              "type": "string"
            },
            "text/plain": [
              "'l,i,a'"
            ]
          },
          "metadata": {},
          "execution_count": 66
        }
      ]
    },
    {
      "cell_type": "code",
      "metadata": {
        "colab": {
          "base_uri": "https://localhost:8080/",
          "height": 35
        },
        "id": "nmceI4zo8Mql",
        "outputId": "5b49678e-7f1a-4007-e8df-fd26f1bb2b8f"
      },
      "source": [
        "(lambda x: x[::-1])(\"ali\")"
      ],
      "execution_count": null,
      "outputs": [
        {
          "output_type": "execute_result",
          "data": {
            "application/vnd.google.colaboratory.intrinsic+json": {
              "type": "string"
            },
            "text/plain": [
              "'ila'"
            ]
          },
          "metadata": {},
          "execution_count": 68
        }
      ]
    },
    {
      "cell_type": "code",
      "metadata": {
        "colab": {
          "base_uri": "https://localhost:8080/"
        },
        "id": "E0Rz9Gse8Vhk",
        "outputId": "8b38f9d6-9572-41b6-a10f-1d1cc51d6073"
      },
      "source": [
        "(lambda x: x[::-1])([1,2,3])"
      ],
      "execution_count": null,
      "outputs": [
        {
          "output_type": "execute_result",
          "data": {
            "text/plain": [
              "[3, 2, 1]"
            ]
          },
          "metadata": {},
          "execution_count": 70
        }
      ]
    },
    {
      "cell_type": "code",
      "metadata": {
        "colab": {
          "base_uri": "https://localhost:8080/"
        },
        "id": "VS5UnJ0b8cK8",
        "outputId": "3025051d-5d2a-49ec-8d0b-b096e6321f8a"
      },
      "source": [
        "(lambda a,b: int((a+b)/2))(5,10)"
      ],
      "execution_count": null,
      "outputs": [
        {
          "output_type": "execute_result",
          "data": {
            "text/plain": [
              "7"
            ]
          },
          "metadata": {},
          "execution_count": 74
        }
      ]
    },
    {
      "cell_type": "code",
      "metadata": {
        "colab": {
          "base_uri": "https://localhost:8080/"
        },
        "id": "Mc6Z6QLY82Wz",
        "outputId": "37505bab-e5f4-4c37-f744-c59f96d3ef00"
      },
      "source": [
        "print((lambda x,y:(x+y)/2)(3,5))"
      ],
      "execution_count": null,
      "outputs": [
        {
          "output_type": "stream",
          "name": "stdout",
          "text": [
            "4.0\n"
          ]
        }
      ]
    },
    {
      "cell_type": "code",
      "metadata": {
        "id": "w37MGlZq_bCF"
      },
      "source": [
        "sayılar = [1,2,3,4,5,6]"
      ],
      "execution_count": null,
      "outputs": []
    },
    {
      "cell_type": "code",
      "metadata": {
        "colab": {
          "base_uri": "https://localhost:8080/"
        },
        "id": "YnBvEdh49GUD",
        "outputId": "fd71e79f-87ea-4b36-fed1-c65038d34d56"
      },
      "source": [
        "for a in sayılar:\n",
        "  print(a, \":\", (lambda x: \"odd\" if x % 2 != 0 else \"even\")(a))"
      ],
      "execution_count": null,
      "outputs": [
        {
          "output_type": "stream",
          "name": "stdout",
          "text": [
            "odd\n",
            "even\n",
            "odd\n",
            "even\n",
            "odd\n",
            "even\n"
          ]
        }
      ]
    },
    {
      "cell_type": "code",
      "metadata": {
        "colab": {
          "base_uri": "https://localhost:8080/"
        },
        "id": "ntWSU3-D_LpQ",
        "outputId": "938acf61-e968-4201-eb7b-eca9c84274f1"
      },
      "source": [
        "avarage = lambda x, y: (x+y)/2\n",
        "print(avarage(3, 5))"
      ],
      "execution_count": null,
      "outputs": [
        {
          "output_type": "stream",
          "name": "stdout",
          "text": [
            "4.0\n"
          ]
        }
      ]
    },
    {
      "cell_type": "code",
      "metadata": {
        "id": "56Bym9v4_mPN"
      },
      "source": [
        "finder = lambda x: \"odd\" if x % 2 != 0 else \"even\""
      ],
      "execution_count": null,
      "outputs": []
    },
    {
      "cell_type": "code",
      "metadata": {
        "colab": {
          "base_uri": "https://localhost:8080/"
        },
        "id": "r1-MO7ki_qAu",
        "outputId": "15c6c499-c46f-49b1-f3c5-dc315c32f0da"
      },
      "source": [
        "print(finder(5))"
      ],
      "execution_count": null,
      "outputs": [
        {
          "output_type": "stream",
          "name": "stdout",
          "text": [
            "odd\n"
          ]
        }
      ]
    },
    {
      "cell_type": "code",
      "metadata": {
        "id": "TndrQxDb_76O"
      },
      "source": [
        "reverser = lambda x: x[::-1]"
      ],
      "execution_count": null,
      "outputs": []
    },
    {
      "cell_type": "code",
      "metadata": {
        "colab": {
          "base_uri": "https://localhost:8080/"
        },
        "id": "JwFXuY3p__x9",
        "outputId": "faf2aab2-d207-4e83-9798-172b6d59d5f1"
      },
      "source": [
        "reverser([1,2,3,4])"
      ],
      "execution_count": null,
      "outputs": [
        {
          "output_type": "execute_result",
          "data": {
            "text/plain": [
              "[4, 3, 2, 1]"
            ]
          },
          "metadata": {},
          "execution_count": 17
        }
      ]
    },
    {
      "cell_type": "code",
      "metadata": {
        "colab": {
          "base_uri": "https://localhost:8080/"
        },
        "id": "2EHs0smEAHZ9",
        "outputId": "82891a99-5cba-4b85-af20-7027d06151dd"
      },
      "source": [
        "print(list(map((lambda  x: x**2), ([1,2,3,4]))))"
      ],
      "execution_count": null,
      "outputs": [
        {
          "output_type": "stream",
          "name": "stdout",
          "text": [
            "[1, 4, 9, 16]\n"
          ]
        }
      ]
    },
    {
      "cell_type": "code",
      "metadata": {
        "colab": {
          "base_uri": "https://localhost:8080/"
        },
        "id": "at-sWtZIBKC7",
        "outputId": "879aedd2-7057-4a58-ca6c-ab47ac48f59d"
      },
      "source": [
        "fonksiyon = lambda x: x ** 2\n",
        "iterable = [1,2,3,4]\n",
        "\n",
        "sonuç = map(fonksiyon, iterable)\n",
        "print(*sonuç)"
      ],
      "execution_count": null,
      "outputs": [
        {
          "output_type": "stream",
          "name": "stdout",
          "text": [
            "1 4 9 16\n"
          ]
        }
      ]
    },
    {
      "cell_type": "code",
      "metadata": {
        "id": "D4b2dsxkBEt0"
      },
      "source": [
        "def kare(b):\n",
        "  return b ** 2"
      ],
      "execution_count": null,
      "outputs": []
    },
    {
      "cell_type": "code",
      "metadata": {
        "colab": {
          "base_uri": "https://localhost:8080/"
        },
        "id": "kYGYEiQKFg_k",
        "outputId": "e0a37d65-2517-406d-c0f3-1d2230bed382"
      },
      "source": [
        "sonuç2 = map(kare, iterable)\n",
        "print(*sonuç2)"
      ],
      "execution_count": null,
      "outputs": [
        {
          "output_type": "stream",
          "name": "stdout",
          "text": [
            "1 4 9 16\n"
          ]
        }
      ]
    },
    {
      "cell_type": "code",
      "metadata": {
        "colab": {
          "base_uri": "https://localhost:8080/"
        },
        "id": "-wc1_IsFGJtT",
        "outputId": "d21ce4ea-c3b9-491d-ff93-08f46f9fa0ed"
      },
      "source": [
        "letter1 = [\"o\", \"s\", \"t\", \"t\"]\n",
        "letter2 = [\"n\", \"i\", \"e\", \"w\"]\n",
        "letter3 = [\"e\", \"x\", \"n\", \"o\"]\n",
        "\n",
        "numbers = map(lambda x,y,z: x+y+z, letter1, letter2, letter3)\n",
        "\n",
        "print(list(numbers))"
      ],
      "execution_count": null,
      "outputs": [
        {
          "output_type": "stream",
          "name": "stdout",
          "text": [
            "['one', 'six', 'ten', 'two']\n"
          ]
        }
      ]
    },
    {
      "cell_type": "code",
      "metadata": {
        "colab": {
          "base_uri": "https://localhost:8080/",
          "height": 35
        },
        "id": "qxBX7OSjGcH5",
        "outputId": "db711e1d-3502-4b84-ed97-08a3a8a03710"
      },
      "source": [
        "topla = lambda x, y, z: x + y + z\n",
        "topla(\"a\", \"l\", \"i\")"
      ],
      "execution_count": null,
      "outputs": [
        {
          "output_type": "execute_result",
          "data": {
            "application/vnd.google.colaboratory.intrinsic+json": {
              "type": "string"
            },
            "text/plain": [
              "'ali'"
            ]
          },
          "metadata": {},
          "execution_count": 1
        }
      ]
    },
    {
      "cell_type": "code",
      "metadata": {
        "colab": {
          "base_uri": "https://localhost:8080/"
        },
        "id": "CnxfVJ1NGwrw",
        "outputId": "25d20028-cbc5-4c5c-aeb3-f837f6269ad5"
      },
      "source": [
        "num1 = [9,6,7,4]\n",
        "num2 = [3,6,5,8]\n",
        "\n",
        "func = lambda x, y: (x+y)/2\n",
        "\n",
        "numbers = map(func, num1, num2)\n",
        "\n",
        "print(list(numbers))"
      ],
      "execution_count": null,
      "outputs": [
        {
          "output_type": "stream",
          "name": "stdout",
          "text": [
            "[6.0, 6.0, 6.0, 6.0]\n"
          ]
        }
      ]
    },
    {
      "cell_type": "code",
      "metadata": {
        "colab": {
          "base_uri": "https://localhost:8080/"
        },
        "id": "-foUGXA1Il7-",
        "outputId": "4899ef19-64bb-447c-8ca7-e943bd351ac9"
      },
      "source": [
        "words1 = [\"you\", \"much\", \"hard\"]\n",
        "words2 = [\"i\", \"you\", \"he\"]\n",
        "words3 = [\"love\", \"ate\", \"works\"]\n",
        "\n",
        "sentence = map(lambda x,y,z: x+\" \"+y+\" \"+z, words2, words3, words1)\n",
        "\n",
        "print(list(sentence))"
      ],
      "execution_count": null,
      "outputs": [
        {
          "output_type": "stream",
          "name": "stdout",
          "text": [
            "['i love you', 'you ate much', 'he works hard']\n"
          ]
        }
      ]
    },
    {
      "cell_type": "code",
      "metadata": {
        "colab": {
          "base_uri": "https://localhost:8080/"
        },
        "id": "h8uLWFXDKU7s",
        "outputId": "1c418dde-b5ae-487e-ea7e-588a7327380a"
      },
      "source": [
        "words1 = [\"you\", \"much\", \"hard\"]\n",
        "words2 = [\"i\", \"you\", \"he\"]\n",
        "words3 = [\"love\", \"ate\", \"works\"]\n",
        "\n",
        "sentence = map(lambda x,y,z: x+\" \"+y+\" \"+z, words2, words3, words1)\n",
        "\n",
        "for i in sentence:\n",
        "  print(i)"
      ],
      "execution_count": null,
      "outputs": [
        {
          "output_type": "stream",
          "name": "stdout",
          "text": [
            "i love you\n",
            "you ate much\n",
            "he works hard\n"
          ]
        }
      ]
    },
    {
      "cell_type": "code",
      "metadata": {
        "colab": {
          "base_uri": "https://localhost:8080/"
        },
        "id": "D3rce7OANjom",
        "outputId": "7e319098-b106-4d14-9020-dc4aecc16d05"
      },
      "source": [
        "first_ten = [0,1,2,3,4,5,6,7,8,9]\n",
        "\n",
        "even = filter(lambda x: x%2==0, first_ten)\n",
        "\n",
        "print(type(even))\n",
        "print(\"Even numbers are: \", list(even))"
      ],
      "execution_count": null,
      "outputs": [
        {
          "output_type": "stream",
          "name": "stdout",
          "text": [
            "<class 'filter'>\n",
            "Even numbers are:  [0, 2, 4, 6, 8]\n"
          ]
        }
      ]
    },
    {
      "cell_type": "code",
      "metadata": {
        "colab": {
          "base_uri": "https://localhost:8080/"
        },
        "id": "dVLuAsQMOQbc",
        "outputId": "2905b005-9c0b-4a65-d379-ad1c1cfef155"
      },
      "source": [
        "words = [\"apple\", \"swim\", \"clock\", \"me\", \"kiwi\", \"banana\"]\n",
        "\n",
        "greater5 = filter(lambda x: len(x)>=5, words)\n",
        "\n",
        "print(list(greater5))"
      ],
      "execution_count": null,
      "outputs": [
        {
          "output_type": "stream",
          "name": "stdout",
          "text": [
            "['apple', 'clock', 'banana']\n"
          ]
        }
      ]
    },
    {
      "cell_type": "code",
      "metadata": {
        "colab": {
          "base_uri": "https://localhost:8080/"
        },
        "id": "PP1Lvv7sO3Mq",
        "outputId": "fd76cb47-619e-4961-8065-ff7d79df55f6"
      },
      "source": [
        "words = [\"apple\", \"swim\", \"clock\", \"me\", \"kiwi\", \"banana\"]\n",
        "\n",
        "lower5 = filter(lambda x: len(x)<5, words)\n",
        "\n",
        "print(list(lower5))"
      ],
      "execution_count": null,
      "outputs": [
        {
          "output_type": "stream",
          "name": "stdout",
          "text": [
            "['swim', 'me', 'kiwi']\n"
          ]
        }
      ]
    },
    {
      "cell_type": "code",
      "metadata": {
        "colab": {
          "base_uri": "https://localhost:8080/"
        },
        "id": "KvuE0p23TQwD",
        "outputId": "ea9179ec-02cb-49c0-8a01-613af3fb00d5"
      },
      "source": [
        "words = [\"apple\", \"swim\", \"clock\", \"me\", \"kiwi\", \"banana\"]\n",
        "\n",
        "for i in filter(lambda x: len(x)<5, words):\n",
        "  print(i)"
      ],
      "execution_count": null,
      "outputs": [
        {
          "output_type": "stream",
          "name": "stdout",
          "text": [
            "swim\n",
            "me\n",
            "kiwi\n"
          ]
        }
      ]
    },
    {
      "cell_type": "code",
      "metadata": {
        "colab": {
          "base_uri": "https://localhost:8080/"
        },
        "id": "SIBOcJVuT6Z5",
        "outputId": "71d0f778-8079-4c6c-e8d3-d4c3435bafde"
      },
      "source": [
        "vowel_list = ['a', 'e', 'i', 'o', 'u']\n",
        "first_ten = ['a', 'b', 'c', 'd', 'e', 'f', 'g', 'h', 'i', 'j']\n",
        "\n",
        "for i in filter(lambda i: i in vowel_list, first_ten):\n",
        "  print(i)\n",
        "  "
      ],
      "execution_count": null,
      "outputs": [
        {
          "output_type": "stream",
          "name": "stdout",
          "text": [
            "a\n",
            "e\n",
            "i\n"
          ]
        }
      ]
    },
    {
      "cell_type": "code",
      "metadata": {
        "colab": {
          "base_uri": "https://localhost:8080/"
        },
        "id": "zk1jFsaMUm0w",
        "outputId": "8e705fec-e415-4359-f292-0491d990a427"
      },
      "source": [
        "vowels = filter(lambda i: i in vowel_list, first_ten)\n",
        "\n",
        "print(list(vowels))"
      ],
      "execution_count": null,
      "outputs": [
        {
          "output_type": "stream",
          "name": "stdout",
          "text": [
            "['a', 'e', 'i']\n"
          ]
        }
      ]
    },
    {
      "cell_type": "code",
      "metadata": {
        "id": "VI-QZyIPVly3"
      },
      "source": [
        "def modular(n):\n",
        "  return  lambda x: x ** n\n",
        "\n",
        "karesinial = modular(2)  # x ** 2 döndürür\n",
        "küpünüal = modular(3)"
      ],
      "execution_count": null,
      "outputs": []
    },
    {
      "cell_type": "code",
      "metadata": {
        "colab": {
          "base_uri": "https://localhost:8080/"
        },
        "id": "zfG56XroWfYs",
        "outputId": "0e2d65bc-8366-4b2c-a298-d30b9cb4d779"
      },
      "source": [
        "print(karesinial(2))\n",
        "print(küpünüal(2))"
      ],
      "execution_count": null,
      "outputs": [
        {
          "output_type": "stream",
          "name": "stdout",
          "text": [
            "4\n",
            "8\n"
          ]
        }
      ]
    },
    {
      "cell_type": "code",
      "metadata": {
        "colab": {
          "base_uri": "https://localhost:8080/"
        },
        "id": "UNJY6EA5XJLK",
        "outputId": "19c0bae1-65de-4d25-9633-9f6b675ee73e"
      },
      "source": [
        "def functioner(emoji):\n",
        "  return lambda x: x + \" \" + emoji\n",
        "\n",
        "myPrint_smile = functioner(\":)\")\n",
        "myPrint_sad = functioner(\":(\")\n",
        "myPrint_neutral = functioner(\":|\")\n",
        "\n",
        "print(myPrint_smile(\"hello\"))\n",
        "print(myPrint_sad(\"hello\"))\n",
        "print(myPrint_neutral(\"hello\"))"
      ],
      "execution_count": null,
      "outputs": [
        {
          "output_type": "stream",
          "name": "stdout",
          "text": [
            "hello :)\n",
            "hello :(\n",
            "hello :|\n"
          ]
        }
      ]
    },
    {
      "cell_type": "code",
      "metadata": {
        "colab": {
          "base_uri": "https://localhost:8080/"
        },
        "id": "Wb0a-n6oX29y",
        "outputId": "f7395aa8-fd7f-46e9-c1c6-3419baa2def4"
      },
      "source": [
        "def function_generator(function_name):\n",
        "  return lambda x: function_name(x)\n",
        "\n",
        "murat_print = function_generator(print)\n",
        "murat_sorted = function_generator(sorted)\n",
        "murat_max = function_generator(max)\n",
        "\n",
        "murat_print(\"ali\")\n",
        "print(murat_sorted(\"ali\"))\n",
        "print(murat_max(\"ali\"))"
      ],
      "execution_count": 1,
      "outputs": [
        {
          "output_type": "stream",
          "name": "stdout",
          "text": [
            "ali\n",
            "['a', 'i', 'l']\n",
            "l\n"
          ]
        }
      ]
    },
    {
      "cell_type": "code",
      "metadata": {
        "id": "wck2HMrwhcro"
      },
      "source": [
        "lambda parameters: expression"
      ],
      "execution_count": null,
      "outputs": []
    },
    {
      "cell_type": "code",
      "metadata": {
        "id": "bAr988KujfDD"
      },
      "source": [
        "list comprehentions aree also one line"
      ],
      "execution_count": null,
      "outputs": []
    },
    {
      "cell_type": "code",
      "metadata": {
        "id": "db3UJxi6jpFr"
      },
      "source": [
        "body1 if condition else body2"
      ],
      "execution_count": null,
      "outputs": []
    },
    {
      "cell_type": "code",
      "metadata": {
        "id": "WuYz3NUtj6Ii"
      },
      "source": [
        "def square(x):\n",
        "  return x**2"
      ],
      "execution_count": 2,
      "outputs": []
    },
    {
      "cell_type": "code",
      "metadata": {
        "colab": {
          "base_uri": "https://localhost:8080/"
        },
        "id": "IsZ1_CNDkBjr",
        "outputId": "9fc70c16-85c8-4fdd-83f8-3cb216620881"
      },
      "source": [
        "lambda x: x**2"
      ],
      "execution_count": 3,
      "outputs": [
        {
          "output_type": "execute_result",
          "data": {
            "text/plain": [
              "<function __main__.<lambda>>"
            ]
          },
          "metadata": {},
          "execution_count": 3
        }
      ]
    },
    {
      "cell_type": "code",
      "metadata": {
        "colab": {
          "base_uri": "https://localhost:8080/"
        },
        "id": "DyyuVZidkJQp",
        "outputId": "3a8b389e-37c9-494c-c713-1b5020291d57"
      },
      "source": [
        "lambda x: x**2"
      ],
      "execution_count": 4,
      "outputs": [
        {
          "output_type": "execute_result",
          "data": {
            "text/plain": [
              "<function __main__.<lambda>>"
            ]
          },
          "metadata": {},
          "execution_count": 4
        }
      ]
    },
    {
      "cell_type": "code",
      "metadata": {
        "colab": {
          "base_uri": "https://localhost:8080/"
        },
        "id": "Cu-w49mNkOpp",
        "outputId": "26a3ec2c-c798-4380-b2fd-742500c9061d"
      },
      "source": [
        "lambda x, y: (x+y)/2"
      ],
      "execution_count": 6,
      "outputs": [
        {
          "output_type": "execute_result",
          "data": {
            "text/plain": [
              "<function __main__.<lambda>>"
            ]
          },
          "metadata": {},
          "execution_count": 6
        }
      ]
    },
    {
      "cell_type": "code",
      "metadata": {
        "id": "rvFrsCjqkSkx"
      },
      "source": [
        "def ort(x, y):\n",
        "  return (x+y)/2"
      ],
      "execution_count": 7,
      "outputs": []
    },
    {
      "cell_type": "code",
      "metadata": {
        "id": "9RVQIBtekXyp"
      },
      "source": [
        "map() filter() apply()"
      ],
      "execution_count": null,
      "outputs": []
    },
    {
      "cell_type": "code",
      "metadata": {
        "colab": {
          "base_uri": "https://localhost:8080/"
        },
        "id": "coMohEEQkbih",
        "outputId": "66f9341e-1e8f-4a46-d5cb-7dacb69368a8"
      },
      "source": [
        "lambda x: \"odd\" if x%2!=0 else \"even\""
      ],
      "execution_count": 10,
      "outputs": [
        {
          "output_type": "execute_result",
          "data": {
            "text/plain": [
              "<function __main__.<lambda>>"
            ]
          },
          "metadata": {},
          "execution_count": 10
        }
      ]
    },
    {
      "cell_type": "code",
      "metadata": {
        "colab": {
          "base_uri": "https://localhost:8080/"
        },
        "id": "ikGv9rGEkuDY",
        "outputId": "b14196be-d908-4a58-83ec-58e27942098f"
      },
      "source": [
        "print((lambda x: x**2)(2))"
      ],
      "execution_count": 11,
      "outputs": [
        {
          "output_type": "stream",
          "name": "stdout",
          "text": [
            "4\n"
          ]
        }
      ]
    },
    {
      "cell_type": "code",
      "metadata": {
        "colab": {
          "base_uri": "https://localhost:8080/",
          "height": 35
        },
        "id": "UR7o_rX4lLoY",
        "outputId": "2ebaf6c4-ce0d-4cd9-fc2f-ce519c1c06b1"
      },
      "source": [
        "(lambda x: \"odd\" if x%2!=0 else \"even\")(3)"
      ],
      "execution_count": 14,
      "outputs": [
        {
          "output_type": "execute_result",
          "data": {
            "application/vnd.google.colaboratory.intrinsic+json": {
              "type": "string"
            },
            "text/plain": [
              "'odd'"
            ]
          },
          "metadata": {},
          "execution_count": 14
        }
      ]
    },
    {
      "cell_type": "code",
      "metadata": {
        "colab": {
          "base_uri": "https://localhost:8080/",
          "height": 35
        },
        "id": "eE3upAOFla-H",
        "outputId": "b1ffa273-2422-4320-afe5-c644c4b80954"
      },
      "source": [
        "(lambda x: \"odd\" if x%2!=0 else \"even\")(4)"
      ],
      "execution_count": 17,
      "outputs": [
        {
          "output_type": "execute_result",
          "data": {
            "application/vnd.google.colaboratory.intrinsic+json": {
              "type": "string"
            },
            "text/plain": [
              "'even'"
            ]
          },
          "metadata": {},
          "execution_count": 17
        }
      ]
    },
    {
      "cell_type": "code",
      "metadata": {
        "colab": {
          "base_uri": "https://localhost:8080/"
        },
        "id": "vdy1bpGKlf8H",
        "outputId": "e6a8a084-a530-4410-faa8-66f375ce9850"
      },
      "source": [
        "print((lambda x: x[::-1])(\"ali\"))"
      ],
      "execution_count": 20,
      "outputs": [
        {
          "output_type": "stream",
          "name": "stdout",
          "text": [
            "ila\n"
          ]
        }
      ]
    },
    {
      "cell_type": "code",
      "metadata": {
        "colab": {
          "base_uri": "https://localhost:8080/"
        },
        "id": "MYdI2iwql3oV",
        "outputId": "cee7313a-71c1-4fec-acb1-158a8384c950"
      },
      "source": [
        "print((lambda x: x[::-1])([1,2,3,4,5]))"
      ],
      "execution_count": 21,
      "outputs": [
        {
          "output_type": "stream",
          "name": "stdout",
          "text": [
            "[5, 4, 3, 2, 1]\n"
          ]
        }
      ]
    },
    {
      "cell_type": "code",
      "metadata": {
        "colab": {
          "base_uri": "https://localhost:8080/"
        },
        "id": "ed8rGfQsl_6p",
        "outputId": "036398eb-7e33-4e23-e594-21dc4987dcb2"
      },
      "source": [
        "(lambda a,b: (a+b)/2)(9, 4)"
      ],
      "execution_count": 24,
      "outputs": [
        {
          "output_type": "execute_result",
          "data": {
            "text/plain": [
              "6.5"
            ]
          },
          "metadata": {},
          "execution_count": 24
        }
      ]
    },
    {
      "cell_type": "code",
      "metadata": {
        "colab": {
          "base_uri": "https://localhost:8080/"
        },
        "id": "oHVEtYvymZ84",
        "outputId": "c83d5af9-745c-43a2-f98e-8df345192be3"
      },
      "source": [
        "average = (lambda a,b: (a+b)/2)(3,5)\n",
        "print(average)"
      ],
      "execution_count": 26,
      "outputs": [
        {
          "output_type": "stream",
          "name": "stdout",
          "text": [
            "4.0\n"
          ]
        }
      ]
    },
    {
      "cell_type": "code",
      "metadata": {
        "colab": {
          "base_uri": "https://localhost:8080/"
        },
        "id": "V64hvQx6mwi3",
        "outputId": "814bc371-dcfa-4fbe-918f-ce2952cdb473"
      },
      "source": [
        "for x in [1,2,3,4]:\n",
        "  print(x, \":\", (lambda x: \"odd\" if x%2!=0 else \"even\")(x))"
      ],
      "execution_count": 35,
      "outputs": [
        {
          "output_type": "stream",
          "name": "stdout",
          "text": [
            "1 : odd\n",
            "2 : even\n",
            "3 : odd\n",
            "4 : even\n"
          ]
        }
      ]
    },
    {
      "cell_type": "code",
      "metadata": {
        "colab": {
          "base_uri": "https://localhost:8080/"
        },
        "id": "J9Lyi0tEnkX6",
        "outputId": "8a0e8b77-3dc9-45f4-dfab-08ee58d64406"
      },
      "source": [
        "sayılar = [1,2,3,4,5,6,7,8,9]\n",
        "\n",
        "for i in sayılar:\n",
        "  print(i, \":\", (lambda i: \"odd\" if i%2!=0 else \"even\")(i))"
      ],
      "execution_count": 39,
      "outputs": [
        {
          "output_type": "stream",
          "name": "stdout",
          "text": [
            "1 : odd\n",
            "2 : even\n",
            "3 : odd\n",
            "4 : even\n",
            "5 : odd\n",
            "6 : even\n",
            "7 : odd\n",
            "8 : even\n",
            "9 : odd\n"
          ]
        }
      ]
    },
    {
      "cell_type": "code",
      "metadata": {
        "colab": {
          "base_uri": "https://localhost:8080/"
        },
        "id": "aEA6-zPgoJvE",
        "outputId": "f5bf98ab-b267-4847-b447-fc24a440e9c7"
      },
      "source": [
        "average = lambda x,y: (x+y)/2\n",
        "print(average(3,5))"
      ],
      "execution_count": 41,
      "outputs": [
        {
          "output_type": "stream",
          "name": "stdout",
          "text": [
            "4.0\n"
          ]
        }
      ]
    },
    {
      "cell_type": "code",
      "metadata": {
        "colab": {
          "base_uri": "https://localhost:8080/",
          "height": 35
        },
        "id": "zDU_Vrm2oY0S",
        "outputId": "5d83d1ea-d7fd-4a6e-fa17-fbedb6c6efa3"
      },
      "source": [
        "finder = lambda i: \"odd\" if i%2!=0 else \"even\"\n",
        "finder(5)"
      ],
      "execution_count": 49,
      "outputs": [
        {
          "output_type": "execute_result",
          "data": {
            "application/vnd.google.colaboratory.intrinsic+json": {
              "type": "string"
            },
            "text/plain": [
              "'odd'"
            ]
          },
          "metadata": {},
          "execution_count": 49
        }
      ]
    },
    {
      "cell_type": "code",
      "metadata": {
        "colab": {
          "base_uri": "https://localhost:8080/"
        },
        "id": "7TeKor3_ouZR",
        "outputId": "9f4431b2-ed3a-4d35-ec97-543bee66e52a"
      },
      "source": [
        "reverser = lambda x: x[::-1]\n",
        "reverser([1,2,3,4])"
      ],
      "execution_count": 52,
      "outputs": [
        {
          "output_type": "execute_result",
          "data": {
            "text/plain": [
              "[4, 3, 2, 1]"
            ]
          },
          "metadata": {},
          "execution_count": 52
        }
      ]
    },
    {
      "cell_type": "code",
      "metadata": {
        "colab": {
          "base_uri": "https://localhost:8080/",
          "height": 165
        },
        "id": "btsbM-h_o9xw",
        "outputId": "1225285f-3fe0-4849-fc39-2c0da2497b23"
      },
      "source": [
        "map(function, iterable)"
      ],
      "execution_count": 53,
      "outputs": [
        {
          "output_type": "error",
          "ename": "NameError",
          "evalue": "ignored",
          "traceback": [
            "\u001b[0;31m---------------------------------------------------------------------------\u001b[0m",
            "\u001b[0;31mNameError\u001b[0m                                 Traceback (most recent call last)",
            "\u001b[0;32m<ipython-input-53-bae9c691ac3c>\u001b[0m in \u001b[0;36m<module>\u001b[0;34m()\u001b[0m\n\u001b[0;32m----> 1\u001b[0;31m \u001b[0mmap\u001b[0m\u001b[0;34m(\u001b[0m\u001b[0mfunction\u001b[0m\u001b[0;34m,\u001b[0m \u001b[0miterable\u001b[0m\u001b[0;34m)\u001b[0m\u001b[0;34m\u001b[0m\u001b[0;34m\u001b[0m\u001b[0m\n\u001b[0m",
            "\u001b[0;31mNameError\u001b[0m: name 'function' is not defined"
          ]
        }
      ]
    },
    {
      "cell_type": "code",
      "metadata": {
        "colab": {
          "base_uri": "https://localhost:8080/"
        },
        "id": "XHNWQ7AcpD5w",
        "outputId": "8ff49e61-9aa6-4d34-f3a5-69a1a29d0a3e"
      },
      "source": [
        "print(list(map(lambda x: x**2, [1,2,3,4,5])))"
      ],
      "execution_count": 57,
      "outputs": [
        {
          "output_type": "stream",
          "name": "stdout",
          "text": [
            "[1, 4, 9, 16, 25]\n"
          ]
        }
      ]
    },
    {
      "cell_type": "code",
      "metadata": {
        "colab": {
          "base_uri": "https://localhost:8080/"
        },
        "id": "ZDrwZC5XpvWO",
        "outputId": "18513e25-9f49-495b-8726-8c7f3871f6d5"
      },
      "source": [
        "fonksiyon = lambda x: x ** 2\n",
        "iterable = [1,2,3]\n",
        "\n",
        "sonuç = map(fonksiyon, iterable)\n",
        "print(*sonuç)"
      ],
      "execution_count": 62,
      "outputs": [
        {
          "output_type": "stream",
          "name": "stdout",
          "text": [
            "1 4 9\n"
          ]
        }
      ]
    },
    {
      "cell_type": "code",
      "metadata": {
        "colab": {
          "base_uri": "https://localhost:8080/"
        },
        "id": "ssJ_Lb83sneR",
        "outputId": "c1e32ba3-8bc5-41fc-8dc3-ebb1a4e1e097"
      },
      "source": [
        "print(list(map(lambda x: x ** 2, [1,2,3,4,5])))"
      ],
      "execution_count": 66,
      "outputs": [
        {
          "output_type": "stream",
          "name": "stdout",
          "text": [
            "[1, 4, 9, 16, 25]\n"
          ]
        }
      ]
    },
    {
      "cell_type": "code",
      "metadata": {
        "colab": {
          "base_uri": "https://localhost:8080/"
        },
        "id": "nAYijWM0tCP4",
        "outputId": "28d736e4-3e67-4804-87e9-b6d6c98525db"
      },
      "source": [
        "def square(x):\n",
        "  return x ** 2\n",
        "\n",
        "iterable = [1,2,3]\n",
        "sonuç = map(square, iterable)\n",
        "print(*sonuç)"
      ],
      "execution_count": 69,
      "outputs": [
        {
          "output_type": "stream",
          "name": "stdout",
          "text": [
            "1 4 9\n"
          ]
        }
      ]
    },
    {
      "cell_type": "code",
      "metadata": {
        "colab": {
          "base_uri": "https://localhost:8080/"
        },
        "id": "OWxdYEh3teHP",
        "outputId": "b6653a83-92b1-47bb-9ff8-e0898823157b"
      },
      "source": [
        "letter1 = [\"o\", \"s\", \"t\", \"t\"]\n",
        "letter2 = [\"n\", \"i\", \"e\", \"w\"]\n",
        "letter3 = [\"e\", \"x\", \"n\", \"o\"]\n",
        "\n",
        "numbers = map(lambda x,y,z: x+y+z, letter1, letter2, letter3)\n",
        "\n",
        "print(list(numbers))"
      ],
      "execution_count": 72,
      "outputs": [
        {
          "output_type": "stream",
          "name": "stdout",
          "text": [
            "['one', 'six', 'ten', 'two']\n"
          ]
        }
      ]
    },
    {
      "cell_type": "code",
      "metadata": {
        "id": "moEBzDveuDWm"
      },
      "source": [
        "topla = lambda x,y,z : x+y+z"
      ],
      "execution_count": 73,
      "outputs": []
    },
    {
      "cell_type": "code",
      "metadata": {
        "colab": {
          "base_uri": "https://localhost:8080/",
          "height": 35
        },
        "id": "7JiZtPptvaMD",
        "outputId": "eb9c0953-20d1-4d8c-dd9c-89239dcfb82f"
      },
      "source": [
        "topla(\"a\", \"l\", \"i\")"
      ],
      "execution_count": 75,
      "outputs": [
        {
          "output_type": "execute_result",
          "data": {
            "application/vnd.google.colaboratory.intrinsic+json": {
              "type": "string"
            },
            "text/plain": [
              "'ali'"
            ]
          },
          "metadata": {},
          "execution_count": 75
        }
      ]
    },
    {
      "cell_type": "code",
      "metadata": {
        "colab": {
          "base_uri": "https://localhost:8080/"
        },
        "id": "EYPmGLj2vjmL",
        "outputId": "09c1465d-1c61-45a4-fb0e-14b44b466d4b"
      },
      "source": [
        "num1=[9,6,7,4]\n",
        "num2=[3,6,5,8]\n",
        "\n",
        "print(list(map(lambda x, y: (x+y)/2, num1, num2)))"
      ],
      "execution_count": 78,
      "outputs": [
        {
          "output_type": "stream",
          "name": "stdout",
          "text": [
            "[6.0, 6.0, 6.0, 6.0]\n"
          ]
        }
      ]
    },
    {
      "cell_type": "code",
      "metadata": {
        "colab": {
          "base_uri": "https://localhost:8080/"
        },
        "id": "YBMljFYMxN99",
        "outputId": "9405efce-a1b7-4006-ba0c-6bf28d2a2fc8"
      },
      "source": [
        "func = lambda x, y: (x+y)/2\n",
        "num1=[9,6,7,4]\n",
        "num2=[3,6,5,8]\n",
        "\n",
        "numbers = map(func, num1, num2)\n",
        "print(list(numbers))"
      ],
      "execution_count": 92,
      "outputs": [
        {
          "output_type": "stream",
          "name": "stdout",
          "text": [
            "[6.0, 6.0, 6.0, 6.0]\n"
          ]
        }
      ]
    },
    {
      "cell_type": "code",
      "metadata": {
        "colab": {
          "base_uri": "https://localhost:8080/"
        },
        "id": "tjNnCcm7yB4v",
        "outputId": "41977614-683b-4108-cfe0-32e0e452e82f"
      },
      "source": [
        "words1 = [\"you\", \"much\", \"hard\"]\n",
        "words2 = [\"i\", \"you\", \"he\"]\n",
        "words3 = [\"love\", \"ate\", \"works\"]\n",
        "\n",
        "sentence = map(lambda x,y,z: x + \" \" + y + \" \" + z, words2, words3, words1)\n",
        "print(list(sentence))"
      ],
      "execution_count": 96,
      "outputs": [
        {
          "output_type": "stream",
          "name": "stdout",
          "text": [
            "['i love you', 'you ate much', 'he works hard']\n"
          ]
        }
      ]
    },
    {
      "cell_type": "code",
      "metadata": {
        "colab": {
          "base_uri": "https://localhost:8080/"
        },
        "id": "OkEM9cmCzOiF",
        "outputId": "1a2a8b77-98ab-43c3-ab2c-e3c2d043d8c1"
      },
      "source": [
        "words1 = [\"you\", \"much\", \"hard\"]\n",
        "words2 = [\"i\", \"you\", \"he\"]\n",
        "words3 = [\"love\", \"ate\", \"works\"]\n",
        "\n",
        "sentence = map(lambda x,y,z: x+\" \"+y+\" \"+z, words2, words3, words1)\n",
        "\n",
        "for i in sentence:\n",
        "  print(i)"
      ],
      "execution_count": 106,
      "outputs": [
        {
          "output_type": "stream",
          "name": "stdout",
          "text": [
            "i love you\n",
            "you ate much\n",
            "he works hard\n"
          ]
        }
      ]
    },
    {
      "cell_type": "code",
      "metadata": {
        "colab": {
          "base_uri": "https://localhost:8080/"
        },
        "id": "6mj2mw-L2crN",
        "outputId": "5e57da74-26bc-41a2-ea61-d67479fb5dee"
      },
      "source": [
        "filter(func, iterable)  # func = if Function is None, filter returns the items which is True"
      ],
      "execution_count": 107,
      "outputs": [
        {
          "output_type": "execute_result",
          "data": {
            "text/plain": [
              "<filter at 0x7f291bcb5f50>"
            ]
          },
          "metadata": {},
          "execution_count": 107
        }
      ]
    },
    {
      "cell_type": "code",
      "metadata": {
        "colab": {
          "base_uri": "https://localhost:8080/"
        },
        "id": "xN3kE42p3DRE",
        "outputId": "0c5b87ea-ffd7-4e60-fedc-e11158ee697f"
      },
      "source": [
        "first_ten = [0,1,2,3,4,5,6,7,8,9]\n",
        "\n",
        "even = filter(lambda x: x%2==0, first_ten )\n",
        "print(list(even))"
      ],
      "execution_count": 110,
      "outputs": [
        {
          "output_type": "stream",
          "name": "stdout",
          "text": [
            "[0, 2, 4, 6, 8]\n"
          ]
        }
      ]
    },
    {
      "cell_type": "code",
      "metadata": {
        "colab": {
          "base_uri": "https://localhost:8080/"
        },
        "id": "9v7ZPQBu8g3S",
        "outputId": "44b49b55-32d4-4167-f315-ab798537c358"
      },
      "source": [
        "words = [\"apple\", \"swim\", \"clock\", \"me\", \"kiwi\", \"banana\"]\n",
        "\n",
        "short5= filter(lambda x: len(x) < 5, words)\n",
        "\n",
        "print(\"The object has less ten 5 digits are: \", list(short5))"
      ],
      "execution_count": 115,
      "outputs": [
        {
          "output_type": "stream",
          "name": "stdout",
          "text": [
            "The object has less ten 5 digits are:  ['swim', 'me', 'kiwi']\n"
          ]
        }
      ]
    },
    {
      "cell_type": "code",
      "metadata": {
        "colab": {
          "base_uri": "https://localhost:8080/"
        },
        "id": "0MnAGqzN9gkA",
        "outputId": "299b3549-2c54-4b5a-98f7-bb4a4d6164c1"
      },
      "source": [
        "words = [\"apple\", \"swim\", \"clock\", \"me\", \"kiwi\", \"banana\"]\n",
        "\n",
        "for i in filter(lambda x: len(x) < 5, words):\n",
        "  print(i)"
      ],
      "execution_count": 117,
      "outputs": [
        {
          "output_type": "stream",
          "name": "stdout",
          "text": [
            "swim\n",
            "me\n",
            "kiwi\n"
          ]
        }
      ]
    },
    {
      "cell_type": "code",
      "metadata": {
        "colab": {
          "base_uri": "https://localhost:8080/"
        },
        "id": "LUA5y-xb94sG",
        "outputId": "3a708731-4041-4db4-f813-8df79a511718"
      },
      "source": [
        "vowel_list = ['a', 'e', 'i', 'o', 'u']\n",
        "first_ten = ['a', 'b', 'c', 'd', 'e', 'f', 'g', 'h', 'i', 'j']\n",
        "    \n",
        "for i in filter(lambda x: x in vowel_list, first_ten):\n",
        "  print(i)"
      ],
      "execution_count": 3,
      "outputs": [
        {
          "output_type": "stream",
          "name": "stdout",
          "text": [
            "a\n",
            "e\n",
            "i\n"
          ]
        }
      ]
    },
    {
      "cell_type": "code",
      "metadata": {
        "colab": {
          "base_uri": "https://localhost:8080/"
        },
        "id": "__0K_L0t_FyG",
        "outputId": "2a1c6f67-9cbb-4465-b5b4-7fb3ad40a83e"
      },
      "source": [
        "def modular_function(n):\n",
        "  return lambda x: x**n\n",
        "\n",
        "power_of_2 = modular_function(2)  # lambda x: x**2\n",
        "print(power_of_2(2))\n",
        "print((lambda x: x**2)(2))\n",
        "\n",
        "power_of_3 = modular_function(3)  # lambda x: x ** 3\n",
        "print(power_of_3(2))\n",
        "print((lambda x: x**3)(2))\n",
        "\n",
        "power_of_4 = modular_function(4)  # lambda x: x ** 4\n",
        "print(power_of_4(2))\n",
        "print((lambda x:  x ** 4)(2))"
      ],
      "execution_count": 8,
      "outputs": [
        {
          "output_type": "stream",
          "name": "stdout",
          "text": [
            "4\n",
            "4\n",
            "8\n",
            "8\n",
            "16\n",
            "16\n"
          ]
        }
      ]
    },
    {
      "cell_type": "code",
      "metadata": {
        "colab": {
          "base_uri": "https://localhost:8080/"
        },
        "id": "lhD9HfDgD6yt",
        "outputId": "5e441c80-f82f-48bf-9be2-ddad858992ed"
      },
      "source": [
        "def modular(n):\n",
        "  return lambda x: x**n\n",
        "\n",
        "karesinial = modular(2)\n",
        "\n",
        "karesinial(2)"
      ],
      "execution_count": 14,
      "outputs": [
        {
          "output_type": "execute_result",
          "data": {
            "text/plain": [
              "4"
            ]
          },
          "metadata": {},
          "execution_count": 14
        }
      ]
    },
    {
      "cell_type": "code",
      "metadata": {
        "colab": {
          "base_uri": "https://localhost:8080/"
        },
        "id": "NUEFW90sERYM",
        "outputId": "060c0dc4-3912-4a0f-dbfd-cc2bef44ec42"
      },
      "source": [
        "küpünüal = modular(2)\n",
        "\n",
        "küpünüal(3)"
      ],
      "execution_count": 18,
      "outputs": [
        {
          "output_type": "execute_result",
          "data": {
            "text/plain": [
              "9"
            ]
          },
          "metadata": {},
          "execution_count": 18
        }
      ]
    },
    {
      "cell_type": "code",
      "metadata": {
        "colab": {
          "base_uri": "https://localhost:8080/"
        },
        "id": "vX9vagCpEakj",
        "outputId": "eb1b64c8-3c4c-4371-d732-85249d29e681"
      },
      "source": [
        "def repeater(n):\n",
        "  return lambda x: x * n\n",
        "\n",
        "repeat2 = repeater(3)\n",
        "print(repeat2(\"veli\"))"
      ],
      "execution_count": 23,
      "outputs": [
        {
          "output_type": "stream",
          "name": "stdout",
          "text": [
            "veliveliveli\n"
          ]
        }
      ]
    },
    {
      "cell_type": "code",
      "metadata": {
        "colab": {
          "base_uri": "https://localhost:8080/"
        },
        "id": "j4nswtTLFAcL",
        "outputId": "0b20c240-9935-44e1-f455-266705650d70"
      },
      "source": [
        "def smile(n):\n",
        "  return lambda x: x + n\n",
        "\n",
        "my_smile = smile(\" \"+ \":)\")\n",
        "my_sad = smile(\" \"+ \":(\")\n",
        "my_neutrul = smile(\" \"+ \":|\")\n",
        "\n",
        "print(my_smile(\"hello\"))\n",
        "print(my_sad(\"hello\"))\n",
        "print(my_neutrul(\"hello\"))"
      ],
      "execution_count": 28,
      "outputs": [
        {
          "output_type": "stream",
          "name": "stdout",
          "text": [
            "hello :)\n",
            "hello :(\n",
            "hello :|\n"
          ]
        }
      ]
    },
    {
      "cell_type": "code",
      "metadata": {
        "colab": {
          "base_uri": "https://localhost:8080/"
        },
        "id": "a4Zt06WaFbx5",
        "outputId": "ab27fb81-859a-4c64-8c84-349a2e61e63b"
      },
      "source": [
        "def function_generator(function_name):\n",
        "  return lambda x: function_name(x)\n",
        "\n",
        "murat_max = function_generator(max)\n",
        "murat_print = function_generator(print)\n",
        "murat_bool = function_generator(bool)\n",
        "murat_sorted = function_generator(sorted)\n",
        "\n",
        "murat_max((22,2,6))"
      ],
      "execution_count": 34,
      "outputs": [
        {
          "output_type": "execute_result",
          "data": {
            "text/plain": [
              "22"
            ]
          },
          "metadata": {},
          "execution_count": 34
        }
      ]
    },
    {
      "cell_type": "code",
      "metadata": {
        "colab": {
          "base_uri": "https://localhost:8080/"
        },
        "id": "EOY4kafuJHPo",
        "outputId": "b7ed55ba-e7c8-4c73-c713-ff0a4275ec35"
      },
      "source": [
        "def function_generator(function_name):\n",
        "  return lambda x: function_name(x)\n",
        "\n",
        "murat_max = function_generator(max)\n",
        "\n",
        "murat_max((12,33,55))"
      ],
      "execution_count": 37,
      "outputs": [
        {
          "output_type": "execute_result",
          "data": {
            "text/plain": [
              "55"
            ]
          },
          "metadata": {},
          "execution_count": 37
        }
      ]
    }
  ]
}