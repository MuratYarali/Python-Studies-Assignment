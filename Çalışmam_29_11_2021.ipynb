{
  "nbformat": 4,
  "nbformat_minor": 0,
  "metadata": {
    "colab": {
      "name": "Çalışmam 29.11.2021.ipynb",
      "provenance": [],
      "collapsed_sections": [],
      "authorship_tag": "ABX9TyOpraA855ZYy/CSd4OEN4LO",
      "include_colab_link": true
    },
    "kernelspec": {
      "name": "python3",
      "display_name": "Python 3"
    },
    "language_info": {
      "name": "python"
    }
  },
  "cells": [
    {
      "cell_type": "markdown",
      "metadata": {
        "id": "view-in-github",
        "colab_type": "text"
      },
      "source": [
        "<a href=\"https://colab.research.google.com/github/MuratYarali/Python-Studies/blob/main/%C3%87al%C4%B1%C5%9Fmam_29_11_2021.ipynb\" target=\"_parent\"><img src=\"https://colab.research.google.com/assets/colab-badge.svg\" alt=\"Open In Colab\"/></a>"
      ]
    },
    {
      "cell_type": "code",
      "metadata": {
        "colab": {
          "base_uri": "https://localhost:8080/"
        },
        "id": "0BfiQa9Zk6Yd",
        "outputId": "129613c4-05e7-4c4d-c626-5bea6656502f"
      },
      "source": [
        "import math\n",
        "\n",
        "print(dir(math))"
      ],
      "execution_count": 3,
      "outputs": [
        {
          "output_type": "stream",
          "name": "stdout",
          "text": [
            "['__doc__', '__loader__', '__name__', '__package__', '__spec__', 'acos', 'acosh', 'asin', 'asinh', 'atan', 'atan2', 'atanh', 'ceil', 'copysign', 'cos', 'cosh', 'degrees', 'e', 'erf', 'erfc', 'exp', 'expm1', 'fabs', 'factorial', 'floor', 'fmod', 'frexp', 'fsum', 'gamma', 'gcd', 'hypot', 'inf', 'isclose', 'isfinite', 'isinf', 'isnan', 'ldexp', 'lgamma', 'log', 'log10', 'log1p', 'log2', 'modf', 'nan', 'pi', 'pow', 'radians', 'remainder', 'sin', 'sinh', 'sqrt', 'tan', 'tanh', 'tau', 'trunc']\n"
          ]
        }
      ]
    },
    {
      "cell_type": "code",
      "metadata": {
        "id": "1VwfFOY0lqLW"
      },
      "source": [
        "from math import pi, factorial, log10"
      ],
      "execution_count": 4,
      "outputs": []
    },
    {
      "cell_type": "code",
      "metadata": {
        "colab": {
          "base_uri": "https://localhost:8080/"
        },
        "id": "A4RUvd2sl3Tl",
        "outputId": "57132044-0fa8-4251-b909-11af07b18161"
      },
      "source": [
        "print(pi)\n",
        "print(factorial(4))\n",
        "print(log10(1000))"
      ],
      "execution_count": 6,
      "outputs": [
        {
          "output_type": "stream",
          "name": "stdout",
          "text": [
            "3.141592653589793\n",
            "24\n",
            "3.0\n"
          ]
        }
      ]
    },
    {
      "cell_type": "code",
      "metadata": {
        "colab": {
          "base_uri": "https://localhost:8080/"
        },
        "id": "jKsLTf4smMYy",
        "outputId": "28e73dac-0e5c-45f6-9e1a-5f5805277139"
      },
      "source": [
        "def factor(x):\n",
        "  result = 1\n",
        "  for i in range(x):\n",
        "    result *= (i+1)\n",
        "  return print(result)\n",
        "\n",
        "factor(5)"
      ],
      "execution_count": 11,
      "outputs": [
        {
          "output_type": "stream",
          "name": "stdout",
          "text": [
            "120\n"
          ]
        }
      ]
    },
    {
      "cell_type": "code",
      "metadata": {
        "colab": {
          "base_uri": "https://localhost:8080/"
        },
        "id": "O_D2Q6Zdnu1I",
        "outputId": "7986629c-3feb-44e9-bb3b-8f8f3d3d8c58"
      },
      "source": [
        "import string as stg\n",
        "\n",
        "print(stg.punctuation)\n",
        "print(stg.digits)"
      ],
      "execution_count": 13,
      "outputs": [
        {
          "output_type": "stream",
          "name": "stdout",
          "text": [
            "!\"#$%&'()*+,-./:;<=>?@[\\]^_`{|}~\n",
            "0123456789\n"
          ]
        }
      ]
    },
    {
      "cell_type": "code",
      "metadata": {
        "colab": {
          "base_uri": "https://localhost:8080/"
        },
        "id": "eOYsJKZDocZv",
        "outputId": "c978bd15-1b3a-4637-c43e-5215c80b6e51"
      },
      "source": [
        "import datetime as dt\n",
        "\n",
        "print(dt.date.today())\n",
        "print(dt.datetime.now())"
      ],
      "execution_count": 16,
      "outputs": [
        {
          "output_type": "stream",
          "name": "stdout",
          "text": [
            "2021-11-29\n",
            "2021-11-29 17:01:23.736234\n"
          ]
        }
      ]
    },
    {
      "cell_type": "code",
      "metadata": {
        "colab": {
          "base_uri": "https://localhost:8080/"
        },
        "id": "d8cAdNZ6pOFO",
        "outputId": "83a42546-75f4-4ee7-f31a-8ed193760529"
      },
      "source": [
        "from random import choice\n",
        "\n",
        "city = ['Stockholm', 'Istanbul', 'Seul', 'Cape Town']\n",
        "print(choice(city))"
      ],
      "execution_count": 26,
      "outputs": [
        {
          "output_type": "stream",
          "name": "stdout",
          "text": [
            "Istanbul\n"
          ]
        }
      ]
    },
    {
      "cell_type": "code",
      "metadata": {
        "colab": {
          "base_uri": "https://localhost:8080/"
        },
        "id": "FpqVsbtupvit",
        "outputId": "096ba18c-851f-4ff7-dd2b-62dfeb809b72"
      },
      "source": [
        "from random import random\n",
        "print(random())"
      ],
      "execution_count": 34,
      "outputs": [
        {
          "output_type": "stream",
          "name": "stdout",
          "text": [
            "0.4001212720447397\n"
          ]
        }
      ]
    },
    {
      "cell_type": "code",
      "metadata": {
        "colab": {
          "base_uri": "https://localhost:8080/"
        },
        "id": "KLAxRyk_uCUf",
        "outputId": "f054ec7f-870c-4bb4-938a-286a962db7dd"
      },
      "source": [
        "def sum_double(x, y):\n",
        "  result = 0\n",
        "  if x == y:\n",
        "    result = 2 * (x + y)\n",
        "  else:\n",
        "    result = x + y\n",
        "  return result\n",
        "\n",
        "print(sum_double(5, 5))"
      ],
      "execution_count": 38,
      "outputs": [
        {
          "output_type": "stream",
          "name": "stdout",
          "text": [
            "20\n"
          ]
        }
      ]
    },
    {
      "cell_type": "code",
      "metadata": {
        "id": "Zfi4qteZvsZU"
      },
      "source": [
        "def parrot_trouble(talking, hour):\n",
        "  result = 0\n",
        "  if talking == True and (0 <= hour <= 6 or 21 <= hour <= 23):\n",
        "    result = True\n",
        "  else:\n",
        "    result = False\n",
        "  return result"
      ],
      "execution_count": 47,
      "outputs": []
    },
    {
      "cell_type": "code",
      "metadata": {
        "colab": {
          "base_uri": "https://localhost:8080/"
        },
        "id": "wsIZSEWwwBqC",
        "outputId": "0d92834a-65af-426b-b7b2-c2ed8b73c637"
      },
      "source": [
        "print(parrot_trouble(False, 5))"
      ],
      "execution_count": 52,
      "outputs": [
        {
          "output_type": "stream",
          "name": "stdout",
          "text": [
            "False\n"
          ]
        }
      ]
    },
    {
      "cell_type": "code",
      "metadata": {
        "colab": {
          "base_uri": "https://localhost:8080/"
        },
        "id": "x4JwU4SK6aoY",
        "outputId": "4d052b32-a749-49c1-d4c6-e5a41121084e"
      },
      "source": [
        "print((lambda x: x ** 2)(2))"
      ],
      "execution_count": 54,
      "outputs": [
        {
          "output_type": "stream",
          "name": "stdout",
          "text": [
            "4\n"
          ]
        }
      ]
    },
    {
      "cell_type": "code",
      "metadata": {
        "colab": {
          "base_uri": "https://localhost:8080/"
        },
        "id": "S4JmaQom6nYv",
        "outputId": "c2417cec-673e-473b-af1c-9f912db855b0"
      },
      "source": [
        "lambda x: \"odd\" if x % 2 != 0 else \"even\""
      ],
      "execution_count": 56,
      "outputs": [
        {
          "output_type": "execute_result",
          "data": {
            "text/plain": [
              "<function __main__.<lambda>>"
            ]
          },
          "metadata": {},
          "execution_count": 56
        }
      ]
    },
    {
      "cell_type": "code",
      "metadata": {
        "colab": {
          "base_uri": "https://localhost:8080/",
          "height": 35
        },
        "id": "eM6EBIo064PW",
        "outputId": "7325c240-a761-4f6e-e37c-452f0dd3bd2c"
      },
      "source": [
        "(lambda x: \"odd\" if x % 2 != 0 else \"even\")(5)"
      ],
      "execution_count": 61,
      "outputs": [
        {
          "output_type": "execute_result",
          "data": {
            "application/vnd.google.colaboratory.intrinsic+json": {
              "type": "string"
            },
            "text/plain": [
              "'odd'"
            ]
          },
          "metadata": {},
          "execution_count": 61
        }
      ]
    },
    {
      "cell_type": "code",
      "metadata": {
        "colab": {
          "base_uri": "https://localhost:8080/",
          "height": 35
        },
        "id": "qWU72UKM7XUF",
        "outputId": "7baf5bda-4445-4d00-bc1b-cd8cf9303e1c"
      },
      "source": [
        "(lambda x: \",\".join(sorted(x, reverse = True)))(\"ali\")\n"
      ],
      "execution_count": 66,
      "outputs": [
        {
          "output_type": "execute_result",
          "data": {
            "application/vnd.google.colaboratory.intrinsic+json": {
              "type": "string"
            },
            "text/plain": [
              "'l,i,a'"
            ]
          },
          "metadata": {},
          "execution_count": 66
        }
      ]
    },
    {
      "cell_type": "code",
      "metadata": {
        "colab": {
          "base_uri": "https://localhost:8080/",
          "height": 35
        },
        "id": "nmceI4zo8Mql",
        "outputId": "5b49678e-7f1a-4007-e8df-fd26f1bb2b8f"
      },
      "source": [
        "(lambda x: x[::-1])(\"ali\")"
      ],
      "execution_count": 68,
      "outputs": [
        {
          "output_type": "execute_result",
          "data": {
            "application/vnd.google.colaboratory.intrinsic+json": {
              "type": "string"
            },
            "text/plain": [
              "'ila'"
            ]
          },
          "metadata": {},
          "execution_count": 68
        }
      ]
    },
    {
      "cell_type": "code",
      "metadata": {
        "colab": {
          "base_uri": "https://localhost:8080/"
        },
        "id": "E0Rz9Gse8Vhk",
        "outputId": "8b38f9d6-9572-41b6-a10f-1d1cc51d6073"
      },
      "source": [
        "(lambda x: x[::-1])([1,2,3])"
      ],
      "execution_count": 70,
      "outputs": [
        {
          "output_type": "execute_result",
          "data": {
            "text/plain": [
              "[3, 2, 1]"
            ]
          },
          "metadata": {},
          "execution_count": 70
        }
      ]
    },
    {
      "cell_type": "code",
      "metadata": {
        "colab": {
          "base_uri": "https://localhost:8080/"
        },
        "id": "VS5UnJ0b8cK8",
        "outputId": "3025051d-5d2a-49ec-8d0b-b096e6321f8a"
      },
      "source": [
        "(lambda a,b: int((a+b)/2))(5,10)"
      ],
      "execution_count": 74,
      "outputs": [
        {
          "output_type": "execute_result",
          "data": {
            "text/plain": [
              "7"
            ]
          },
          "metadata": {},
          "execution_count": 74
        }
      ]
    },
    {
      "cell_type": "code",
      "metadata": {
        "colab": {
          "base_uri": "https://localhost:8080/"
        },
        "id": "Mc6Z6QLY82Wz",
        "outputId": "37505bab-e5f4-4c37-f744-c59f96d3ef00"
      },
      "source": [
        "print((lambda x,y:(x+y)/2)(3,5))"
      ],
      "execution_count": 76,
      "outputs": [
        {
          "output_type": "stream",
          "name": "stdout",
          "text": [
            "4.0\n"
          ]
        }
      ]
    },
    {
      "cell_type": "code",
      "metadata": {
        "id": "w37MGlZq_bCF"
      },
      "source": [
        "sayılar = [1,2,3,4,5,6]"
      ],
      "execution_count": 4,
      "outputs": []
    },
    {
      "cell_type": "code",
      "metadata": {
        "colab": {
          "base_uri": "https://localhost:8080/"
        },
        "id": "YnBvEdh49GUD",
        "outputId": "fd71e79f-87ea-4b36-fed1-c65038d34d56"
      },
      "source": [
        "for a in sayılar:\n",
        "  print(a, \":\", (lambda x: \"odd\" if x % 2 != 0 else \"even\")(a))"
      ],
      "execution_count": 7,
      "outputs": [
        {
          "output_type": "stream",
          "name": "stdout",
          "text": [
            "odd\n",
            "even\n",
            "odd\n",
            "even\n",
            "odd\n",
            "even\n"
          ]
        }
      ]
    },
    {
      "cell_type": "code",
      "metadata": {
        "colab": {
          "base_uri": "https://localhost:8080/"
        },
        "id": "ntWSU3-D_LpQ",
        "outputId": "938acf61-e968-4201-eb7b-eca9c84274f1"
      },
      "source": [
        "avarage = lambda x, y: (x+y)/2\n",
        "print(avarage(3, 5))"
      ],
      "execution_count": 9,
      "outputs": [
        {
          "output_type": "stream",
          "name": "stdout",
          "text": [
            "4.0\n"
          ]
        }
      ]
    },
    {
      "cell_type": "code",
      "metadata": {
        "id": "56Bym9v4_mPN"
      },
      "source": [
        "finder = lambda x: \"odd\" if x % 2 != 0 else \"even\""
      ],
      "execution_count": 10,
      "outputs": []
    },
    {
      "cell_type": "code",
      "metadata": {
        "colab": {
          "base_uri": "https://localhost:8080/"
        },
        "id": "r1-MO7ki_qAu",
        "outputId": "15c6c499-c46f-49b1-f3c5-dc315c32f0da"
      },
      "source": [
        "print(finder(5))"
      ],
      "execution_count": 13,
      "outputs": [
        {
          "output_type": "stream",
          "name": "stdout",
          "text": [
            "odd\n"
          ]
        }
      ]
    },
    {
      "cell_type": "code",
      "metadata": {
        "id": "TndrQxDb_76O"
      },
      "source": [
        "reverser = lambda x: x[::-1]"
      ],
      "execution_count": 15,
      "outputs": []
    },
    {
      "cell_type": "code",
      "metadata": {
        "colab": {
          "base_uri": "https://localhost:8080/"
        },
        "id": "JwFXuY3p__x9",
        "outputId": "faf2aab2-d207-4e83-9798-172b6d59d5f1"
      },
      "source": [
        "reverser([1,2,3,4])"
      ],
      "execution_count": 17,
      "outputs": [
        {
          "output_type": "execute_result",
          "data": {
            "text/plain": [
              "[4, 3, 2, 1]"
            ]
          },
          "metadata": {},
          "execution_count": 17
        }
      ]
    },
    {
      "cell_type": "code",
      "metadata": {
        "colab": {
          "base_uri": "https://localhost:8080/"
        },
        "id": "2EHs0smEAHZ9",
        "outputId": "82891a99-5cba-4b85-af20-7027d06151dd"
      },
      "source": [
        "print(list(map((lambda  x: x**2), ([1,2,3,4]))))"
      ],
      "execution_count": 24,
      "outputs": [
        {
          "output_type": "stream",
          "name": "stdout",
          "text": [
            "[1, 4, 9, 16]\n"
          ]
        }
      ]
    },
    {
      "cell_type": "code",
      "metadata": {
        "colab": {
          "base_uri": "https://localhost:8080/"
        },
        "id": "at-sWtZIBKC7",
        "outputId": "879aedd2-7057-4a58-ca6c-ab47ac48f59d"
      },
      "source": [
        "fonksiyon = lambda x: x ** 2\n",
        "iterable = [1,2,3,4]\n",
        "\n",
        "sonuç = map(fonksiyon, iterable)\n",
        "print(*sonuç)"
      ],
      "execution_count": 31,
      "outputs": [
        {
          "output_type": "stream",
          "name": "stdout",
          "text": [
            "1 4 9 16\n"
          ]
        }
      ]
    },
    {
      "cell_type": "code",
      "metadata": {
        "id": "D4b2dsxkBEt0"
      },
      "source": [
        "def kare(b):\n",
        "  return b ** 2"
      ],
      "execution_count": 32,
      "outputs": []
    },
    {
      "cell_type": "code",
      "metadata": {
        "colab": {
          "base_uri": "https://localhost:8080/"
        },
        "id": "kYGYEiQKFg_k",
        "outputId": "e0a37d65-2517-406d-c0f3-1d2230bed382"
      },
      "source": [
        "sonuç2 = map(kare, iterable)\n",
        "print(*sonuç2)"
      ],
      "execution_count": 34,
      "outputs": [
        {
          "output_type": "stream",
          "name": "stdout",
          "text": [
            "1 4 9 16\n"
          ]
        }
      ]
    },
    {
      "cell_type": "code",
      "metadata": {
        "colab": {
          "base_uri": "https://localhost:8080/"
        },
        "id": "-wc1_IsFGJtT",
        "outputId": "d21ce4ea-c3b9-491d-ff93-08f46f9fa0ed"
      },
      "source": [
        "letter1 = [\"o\", \"s\", \"t\", \"t\"]\n",
        "letter2 = [\"n\", \"i\", \"e\", \"w\"]\n",
        "letter3 = [\"e\", \"x\", \"n\", \"o\"]\n",
        "\n",
        "numbers = map(lambda x,y,z: x+y+z, letter1, letter2, letter3)\n",
        "\n",
        "print(list(numbers))"
      ],
      "execution_count": 2,
      "outputs": [
        {
          "output_type": "stream",
          "name": "stdout",
          "text": [
            "['one', 'six', 'ten', 'two']\n"
          ]
        }
      ]
    },
    {
      "cell_type": "code",
      "metadata": {
        "colab": {
          "base_uri": "https://localhost:8080/",
          "height": 35
        },
        "id": "qxBX7OSjGcH5",
        "outputId": "db711e1d-3502-4b84-ed97-08a3a8a03710"
      },
      "source": [
        "topla = lambda x, y, z: x + y + z\n",
        "topla(\"a\", \"l\", \"i\")"
      ],
      "execution_count": 1,
      "outputs": [
        {
          "output_type": "execute_result",
          "data": {
            "application/vnd.google.colaboratory.intrinsic+json": {
              "type": "string"
            },
            "text/plain": [
              "'ali'"
            ]
          },
          "metadata": {},
          "execution_count": 1
        }
      ]
    },
    {
      "cell_type": "code",
      "metadata": {
        "colab": {
          "base_uri": "https://localhost:8080/"
        },
        "id": "CnxfVJ1NGwrw",
        "outputId": "25d20028-cbc5-4c5c-aeb3-f837f6269ad5"
      },
      "source": [
        "num1 = [9,6,7,4]\n",
        "num2 = [3,6,5,8]\n",
        "\n",
        "func = lambda x, y: (x+y)/2\n",
        "\n",
        "numbers = map(func, num1, num2)\n",
        "\n",
        "print(list(numbers))"
      ],
      "execution_count": 10,
      "outputs": [
        {
          "output_type": "stream",
          "name": "stdout",
          "text": [
            "[6.0, 6.0, 6.0, 6.0]\n"
          ]
        }
      ]
    },
    {
      "cell_type": "code",
      "metadata": {
        "colab": {
          "base_uri": "https://localhost:8080/"
        },
        "id": "-foUGXA1Il7-",
        "outputId": "4899ef19-64bb-447c-8ca7-e943bd351ac9"
      },
      "source": [
        "words1 = [\"you\", \"much\", \"hard\"]\n",
        "words2 = [\"i\", \"you\", \"he\"]\n",
        "words3 = [\"love\", \"ate\", \"works\"]\n",
        "\n",
        "sentence = map(lambda x,y,z: x+\" \"+y+\" \"+z, words2, words3, words1)\n",
        "\n",
        "print(list(sentence))"
      ],
      "execution_count": 14,
      "outputs": [
        {
          "output_type": "stream",
          "name": "stdout",
          "text": [
            "['i love you', 'you ate much', 'he works hard']\n"
          ]
        }
      ]
    },
    {
      "cell_type": "code",
      "metadata": {
        "colab": {
          "base_uri": "https://localhost:8080/"
        },
        "id": "h8uLWFXDKU7s",
        "outputId": "1c418dde-b5ae-487e-ea7e-588a7327380a"
      },
      "source": [
        "words1 = [\"you\", \"much\", \"hard\"]\n",
        "words2 = [\"i\", \"you\", \"he\"]\n",
        "words3 = [\"love\", \"ate\", \"works\"]\n",
        "\n",
        "sentence = map(lambda x,y,z: x+\" \"+y+\" \"+z, words2, words3, words1)\n",
        "\n",
        "for i in sentence:\n",
        "  print(i)"
      ],
      "execution_count": 19,
      "outputs": [
        {
          "output_type": "stream",
          "name": "stdout",
          "text": [
            "i love you\n",
            "you ate much\n",
            "he works hard\n"
          ]
        }
      ]
    },
    {
      "cell_type": "code",
      "metadata": {
        "colab": {
          "base_uri": "https://localhost:8080/"
        },
        "id": "D3rce7OANjom",
        "outputId": "7e319098-b106-4d14-9020-dc4aecc16d05"
      },
      "source": [
        "first_ten = [0,1,2,3,4,5,6,7,8,9]\n",
        "\n",
        "even = filter(lambda x: x%2==0, first_ten)\n",
        "\n",
        "print(type(even))\n",
        "print(\"Even numbers are: \", list(even))"
      ],
      "execution_count": 21,
      "outputs": [
        {
          "output_type": "stream",
          "name": "stdout",
          "text": [
            "<class 'filter'>\n",
            "Even numbers are:  [0, 2, 4, 6, 8]\n"
          ]
        }
      ]
    },
    {
      "cell_type": "code",
      "metadata": {
        "colab": {
          "base_uri": "https://localhost:8080/"
        },
        "id": "dVLuAsQMOQbc",
        "outputId": "2905b005-9c0b-4a65-d379-ad1c1cfef155"
      },
      "source": [
        "words = [\"apple\", \"swim\", \"clock\", \"me\", \"kiwi\", \"banana\"]\n",
        "\n",
        "greater5 = filter(lambda x: len(x)>=5, words)\n",
        "\n",
        "print(list(greater5))"
      ],
      "execution_count": 23,
      "outputs": [
        {
          "output_type": "stream",
          "name": "stdout",
          "text": [
            "['apple', 'clock', 'banana']\n"
          ]
        }
      ]
    },
    {
      "cell_type": "code",
      "metadata": {
        "colab": {
          "base_uri": "https://localhost:8080/"
        },
        "id": "PP1Lvv7sO3Mq",
        "outputId": "e34f8cc0-fd32-4fae-e2ad-acc54783e9cd"
      },
      "source": [
        "words = [\"apple\", \"swim\", \"clock\", \"me\", \"kiwi\", \"banana\"]\n",
        "\n",
        "lower5 = filter(lambda x: len(x)<5, words)\n",
        "\n",
        "print(list(lower5))"
      ],
      "execution_count": 26,
      "outputs": [
        {
          "output_type": "stream",
          "name": "stdout",
          "text": [
            "['swim', 'me', 'kiwi']\n"
          ]
        }
      ]
    }
  ]
}