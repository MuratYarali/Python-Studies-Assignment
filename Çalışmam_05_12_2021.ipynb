{
  "nbformat": 4,
  "nbformat_minor": 0,
  "metadata": {
    "colab": {
      "name": "Çalışmam 05.12.2021.ipynb",
      "provenance": [],
      "collapsed_sections": [],
      "authorship_tag": "ABX9TyM9XRhxA1I6TjTh2thc/oNm",
      "include_colab_link": true
    },
    "kernelspec": {
      "name": "python3",
      "display_name": "Python 3"
    },
    "language_info": {
      "name": "python"
    }
  },
  "cells": [
    {
      "cell_type": "markdown",
      "metadata": {
        "id": "view-in-github",
        "colab_type": "text"
      },
      "source": [
        "<a href=\"https://colab.research.google.com/github/MuratYarali/Python-Studies/blob/main/%C3%87al%C4%B1%C5%9Fmam_05_12_2021.ipynb\" target=\"_parent\"><img src=\"https://colab.research.google.com/assets/colab-badge.svg\" alt=\"Open In Colab\"/></a>"
      ]
    },
    {
      "cell_type": "code",
      "metadata": {
        "colab": {
          "base_uri": "https://localhost:8080/"
        },
        "id": "_7XE_Pa1S8VK",
        "outputId": "6c96a16e-9b00-49b0-ad60-1522af4af010"
      },
      "source": [
        "def missing_char(word, n):\n",
        "  new_string = word.replace(word[n], '')\n",
        "  return new_string\n",
        "\n",
        "print(missing_char('kitchen', 1))\n",
        "print(missing_char('kitchen', 0))\n",
        "print(missing_char('kitchen', 4))"
      ],
      "execution_count": 3,
      "outputs": [
        {
          "output_type": "stream",
          "name": "stdout",
          "text": [
            "ktchen\n",
            "itchen\n",
            "kitcen\n"
          ]
        }
      ]
    }
  ]
}