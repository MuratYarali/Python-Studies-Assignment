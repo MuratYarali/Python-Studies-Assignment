{
  "nbformat": 4,
  "nbformat_minor": 0,
  "metadata": {
    "colab": {
      "name": "Çalışmam 05.12.2021.ipynb",
      "provenance": [],
      "collapsed_sections": [],
      "authorship_tag": "ABX9TyMYCsnUVPnIgcNjlA/i2rzg",
      "include_colab_link": true
    },
    "kernelspec": {
      "name": "python3",
      "display_name": "Python 3"
    },
    "language_info": {
      "name": "python"
    }
  },
  "cells": [
    {
      "cell_type": "markdown",
      "metadata": {
        "id": "view-in-github",
        "colab_type": "text"
      },
      "source": [
        "<a href=\"https://colab.research.google.com/github/MuratYarali/Python-Studies/blob/main/%C3%87al%C4%B1%C5%9Fmam_05_12_2021.ipynb\" target=\"_parent\"><img src=\"https://colab.research.google.com/assets/colab-badge.svg\" alt=\"Open In Colab\"/></a>"
      ]
    },
    {
      "cell_type": "code",
      "metadata": {
        "colab": {
          "base_uri": "https://localhost:8080/"
        },
        "id": "_7XE_Pa1S8VK",
        "outputId": "6c96a16e-9b00-49b0-ad60-1522af4af010"
      },
      "source": [
        "def missing_char(word, n):\n",
        "  new_string = word.replace(word[n], '')\n",
        "  return new_string\n",
        "\n",
        "print(missing_char('kitchen', 1))\n",
        "print(missing_char('kitchen', 0))\n",
        "print(missing_char('kitchen', 4))"
      ],
      "execution_count": null,
      "outputs": [
        {
          "output_type": "stream",
          "name": "stdout",
          "text": [
            "ktchen\n",
            "itchen\n",
            "kitcen\n"
          ]
        }
      ]
    },
    {
      "cell_type": "code",
      "metadata": {
        "colab": {
          "base_uri": "https://localhost:8080/"
        },
        "id": "xihxkxGDYkZc",
        "outputId": "dc1cd748-4eb2-457b-e237-c5449a4add99"
      },
      "source": [
        "from random import choice\n",
        "\n",
        "count = 0\n",
        "\n",
        "while True:\n",
        "\n",
        "  count += 1\n",
        "  print(f\"Let's start {count}. turn\", end = \"\\n\"*2)\n",
        "\n",
        "  ahmet = [\"taş\", \"kağıt\", \"makas\"]\n",
        "  mehmet = [\"taş\", \"kağıt\", \"makas\"]\n",
        "\n",
        "  choice_of_ahmet = choice(ahmet)\n",
        "  choice_of_mehmet = choice(mehmet)\n",
        "\n",
        "  print(\"ahmet: \", choice_of_ahmet)\n",
        "  print(\"mehmet: \", choice_of_mehmet, end = \"\\n\"*2)\n",
        "  \n",
        "  if (choice_of_ahmet, choice_of_mehmet) == (\"taş\", \"makas\"):\n",
        "    print(\"ahmet is the winner\")\n",
        "    break\n",
        "  elif (choice_of_ahmet, choice_of_mehmet) == (\"kağıt\", \"taş\"):\n",
        "    print(\"ahmet is the winner\")\n",
        "    break\n",
        "  elif (choice_of_ahmet, choice_of_mehmet) == (\"makas\", \"kağıt\"):\n",
        "    print(\"ahmet is the winner\")\n",
        "    break\n",
        "  elif (choice_of_ahmet, choice_of_mehmet) == (\"makas\", \"taş\"):\n",
        "    print(\"mehmet is the winner\")\n",
        "    break\n",
        "  elif (choice_of_ahmet, choice_of_mehmet) == (\"taş\", \"kağıt\"):\n",
        "    print(\"mehmet is the winner\")\n",
        "    break\n",
        "  elif (choice_of_ahmet, choice_of_mehmet) == (\"kağıt\", \"makas\"):\n",
        "    print(\"mehmet is the winner\")\n",
        "    break\n",
        "  else:\n",
        "    continue"
      ],
      "execution_count": null,
      "outputs": [
        {
          "output_type": "stream",
          "name": "stdout",
          "text": [
            "Let's start 1. turn\n",
            "\n",
            "ahmet:  kağıt\n",
            "mehmet:  kağıt\n",
            "\n",
            "Let's start 2. turn\n",
            "\n",
            "ahmet:  kağıt\n",
            "mehmet:  makas\n",
            "\n",
            "mehmet is the winner\n"
          ]
        }
      ]
    }
  ]
}