{
  "cells": [
    {
      "cell_type": "markdown",
      "metadata": {
        "id": "view-in-github",
        "colab_type": "text"
      },
      "source": [
        "<a href=\"https://colab.research.google.com/github/MuratYarali/Python-Studies/blob/main/Python_Workshop_14_12_2021.ipynb\" target=\"_parent\"><img src=\"https://colab.research.google.com/assets/colab-badge.svg\" alt=\"Open In Colab\"/></a>"
      ]
    },
    {
      "cell_type": "code",
      "execution_count": null,
      "metadata": {
        "id": "_3hjClZCTipz"
      },
      "outputs": [],
      "source": [
        ""
      ]
    },
    {
      "cell_type": "markdown",
      "metadata": {
        "id": "-GNuV1BzTip4"
      },
      "source": [
        "1-QUESTION:Write a calculator function which takes orderly first number, operator and second number than gives the result."
      ]
    },
    {
      "cell_type": "code",
      "execution_count": 3,
      "metadata": {
        "colab": {
          "base_uri": "https://localhost:8080/"
        },
        "id": "Y8fdYBkXTip7",
        "outputId": "a6757435-f47e-4265-fab4-6b8c8d25265b"
      },
      "outputs": [
        {
          "output_type": "stream",
          "name": "stdout",
          "text": [
            "5\n",
            "*\n",
            "9\n",
            "45\n"
          ]
        }
      ],
      "source": [
        "def calculator(a, opr, b):\n",
        "  if opr == \"+\":\n",
        "    result = a + b\n",
        "  elif opr == \"-\":\n",
        "    result = a - b\n",
        "  elif opr == \"*\":\n",
        "    result = a * b\n",
        "  elif opr == \"/\":\n",
        "    result = a / b\n",
        "  return result\n",
        "\n",
        "print(calculator(a=int(input()),opr=input(),b=int(input())))"
      ]
    },
    {
      "cell_type": "code",
      "source": [
        "def calculator():\n",
        "  operation= input()\n",
        "  a, o, b = int(operation[0]), operation[1], int(operation[2])\n",
        "  if o == \"+\":\n",
        "    result = a + b\n",
        "  elif o == \"-\":\n",
        "    result = a - b\n",
        "  elif o == \"*\":\n",
        "    result = a * b\n",
        "  elif o == \"/\":\n",
        "    result = a / b\n",
        "  return result"
      ],
      "metadata": {
        "id": "BJl6Z1Khe_Pu"
      },
      "execution_count": 9,
      "outputs": []
    },
    {
      "cell_type": "code",
      "source": [
        "print(calculator())"
      ],
      "metadata": {
        "colab": {
          "base_uri": "https://localhost:8080/"
        },
        "id": "sKzFhPBOen4n",
        "outputId": "4b6b2ee0-3767-41ac-b5b4-0a1d15abc18e"
      },
      "execution_count": 10,
      "outputs": [
        {
          "output_type": "stream",
          "name": "stdout",
          "text": [
            "3+6\n",
            "9\n"
          ]
        }
      ]
    },
    {
      "cell_type": "code",
      "execution_count": null,
      "metadata": {
        "id": "YLvr0uTITip8"
      },
      "outputs": [],
      "source": [
        "calculator(a=int(input()),opr=input(),b=int(input()))"
      ]
    },
    {
      "cell_type": "markdown",
      "metadata": {
        "id": "s6_NobCvTip-"
      },
      "source": [
        "2-QUESTION:Write a function that calculates factorial of a given number."
      ]
    },
    {
      "cell_type": "code",
      "source": [
        "def my_fact(n):\n",
        "  while n < 1:\n",
        "    return 1\n",
        "  result = n * my_fact(n-1)\n",
        "  return result"
      ],
      "metadata": {
        "id": "RLAGPna_htFA"
      },
      "execution_count": 13,
      "outputs": []
    },
    {
      "cell_type": "code",
      "execution_count": 14,
      "metadata": {
        "colab": {
          "base_uri": "https://localhost:8080/"
        },
        "id": "2qvVUk3JTiqA",
        "outputId": "06a9abb8-d789-4c21-fc6a-6638a5704a1f"
      },
      "outputs": [
        {
          "name": "stdout",
          "output_type": "stream",
          "text": [
            "4\n"
          ]
        },
        {
          "output_type": "execute_result",
          "data": {
            "text/plain": [
              "24"
            ]
          },
          "metadata": {},
          "execution_count": 14
        }
      ],
      "source": [
        "my_fact(int(input()))"
      ]
    },
    {
      "cell_type": "markdown",
      "metadata": {
        "id": "bSVoTztMTiqB"
      },
      "source": [
        "3-QUESTION:This is an interview question asked by Amazon.\n",
        "\n",
        "Given an array of numbers, find the maximum sum of any contiguous subarray of the array.\n",
        "For example, given the array [34, -50, 42, 14, -5, 86], the maximum sum would be 137, since we would take elements 42, 14, -5, and 86.\n",
        "Given the array [-5, -1, -8, -9], the maximum sum would be 0, since we would not take any elements."
      ]
    },
    {
      "cell_type": "code",
      "source": [
        "[34, -50, 42, 14, -5, 86]"
      ],
      "metadata": {
        "id": "kKR2wj4VlVGr"
      },
      "execution_count": null,
      "outputs": []
    },
    {
      "cell_type": "code",
      "execution_count": 22,
      "metadata": {
        "id": "Vnq7JL8fTiqC"
      },
      "outputs": [],
      "source": [
        "def subarray(arr):\n",
        "  total = 0\n",
        "  for i in range(len(arr)):\n",
        "    for j in range(len(arr)):\n",
        "      if sum(arr[i:i+j+1]) > total:\n",
        "        total = sum(arr[i:i+j+1])\n",
        "  print(total)"
      ]
    },
    {
      "cell_type": "code",
      "source": [
        "subarray([34, -50, 42, 14, -5, 86])"
      ],
      "metadata": {
        "colab": {
          "base_uri": "https://localhost:8080/"
        },
        "id": "KjlIhXkDnEjO",
        "outputId": "088ec3d2-6548-426b-e649-5d94aaef3e43"
      },
      "execution_count": 23,
      "outputs": [
        {
          "output_type": "stream",
          "name": "stdout",
          "text": [
            "137\n"
          ]
        }
      ]
    },
    {
      "cell_type": "code",
      "source": [
        "def subarray_finder(liste):\n",
        "    if sum(liste)>0:\n",
        "        newlist = []\n",
        "        for i in range(len(liste)):\n",
        "            sayı = sum(liste[i:len(liste)])\n",
        "            newlist.append(sayı)\n",
        "        return max(newlist)\n",
        "    else:\n",
        "        return 0"
      ],
      "metadata": {
        "id": "9FL31Pqsm99_"
      },
      "execution_count": 19,
      "outputs": []
    },
    {
      "cell_type": "code",
      "execution_count": 21,
      "metadata": {
        "colab": {
          "base_uri": "https://localhost:8080/"
        },
        "id": "AAGQO8NqTiqC",
        "outputId": "ffb3e6a0-0a86-4582-aa50-c32c05f406be"
      },
      "outputs": [
        {
          "output_type": "execute_result",
          "data": {
            "text/plain": [
              "137"
            ]
          },
          "metadata": {},
          "execution_count": 21
        }
      ],
      "source": [
        "subarray_finder([34, -50, 42, 14, -5, 86])"
      ]
    },
    {
      "cell_type": "code",
      "execution_count": null,
      "metadata": {
        "id": "GrN6RZ06TiqD"
      },
      "outputs": [],
      "source": [
        ""
      ]
    },
    {
      "cell_type": "markdown",
      "metadata": {
        "id": "kKiC7DdETiqE"
      },
      "source": [
        "4-QUESTION: Interview Level = Medium\n",
        "    \n",
        "Given a string s, find the length of the longest substring without repeating characters.\n"
      ]
    },
    {
      "cell_type": "code",
      "execution_count": 24,
      "metadata": {
        "id": "ao_ACRL9TiqE"
      },
      "outputs": [],
      "source": [
        "def lengthOfLongestSubstring(s):\n",
        "  smax, temp = \"\",\"\"\n",
        "  for i in s:\n",
        "    if i in temp:\n",
        "      if len(temp) > len(smax):\n",
        "        smax = temp\n",
        "      while i in temp:\n",
        "        temp = temp[1:]\n",
        "    temp += i\n",
        "  return (smax * (len(smax) > len(temp)) + temp * (1-(len(smax) > len(temp))), max(len(smax), len(temp)))"
      ]
    },
    {
      "cell_type": "code",
      "execution_count": 25,
      "metadata": {
        "colab": {
          "base_uri": "https://localhost:8080/"
        },
        "id": "WTto5RczTiqF",
        "outputId": "9f61a689-a2b2-4246-d830-a91e9cdf1967"
      },
      "outputs": [
        {
          "output_type": "execute_result",
          "data": {
            "text/plain": [
              "('hgfd', 4)"
            ]
          },
          "metadata": {},
          "execution_count": 25
        }
      ],
      "source": [
        "lengthOfLongestSubstring('abcbdhhgfd')"
      ]
    },
    {
      "cell_type": "code",
      "execution_count": null,
      "metadata": {
        "id": "TYPf0NLqTiqF"
      },
      "outputs": [],
      "source": [
        ""
      ]
    },
    {
      "cell_type": "markdown",
      "metadata": {
        "id": "R4dUnSjfTiqF"
      },
      "source": [
        "5.QUESTION:Create your own module named as my_module.py which contains a function printing Hello 'Your Name' when called. \n",
        "Also create a dictionary object which keeps name and profession of you inside your module. Finally put the calculator function \n",
        "in your module and call it with both import from your interpreter and from your command prompt. "
      ]
    },
    {
      "cell_type": "code",
      "execution_count": null,
      "metadata": {
        "id": "svueLCJGTiqG"
      },
      "outputs": [],
      "source": [
        ""
      ]
    },
    {
      "cell_type": "code",
      "execution_count": null,
      "metadata": {
        "id": "8jeZShjdTiqG",
        "outputId": "db88e1f9-074f-4077-c9c3-855c40ae8734"
      },
      "outputs": [
        {
          "name": "stdout",
          "output_type": "stream",
          "text": [
            "Hello Michael\n"
          ]
        }
      ],
      "source": [
        ""
      ]
    },
    {
      "cell_type": "code",
      "execution_count": null,
      "metadata": {
        "id": "UXA3gr48TiqG",
        "outputId": "46dd6711-d4e8-49a8-9709-1dd5acb5c329"
      },
      "outputs": [
        {
          "data": {
            "text/plain": [
              "{'name': 'michael', 'profession': 'DS'}"
            ]
          },
          "execution_count": 8,
          "metadata": {},
          "output_type": "execute_result"
        }
      ],
      "source": [
        ""
      ]
    },
    {
      "cell_type": "code",
      "execution_count": null,
      "metadata": {
        "id": "NtQKXv5XTiqH",
        "outputId": "7899896a-e003-412b-d279-4972e4420664"
      },
      "outputs": [
        {
          "name": "stdout",
          "output_type": "stream",
          "text": [
            "5 + 4\n"
          ]
        },
        {
          "data": {
            "text/plain": [
              "9"
            ]
          },
          "execution_count": 7,
          "metadata": {},
          "output_type": "execute_result"
        }
      ],
      "source": [
        ""
      ]
    },
    {
      "cell_type": "code",
      "execution_count": null,
      "metadata": {
        "id": "VlVZT6u4TiqH"
      },
      "outputs": [],
      "source": [
        ""
      ]
    },
    {
      "cell_type": "markdown",
      "metadata": {
        "id": "lskdj_m7TiqH"
      },
      "source": [
        "6. QUESTION:Use the calculator you created before and name it as calculator2. Implement Full 'Exception Handling' while callling calculator2. Try to run your function, if exception occurs write 'Please enter a valid operator and valid number values' and finally write 'Calculator works just fine' for every run."
      ]
    },
    {
      "cell_type": "code",
      "execution_count": null,
      "metadata": {
        "id": "UL-hCaoVTiqI"
      },
      "outputs": [],
      "source": [
        ""
      ]
    },
    {
      "cell_type": "code",
      "execution_count": null,
      "metadata": {
        "id": "WrVDkS8hTiqI",
        "outputId": "2d8f6569-1675-4821-8d77-e4d64963782e"
      },
      "outputs": [
        {
          "name": "stdout",
          "output_type": "stream",
          "text": [
            "5 \n",
            "+\n",
            "şi\n",
            "Please enter a valid operator and valid number values\n",
            "Calculator works just fine\n"
          ]
        }
      ],
      "source": [
        ""
      ]
    },
    {
      "cell_type": "code",
      "execution_count": null,
      "metadata": {
        "id": "BL4xGBFkTiqI"
      },
      "outputs": [],
      "source": [
        ""
      ]
    }
  ],
  "metadata": {
    "kernelspec": {
      "display_name": "Python 3",
      "language": "python",
      "name": "python3"
    },
    "language_info": {
      "codemirror_mode": {
        "name": "ipython",
        "version": 3
      },
      "file_extension": ".py",
      "mimetype": "text/x-python",
      "name": "python",
      "nbconvert_exporter": "python",
      "pygments_lexer": "ipython3",
      "version": "3.8.5"
    },
    "colab": {
      "name": "Python_Workshop_14.12.2021.ipynb",
      "provenance": [],
      "collapsed_sections": [],
      "include_colab_link": true
    }
  },
  "nbformat": 4,
  "nbformat_minor": 0
}