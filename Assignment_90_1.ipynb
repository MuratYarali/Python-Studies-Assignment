{
  "nbformat": 4,
  "nbformat_minor": 0,
  "metadata": {
    "colab": {
      "name": "Assignment 90.1.ipynb",
      "provenance": [],
      "collapsed_sections": [],
      "authorship_tag": "ABX9TyOY/0SnJ+LRp0/jXqoSM0H1",
      "include_colab_link": true
    },
    "kernelspec": {
      "name": "python3",
      "display_name": "Python 3"
    },
    "language_info": {
      "name": "python"
    }
  },
  "cells": [
    {
      "cell_type": "markdown",
      "metadata": {
        "id": "view-in-github",
        "colab_type": "text"
      },
      "source": [
        "<a href=\"https://colab.research.google.com/github/MuratYarali/Python-Assignment/blob/main/Assignment_90_1.ipynb\" target=\"_parent\"><img src=\"https://colab.research.google.com/assets/colab-badge.svg\" alt=\"Open In Colab\"/></a>"
      ]
    },
    {
      "cell_type": "code",
      "metadata": {
        "colab": {
          "base_uri": "https://localhost:8080/"
        },
        "id": "JlhmqQAYnt2y",
        "outputId": "2725f4a9-d96c-4165-8b4a-f998046bbb1d"
      },
      "source": [
        "def not_string(word):\n",
        "  if word.startswith(\"not\"):\n",
        "    result = word\n",
        "  else:\n",
        "    result = (\"not \" + word)\n",
        "  return result\n",
        "\n",
        "\n",
        "word = input(\"Please enter a word:\")\n",
        "print(not_string(word))"
      ],
      "execution_count": 14,
      "outputs": [
        {
          "output_type": "stream",
          "name": "stdout",
          "text": [
            "Please enter a word:notacable\n",
            "notacable\n"
          ]
        }
      ]
    }
  ]
}