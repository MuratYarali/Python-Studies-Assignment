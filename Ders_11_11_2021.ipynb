{
  "nbformat": 4,
  "nbformat_minor": 0,
  "metadata": {
    "colab": {
      "name": "Ders 11.11.2021.ipynb",
      "provenance": [],
      "authorship_tag": "ABX9TyNw5qeJGQJ1+d5Dy0Ap6ati",
      "include_colab_link": true
    },
    "kernelspec": {
      "name": "python3",
      "display_name": "Python 3"
    },
    "language_info": {
      "name": "python"
    }
  },
  "cells": [
    {
      "cell_type": "markdown",
      "metadata": {
        "id": "view-in-github",
        "colab_type": "text"
      },
      "source": [
        "<a href=\"https://colab.research.google.com/github/MuratYarali/Python-Studies/blob/main/Ders_11_11_2021.ipynb\" target=\"_parent\"><img src=\"https://colab.research.google.com/assets/colab-badge.svg\" alt=\"Open In Colab\"/></a>"
      ]
    },
    {
      "cell_type": "code",
      "metadata": {
        "colab": {
          "base_uri": "https://localhost:8080/"
        },
        "id": "aFmr6pSRscOh",
        "outputId": "74af149f-7b64-435a-81fa-9d22351b3542"
      },
      "source": [
        "l = []\n",
        "second_lowest_names = []\n",
        "scores = set()\n",
        "\n",
        "for _ in range(int(input())):\n",
        "    name = input()\n",
        "    score = float(input())\n",
        "    l.append([name, score])\n",
        "    scores.add(score)\n",
        "        \n",
        "second_lowest = sorted(scores)[1]\n",
        "\n",
        "for name, score in l:\n",
        "    if score == second_lowest:\n",
        "        second_lowest_names.append(name)\n",
        "\n",
        "for name in sorted(second_lowest_names):\n",
        "    print(name, end='\\n')\n",
        "\n"
      ],
      "execution_count": null,
      "outputs": [
        {
          "output_type": "stream",
          "name": "stdout",
          "text": [
            "3\n",
            "chi\n",
            "20\n",
            "alpha\n",
            "50\n",
            "beta\n",
            "50\n",
            "alpha\n",
            "beta\n"
          ]
        }
      ]
    },
    {
      "cell_type": "code",
      "metadata": {
        "colab": {
          "base_uri": "https://localhost:8080/"
        },
        "id": "gMUuUDegQVWK",
        "outputId": "81ec6c4e-cfed-4d67-d0ac-454ccba9a6d2"
      },
      "source": [
        "list(range(11))"
      ],
      "execution_count": null,
      "outputs": [
        {
          "output_type": "execute_result",
          "data": {
            "text/plain": [
              "[0, 1, 2, 3, 4, 5, 6, 7, 8, 9, 10]"
            ]
          },
          "metadata": {},
          "execution_count": 1
        }
      ]
    },
    {
      "cell_type": "code",
      "metadata": {
        "colab": {
          "base_uri": "https://localhost:8080/",
          "height": 171
        },
        "id": "a0KruujqQcXv",
        "outputId": "f924f723-a32b-4d64-c399-25518ec508e7"
      },
      "source": [
        "range(11)"
      ],
      "execution_count": null,
      "outputs": [
        {
          "output_type": "error",
          "ename": "TypeError",
          "evalue": "ignored",
          "traceback": [
            "\u001b[0;31m---------------------------------------------------------------------------\u001b[0m",
            "\u001b[0;31mTypeError\u001b[0m                                 Traceback (most recent call last)",
            "\u001b[0;32m<ipython-input-3-be395b22b862>\u001b[0m in \u001b[0;36m<module>\u001b[0;34m()\u001b[0m\n\u001b[0;32m----> 1\u001b[0;31m \u001b[0mrange\u001b[0m\u001b[0;34m(\u001b[0m\u001b[0;34m*\u001b[0m\u001b[0;36m11\u001b[0m\u001b[0;34m)\u001b[0m\u001b[0;34m\u001b[0m\u001b[0;34m\u001b[0m\u001b[0m\n\u001b[0m",
            "\u001b[0;31mTypeError\u001b[0m: type object argument after * must be an iterable, not int"
          ]
        }
      ]
    },
    {
      "cell_type": "code",
      "metadata": {
        "colab": {
          "base_uri": "https://localhost:8080/"
        },
        "id": "r6LhJ212Q2om",
        "outputId": "8f8cc97f-5b5f-47a0-b5be-4ee8e6d03005"
      },
      "source": [
        "names = [\"Atmed\", \"Aisha\", \"Adam\", \"Joseph\", \"Gabriel\"]\n",
        "\n",
        "for i in names:\n",
        "  print(\"Hello\", i)"
      ],
      "execution_count": null,
      "outputs": [
        {
          "output_type": "stream",
          "name": "stdout",
          "text": [
            "Hello Atmed\n",
            "Hello Aisha\n",
            "Hello Adam\n",
            "Hello Joseph\n",
            "Hello Gabriel\n"
          ]
        }
      ]
    },
    {
      "cell_type": "code",
      "metadata": {
        "colab": {
          "base_uri": "https://localhost:8080/"
        },
        "id": "i6tOhz5DRqqt",
        "outputId": "a695af86-b1a0-4fb9-b9d2-982d815d1985"
      },
      "source": [
        "newlist = []\n",
        "\n",
        "for i in range(1,6):\n",
        "  newlist.append(i)\n",
        "print(newlist)"
      ],
      "execution_count": null,
      "outputs": [
        {
          "output_type": "stream",
          "name": "stdout",
          "text": [
            "[1, 2, 3, 4, 5]\n"
          ]
        }
      ]
    },
    {
      "cell_type": "code",
      "metadata": {
        "colab": {
          "base_uri": "https://localhost:8080/"
        },
        "id": "ettqXeXVSRqk",
        "outputId": "34646a4d-637c-4e7a-85e4-9ddf27734576"
      },
      "source": [
        "x = \"1 2 3 4 5\".split()\n",
        "num_list = []\n",
        "\n",
        "for i in x:\n",
        "  num_list.append(int(i))\n",
        "print(num_list)"
      ],
      "execution_count": null,
      "outputs": [
        {
          "output_type": "stream",
          "name": "stdout",
          "text": [
            "[1, 2, 3, 4, 5]\n"
          ]
        }
      ]
    },
    {
      "cell_type": "code",
      "metadata": {
        "colab": {
          "base_uri": "https://localhost:8080/"
        },
        "id": "fR8LauAyUEdj",
        "outputId": "0af2b5d4-a939-4916-c44b-9679e3fc49ae"
      },
      "source": [
        "input = \"Clarusway\"\n",
        "counter = 0\n",
        "\n",
        "for i in input:\n",
        "  counter += 1\n",
        "  if len(input) > counter:\n",
        "    i += \"-\"\n",
        "  print(i, end = \"\")"
      ],
      "execution_count": null,
      "outputs": [
        {
          "output_type": "stream",
          "name": "stdout",
          "text": [
            "C-l-a-r-u-s-w-a-y"
          ]
        }
      ]
    },
    {
      "cell_type": "code",
      "metadata": {
        "colab": {
          "base_uri": "https://localhost:8080/"
        },
        "id": "OIYi4qqcYqgS",
        "outputId": "cd5a43f5-e9e0-43ad-91d6-562b0a590a4c"
      },
      "source": [
        "word = input(\"Give me a word: \")\n",
        "counter = 0\n",
        "\n",
        "for i in word:\n",
        "  counter += 1\n",
        "  if counter < len(word):\n",
        "    i += \"-\"\n",
        "  print(i, end=\"\")"
      ],
      "execution_count": null,
      "outputs": [
        {
          "output_type": "stream",
          "name": "stdout",
          "text": [
            "Give me a word: Clarusway\n",
            "C-l-a-r-u-s-w-a-y"
          ]
        }
      ]
    },
    {
      "cell_type": "code",
      "metadata": {
        "colab": {
          "base_uri": "https://localhost:8080/"
        },
        "id": "W-4RdHGbafY2",
        "outputId": "b357e360-24e2-449f-93d3-ca29d5d53f4a"
      },
      "source": [
        "Course = \"Clarusway\"\n",
        "for i in Course :\n",
        "    print(i, end= \"-\")\n",
        "print(\"\\b\")"
      ],
      "execution_count": null,
      "outputs": [
        {
          "output_type": "stream",
          "name": "stdout",
          "text": [
            "C-l-a-r-u-s-w-a-y-\b\n"
          ]
        }
      ]
    },
    {
      "cell_type": "code",
      "metadata": {
        "colab": {
          "base_uri": "https://localhost:8080/"
        },
        "id": "UxA7_TpCcCXn",
        "outputId": "40d258c1-b35f-4b99-d354-9165950f7a55"
      },
      "source": [
        "user ={\"name\" : \"Daniel\",\n",
        "       \"surname\" : \"Smith\",\n",
        "       \"age\" : \"35\"\n",
        "       }\n",
        "\n",
        "for i, j in user.items():\n",
        "  print(i, j)"
      ],
      "execution_count": null,
      "outputs": [
        {
          "output_type": "stream",
          "name": "stdout",
          "text": [
            "name Daniel\n",
            "surname Smith\n",
            "age 35\n"
          ]
        }
      ]
    },
    {
      "cell_type": "code",
      "metadata": {
        "colab": {
          "base_uri": "https://localhost:8080/"
        },
        "id": "-xrlGcF0da-R",
        "outputId": "84708823-c899-41d9-dcfe-189d378d8633"
      },
      "source": [
        "test = [(1,2,3), (4,5,6), (7,8,9)]\n",
        "\n",
        "for i, j, k in test:\n",
        "  print(i, j, k)"
      ],
      "execution_count": null,
      "outputs": [
        {
          "output_type": "stream",
          "name": "stdout",
          "text": [
            "1 2 3\n",
            "4 5 6\n",
            "7 8 9\n"
          ]
        }
      ]
    },
    {
      "cell_type": "code",
      "metadata": {
        "colab": {
          "base_uri": "https://localhost:8080/"
        },
        "id": "3eYgXkpYe9-G",
        "outputId": "c60f1de3-58c8-490b-db93-a2ffed24550c"
      },
      "source": [
        "num = int(input(\"Enter a number: \"))\n",
        "\n",
        "for i in range(1,11):\n",
        "  print(f\"{num}X{i}={num*i}\")"
      ],
      "execution_count": null,
      "outputs": [
        {
          "output_type": "stream",
          "name": "stdout",
          "text": [
            "Enter a number: 100\n",
            "100X1=100\n",
            "100X2=200\n",
            "100X3=300\n",
            "100X4=400\n",
            "100X5=500\n",
            "100X6=600\n",
            "100X7=700\n",
            "100X8=800\n",
            "100X9=900\n",
            "100X10=1000\n"
          ]
        }
      ]
    },
    {
      "cell_type": "code",
      "metadata": {
        "colab": {
          "base_uri": "https://localhost:8080/"
        },
        "id": "N-EBkAbriBFg",
        "outputId": "37e80f6c-163c-4806-ef53-a7756ff460ba"
      },
      "source": [
        "for i in range(1,10):\n",
        "  print(f\"{i}\"*i)"
      ],
      "execution_count": null,
      "outputs": [
        {
          "output_type": "stream",
          "name": "stdout",
          "text": [
            "1\n",
            "22\n",
            "333\n",
            "4444\n",
            "55555\n",
            "666666\n",
            "7777777\n",
            "88888888\n",
            "999999999\n"
          ]
        }
      ]
    },
    {
      "cell_type": "code",
      "metadata": {
        "colab": {
          "base_uri": "https://localhost:8080/"
        },
        "id": "AponLlV2iga1",
        "outputId": "9fffbbaa-f31a-42ba-d347-01c90fc5ac68"
      },
      "source": [
        "print(*range(5,25,2))"
      ],
      "execution_count": null,
      "outputs": [
        {
          "output_type": "stream",
          "name": "stdout",
          "text": [
            "5 7 9 11 13 15 17 19 21 23\n"
          ]
        }
      ]
    },
    {
      "cell_type": "code",
      "metadata": {
        "colab": {
          "base_uri": "https://localhost:8080/"
        },
        "id": "6juQeKmosXif",
        "outputId": "aa0cc92a-d987-4275-d0e6-83f7a7172d3d"
      },
      "source": [
        "print(*range(10,0,-2))"
      ],
      "execution_count": null,
      "outputs": [
        {
          "output_type": "stream",
          "name": "stdout",
          "text": [
            "10 8 6 4 2\n"
          ]
        }
      ]
    },
    {
      "cell_type": "code",
      "metadata": {
        "colab": {
          "base_uri": "https://localhost:8080/"
        },
        "id": "ty38vvUcsqV0",
        "outputId": "fb15f743-fd1e-4360-a736-6db1ce8911a4"
      },
      "source": [
        "text = ['one', 'two', 'three', 'four', 'five']\n",
        "numbers = [1, 2, 3, 4, 5]\n",
        "for x, y in zip(text, numbers):\n",
        "\tprint(x, ':', y)"
      ],
      "execution_count": null,
      "outputs": [
        {
          "output_type": "stream",
          "name": "stdout",
          "text": [
            "one : 1\n",
            "two : 2\n",
            "three : 3\n",
            "four : 4\n",
            "five : 5\n"
          ]
        }
      ]
    },
    {
      "cell_type": "code",
      "metadata": {
        "colab": {
          "base_uri": "https://localhost:8080/"
        },
        "id": "mUalRfR1tvAZ",
        "outputId": "b5d2f3b0-4d9c-4c1e-e776-d453be7ec2ef"
      },
      "source": [
        "zipped = zip(text, numbers)\n",
        "\n",
        "for x, y in zipped:\n",
        "  print(x, \":\", y)"
      ],
      "execution_count": null,
      "outputs": [
        {
          "output_type": "stream",
          "name": "stdout",
          "text": [
            "one : 1\n",
            "two : 2\n",
            "three : 3\n",
            "four : 4\n",
            "five : 5\n"
          ]
        }
      ]
    },
    {
      "cell_type": "code",
      "metadata": {
        "colab": {
          "base_uri": "https://localhost:8080/"
        },
        "id": "Y1GWIdn9udSy",
        "outputId": "f623f693-a3e5-4748-8044-2fbd1ccc9740"
      },
      "source": [
        "even = []\n",
        "odd = []\n",
        "\n",
        "for i in range(10):\n",
        "  if i % 2 == 0:\n",
        "    even.append(i)\n",
        "  else:\n",
        "    odd.append(i)\n",
        "\n",
        "print(f\"even: {even}\")\n",
        "print(f\"odd: {odd}\")"
      ],
      "execution_count": null,
      "outputs": [
        {
          "output_type": "stream",
          "name": "stdout",
          "text": [
            "even: [0, 2, 4, 6, 8]\n",
            "odd: [1, 3, 5, 7, 9]\n"
          ]
        }
      ]
    },
    {
      "cell_type": "code",
      "metadata": {
        "colab": {
          "base_uri": "https://localhost:8080/"
        },
        "id": "VH74mhijvR1Z",
        "outputId": "552bcfe2-787a-4b05-f234-d7ca45a68ee6"
      },
      "source": [
        "odd =[ i for i in range(0,10) if i % 2 ==1]\n",
        "even =[ i for i in range(0,10) if i % 2 ==0]\n",
        "print(odd, even, sep= \"\\n\")"
      ],
      "execution_count": null,
      "outputs": [
        {
          "output_type": "stream",
          "name": "stdout",
          "text": [
            "[1, 3, 5, 7, 9]\n",
            "[0, 2, 4, 6, 8]\n"
          ]
        }
      ]
    },
    {
      "cell_type": "code",
      "metadata": {
        "colab": {
          "base_uri": "https://localhost:8080/"
        },
        "id": "RNP7ULCXt5CT",
        "outputId": "11bf0f4a-823d-43a5-a14a-faac49e64e14"
      },
      "source": [
        "evens, odds = [], []\n",
        "\n",
        "list = [11, 36, 33, 66, 89, 21, 32, 16, 10]\n",
        "\n",
        "for i in list:\n",
        "  if i % 2 == 0:\n",
        "    evens.append(i)\n",
        "  else:\n",
        "    odds.append(i)\n",
        "\n",
        "print(f\"len of evens is {len(evens)} and odd is {len(odds)}\")"
      ],
      "execution_count": null,
      "outputs": [
        {
          "output_type": "stream",
          "name": "stdout",
          "text": [
            "len of evens is 5 and odd is 4\n"
          ]
        }
      ]
    },
    {
      "cell_type": "code",
      "metadata": {
        "id": "wDoUA6ovx2As"
      },
      "source": [
        "evens, odds = 0, 0\n",
        "\n",
        "numbers = [11, 36, 33, 66, 89, 21, 32, 16, 10]\n",
        "\n",
        "for i in numbers:\n",
        "  if i % 2 == 0:\n",
        "    "
      ],
      "execution_count": null,
      "outputs": []
    }
  ]
}