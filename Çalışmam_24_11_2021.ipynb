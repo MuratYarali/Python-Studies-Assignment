{
  "nbformat": 4,
  "nbformat_minor": 0,
  "metadata": {
    "colab": {
      "name": "Çalışmam 24.11.2021.ipynb",
      "provenance": [],
      "collapsed_sections": [],
      "authorship_tag": "ABX9TyMByMHFLA86oBltoBSuDOSS",
      "include_colab_link": true
    },
    "kernelspec": {
      "name": "python3",
      "display_name": "Python 3"
    },
    "language_info": {
      "name": "python"
    }
  },
  "cells": [
    {
      "cell_type": "markdown",
      "metadata": {
        "id": "view-in-github",
        "colab_type": "text"
      },
      "source": [
        "<a href=\"https://colab.research.google.com/github/MuratYarali/Python-Studies/blob/main/%C3%87al%C4%B1%C5%9Fmam_24_11_2021.ipynb\" target=\"_parent\"><img src=\"https://colab.research.google.com/assets/colab-badge.svg\" alt=\"Open In Colab\"/></a>"
      ]
    },
    {
      "cell_type": "code",
      "metadata": {
        "colab": {
          "base_uri": "https://localhost:8080/"
        },
        "id": "y4i4NDzYHdU2",
        "outputId": "b560a340-ead7-4681-f5af-3c355b3efac3"
      },
      "source": [
        "my_list = [1,2,3,4,5]\n",
        "\n",
        "x = [i ** 2 for i in my_list if i % 2]\n",
        "\n",
        "x"
      ],
      "execution_count": null,
      "outputs": [
        {
          "output_type": "execute_result",
          "data": {
            "text/plain": [
              "[1, 9, 25]"
            ]
          },
          "metadata": {},
          "execution_count": 3
        }
      ]
    },
    {
      "cell_type": "code",
      "metadata": {
        "colab": {
          "base_uri": "https://localhost:8080/"
        },
        "id": "dIOl235MJJOU",
        "outputId": "b854c8da-c841-474e-a078-b041cbe7c188"
      },
      "source": [
        "my_list = [1,2,3,4,5]\n",
        "new = []\n",
        "\n",
        "for i in my_list:\n",
        "  if i % 2:\n",
        "    new.append(i ** 2)\n",
        "\n",
        "new"
      ],
      "execution_count": null,
      "outputs": [
        {
          "output_type": "execute_result",
          "data": {
            "text/plain": [
              "[1, 9, 25]"
            ]
          },
          "metadata": {},
          "execution_count": 6
        }
      ]
    },
    {
      "cell_type": "code",
      "metadata": {
        "colab": {
          "base_uri": "https://localhost:8080/"
        },
        "id": "j9hpTBLsLuvm",
        "outputId": "95f1f215-af49-4722-a391-a8167461a584"
      },
      "source": [
        "names = [\"susan\", \"murat\"]\n",
        "mood= [\"ışıl\", 0]\n",
        "boş = []\n",
        "\n",
        "print(any(names), any(mood), any(boş), sep = \"\\n\")"
      ],
      "execution_count": null,
      "outputs": [
        {
          "output_type": "stream",
          "name": "stdout",
          "text": [
            "True\n",
            "True\n",
            "False\n"
          ]
        }
      ]
    },
    {
      "cell_type": "code",
      "metadata": {
        "colab": {
          "base_uri": "https://localhost:8080/"
        },
        "id": "Loc9dVtDNsQM",
        "outputId": "78718460-40e8-4b5f-f4c6-c1e40d27137d"
      },
      "source": [
        "names = [\"susan\", \"murat\", False, 0, 22]\n",
        "\n",
        "filtered_names = filter(None, names)\n",
        "\n",
        "for i in filtered_names:\n",
        "  print(i)"
      ],
      "execution_count": null,
      "outputs": [
        {
          "output_type": "stream",
          "name": "stdout",
          "text": [
            "susan\n",
            "murat\n",
            "22\n"
          ]
        }
      ]
    },
    {
      "cell_type": "code",
      "metadata": {
        "colab": {
          "base_uri": "https://localhost:8080/"
        },
        "id": "Lk-Ox3KqOACa",
        "outputId": "58f50ccf-1164-4de3-e0d4-993742cda249"
      },
      "source": [
        "names = [\"susan\", \"murat\", False, 0, 22]\n",
        "\n",
        "filtered_names = filter(None, names)\n",
        "\n",
        "print(\"Filtered elements are: \", *filtered_names)"
      ],
      "execution_count": null,
      "outputs": [
        {
          "output_type": "stream",
          "name": "stdout",
          "text": [
            "Filtered elements are:  susan murat 22\n"
          ]
        }
      ]
    },
    {
      "cell_type": "code",
      "metadata": {
        "colab": {
          "base_uri": "https://localhost:8080/"
        },
        "id": "ZrQJcUqLPvXY",
        "outputId": "68bd31f6-ba74-4370-e571-588cfa5aa623"
      },
      "source": [
        "print([i for i in range(1,102) if i % 3 == 0 and i % 5 == 0])"
      ],
      "execution_count": null,
      "outputs": [
        {
          "output_type": "stream",
          "name": "stdout",
          "text": [
            "[15, 30, 45, 60, 75, 90]\n"
          ]
        }
      ]
    },
    {
      "cell_type": "code",
      "metadata": {
        "colab": {
          "base_uri": "https://localhost:8080/"
        },
        "id": "nM7qlX7QRRSd",
        "outputId": "cca4f666-373f-474e-e02c-4f2b7f957885"
      },
      "source": [
        "names = [\"susan\", \"murat\", False, 0, 22]\n",
        "\n",
        "list(enumerate(names, 1000))"
      ],
      "execution_count": null,
      "outputs": [
        {
          "output_type": "execute_result",
          "data": {
            "text/plain": [
              "[(1000, 'susan'), (1001, 'murat'), (1002, False), (1003, 0), (1004, 22)]"
            ]
          },
          "metadata": {},
          "execution_count": 23
        }
      ]
    },
    {
      "cell_type": "code",
      "metadata": {
        "colab": {
          "base_uri": "https://localhost:8080/"
        },
        "id": "gAkuH7NXTdKh",
        "outputId": "18c754b0-04e8-4f72-b0b4-aa2e573be220"
      },
      "source": [
        "numbers = [11, 22]\n",
        "\n",
        "print(sum(numbers, 5))"
      ],
      "execution_count": null,
      "outputs": [
        {
          "output_type": "stream",
          "name": "stdout",
          "text": [
            "38\n"
          ]
        }
      ]
    },
    {
      "cell_type": "code",
      "metadata": {
        "colab": {
          "base_uri": "https://localhost:8080/"
        },
        "id": "kP097vJHUKlI",
        "outputId": "33d1167c-2ffa-45b9-9f26-fa441e1c4f4d"
      },
      "source": [
        "print(round(3.675555, 2))"
      ],
      "execution_count": null,
      "outputs": [
        {
          "output_type": "stream",
          "name": "stdout",
          "text": [
            "3.68\n"
          ]
        }
      ]
    },
    {
      "cell_type": "code",
      "metadata": {
        "colab": {
          "base_uri": "https://localhost:8080/"
        },
        "id": "H2xrsT90U-3O",
        "outputId": "83d5b86a-efb6-4a37-f966-094b6d322c17"
      },
      "source": [
        "generator = (i ** 2 for i in range(6))\n",
        "\n",
        "print(next(generator))"
      ],
      "execution_count": null,
      "outputs": [
        {
          "output_type": "stream",
          "name": "stdout",
          "text": [
            "0\n"
          ]
        }
      ]
    },
    {
      "cell_type": "code",
      "metadata": {
        "colab": {
          "base_uri": "https://localhost:8080/",
          "height": 165
        },
        "id": "NgMTWr-3VenO",
        "outputId": "d3888dad-ccda-433d-c9de-9945f404bccc"
      },
      "source": [
        "print(next(generator))"
      ],
      "execution_count": null,
      "outputs": [
        {
          "output_type": "error",
          "ename": "StopIteration",
          "evalue": "ignored",
          "traceback": [
            "\u001b[0;31m---------------------------------------------------------------------------\u001b[0m",
            "\u001b[0;31mStopIteration\u001b[0m                             Traceback (most recent call last)",
            "\u001b[0;32m<ipython-input-59-19919da3e769>\u001b[0m in \u001b[0;36m<module>\u001b[0;34m()\u001b[0m\n\u001b[0;32m----> 1\u001b[0;31m \u001b[0mprint\u001b[0m\u001b[0;34m(\u001b[0m\u001b[0mnext\u001b[0m\u001b[0;34m(\u001b[0m\u001b[0mgenerator\u001b[0m\u001b[0;34m)\u001b[0m\u001b[0;34m)\u001b[0m\u001b[0;34m\u001b[0m\u001b[0;34m\u001b[0m\u001b[0m\n\u001b[0m",
            "\u001b[0;31mStopIteration\u001b[0m: "
          ]
        }
      ]
    },
    {
      "cell_type": "code",
      "metadata": {
        "colab": {
          "base_uri": "https://localhost:8080/"
        },
        "id": "vS7Ohb2VVyft",
        "outputId": "cb778bd6-80f9-4ed7-c504-044256c7710f"
      },
      "source": [
        "generator = (i ** 2 for i in range(6))\n",
        "\n",
        "print(*generator)"
      ],
      "execution_count": null,
      "outputs": [
        {
          "output_type": "stream",
          "name": "stdout",
          "text": [
            "0 1 4 9 16 25\n"
          ]
        }
      ]
    },
    {
      "cell_type": "code",
      "metadata": {
        "colab": {
          "base_uri": "https://localhost:8080/"
        },
        "id": "Pj0MXffZYJTB",
        "outputId": "b623c2c3-ad23-4e0f-9273-8a51f2ec62d6"
      },
      "source": [
        "print(*range(4))"
      ],
      "execution_count": null,
      "outputs": [
        {
          "output_type": "stream",
          "name": "stdout",
          "text": [
            "0 1 2 3\n"
          ]
        }
      ]
    },
    {
      "cell_type": "code",
      "metadata": {
        "colab": {
          "base_uri": "https://localhost:8080/"
        },
        "id": "M5plMcu_Y_7_",
        "outputId": "4621df56-49e9-47cd-842f-411b600beccc"
      },
      "source": [
        "text = [\"one\", \"two\", \"three\"]\n",
        "number = [1, 2, 3]\n",
        "\n",
        "print(list(zip(text, number)))"
      ],
      "execution_count": null,
      "outputs": [
        {
          "output_type": "stream",
          "name": "stdout",
          "text": [
            "[('one', 1), ('two', 2), ('three', 3)]\n"
          ]
        }
      ]
    },
    {
      "cell_type": "code",
      "metadata": {
        "colab": {
          "base_uri": "https://localhost:8080/"
        },
        "id": "rrkKmOp3arFk",
        "outputId": "f3c7b6a9-813d-4d0c-c754-fa1d36ead729"
      },
      "source": [
        "text = [\"one\", \"two\", \"three\"]\n",
        "number = [1, 2, 3]\n",
        "\n",
        "for x, y in zip(text, number):\n",
        "  print(x, \":\", y)"
      ],
      "execution_count": null,
      "outputs": [
        {
          "output_type": "stream",
          "name": "stdout",
          "text": [
            "one : 1\n",
            "two : 2\n",
            "three : 3\n"
          ]
        }
      ]
    },
    {
      "cell_type": "code",
      "metadata": {
        "colab": {
          "base_uri": "https://localhost:8080/"
        },
        "id": "tIviOMEtdpLf",
        "outputId": "2c025d02-e2ac-460c-e01d-422ea3aee360"
      },
      "source": [
        "text = (\"one\", \"two\", \"three\")\n",
        "print(\"*\".join(text))"
      ],
      "execution_count": null,
      "outputs": [
        {
          "output_type": "stream",
          "name": "stdout",
          "text": [
            "one*two*three\n"
          ]
        }
      ]
    },
    {
      "cell_type": "code",
      "metadata": {
        "colab": {
          "base_uri": "https://localhost:8080/"
        },
        "id": "zU6iGxvbgn-S",
        "outputId": "747d13ed-28f9-4498-fb64-c8006e469236"
      },
      "source": [
        "text = (\"one\", \"two\", \"three\")\n",
        "\n",
        "x = \"#\".join(text)\n",
        "\n",
        "print(x)"
      ],
      "execution_count": null,
      "outputs": [
        {
          "output_type": "stream",
          "name": "stdout",
          "text": [
            "one#two#three\n"
          ]
        }
      ]
    },
    {
      "cell_type": "code",
      "metadata": {
        "id": "lPx7W7X6hkOA"
      },
      "source": [
        "str = input(\"Enter a long word: \")\n",
        "\n",
        "backward = \" \".join(str.split()[::-1])\n",
        "\n",
        "print(backward)"
      ],
      "execution_count": null,
      "outputs": []
    },
    {
      "cell_type": "code",
      "metadata": {
        "colab": {
          "base_uri": "https://localhost:8080/"
        },
        "id": "2wwDekj_JxrM",
        "outputId": "e2e267cd-92b2-4edd-f782-971fddc7c2c0"
      },
      "source": [
        "txt = \"hello, my name is Peter, I am 26 years old\"\n",
        "\n",
        "txt.split(\", \")"
      ],
      "execution_count": null,
      "outputs": [
        {
          "output_type": "execute_result",
          "data": {
            "text/plain": [
              "['hello', 'my name is Peter', 'I am 26 years old']"
            ]
          },
          "metadata": {},
          "execution_count": 3
        }
      ]
    },
    {
      "cell_type": "code",
      "metadata": {
        "colab": {
          "base_uri": "https://localhost:8080/"
        },
        "id": "0Z9h_tqyJ5Hi",
        "outputId": "abf07a5f-613e-4d19-dbab-ad2096969e0e"
      },
      "source": [
        "txt = \"apple#banana#cherry#orange\"\n",
        "\n",
        "txt.split(\"#\", 2)"
      ],
      "execution_count": null,
      "outputs": [
        {
          "output_type": "execute_result",
          "data": {
            "text/plain": [
              "['apple', 'banana', 'cherry#orange']"
            ]
          },
          "metadata": {},
          "execution_count": 4
        }
      ]
    },
    {
      "cell_type": "code",
      "metadata": {
        "colab": {
          "base_uri": "https://localhost:8080/"
        },
        "id": "yEBOGP1fKPj6",
        "outputId": "2467d9c6-7856-45d7-e1c6-a19cd8ae4152"
      },
      "source": [
        "def myfunc(n):\n",
        "  return len(n)\n",
        "\n",
        "x = list(map(myfunc, (\"apple\", \"banana\", \"cherry\")))\n",
        "\n",
        "print(x)"
      ],
      "execution_count": null,
      "outputs": [
        {
          "output_type": "stream",
          "name": "stdout",
          "text": [
            "[5, 6, 6]\n"
          ]
        }
      ]
    },
    {
      "cell_type": "code",
      "metadata": {
        "colab": {
          "base_uri": "https://localhost:8080/"
        },
        "id": "Sjb6DqdBNQiV",
        "outputId": "8f0184d1-6ebd-4500-98b9-6766b670cab2"
      },
      "source": [
        "def myfunc(x, y):\n",
        "  return x + y\n",
        "\n",
        "x =list(map(myfunc, (\"apple\", \"banana\", \"cherry\"), (\"orange\", \"lemon\", \"sugar\")))\n",
        "\n",
        "print(x)"
      ],
      "execution_count": null,
      "outputs": [
        {
          "output_type": "stream",
          "name": "stdout",
          "text": [
            "['appleorange', 'bananalemon', 'cherrysugar']\n"
          ]
        }
      ]
    },
    {
      "cell_type": "code",
      "metadata": {
        "colab": {
          "base_uri": "https://localhost:8080/"
        },
        "id": "1g6-xTlXOj5T",
        "outputId": "ee543599-06e0-4ca9-b6cd-ea25ca920452"
      },
      "source": [
        "a = (\"h\", \"b\", \"a\", \"c\")\n",
        "\n",
        "x = sorted(a, reverse=True)\n",
        "\n",
        "print(x)"
      ],
      "execution_count": null,
      "outputs": [
        {
          "output_type": "stream",
          "name": "stdout",
          "text": [
            "['h', 'c', 'b', 'a']\n"
          ]
        }
      ]
    },
    {
      "cell_type": "code",
      "metadata": {
        "colab": {
          "base_uri": "https://localhost:8080/"
        },
        "id": "-EuPBeNoTOt0",
        "outputId": "f41230a9-b314-4b32-a271-780b2bce1b3c"
      },
      "source": [
        "txt = \"hello my name is Peter I am 26 years old\"\n",
        "\n",
        "print(min(txt.split(), key = len), len(min(txt.split(), key = len)) )"
      ],
      "execution_count": null,
      "outputs": [
        {
          "output_type": "stream",
          "name": "stdout",
          "text": [
            "I 1\n"
          ]
        }
      ]
    },
    {
      "cell_type": "code",
      "metadata": {
        "id": "4NAgUxvLUHjh"
      },
      "source": [
        "txt = \"hello my name is Peter I am 26 years old\"\n",
        "\n",
        "list(map(min key=len, txt.split()))"
      ],
      "execution_count": null,
      "outputs": []
    },
    {
      "cell_type": "code",
      "metadata": {
        "id": "W9VvOQstYEKz"
      },
      "source": [
        "print(list(map(int, input(\"Enter 5 number: \").split())))"
      ],
      "execution_count": null,
      "outputs": []
    },
    {
      "cell_type": "code",
      "metadata": {
        "colab": {
          "base_uri": "https://localhost:8080/"
        },
        "id": "H4TyZEQYY_4B",
        "outputId": "d796081e-52d3-4c0f-cb97-4f499cc0e7b5"
      },
      "source": [
        "print(sorted(list(set(map(int, (input(\"Enter 5 number: \").split())))))[-2])"
      ],
      "execution_count": null,
      "outputs": [
        {
          "output_type": "stream",
          "name": "stdout",
          "text": [
            "Enter 5 number: 2 3 44 55 66\n",
            "55\n"
          ]
        }
      ]
    },
    {
      "cell_type": "code",
      "metadata": {
        "colab": {
          "base_uri": "https://localhost:8080/"
        },
        "id": "RHa2Z7wgiPah",
        "outputId": "5ffd3633-1749-41c7-f624-7868d8727ec2"
      },
      "source": [
        "def fruiterer(*fruit):\n",
        "  for i in fruit:\n",
        "    print(\"-\", i)\n",
        "\n",
        "fruiterer('orange', 'banana', 'melon', 'ananas')"
      ],
      "execution_count": null,
      "outputs": [
        {
          "output_type": "stream",
          "name": "stdout",
          "text": [
            "- orange\n",
            "- banana\n",
            "- melon\n",
            "- ananas\n"
          ]
        }
      ]
    },
    {
      "cell_type": "code",
      "metadata": {
        "colab": {
          "base_uri": "https://localhost:8080/"
        },
        "id": "1Xih1EmBxB3a",
        "outputId": "8203cfb7-2b08-4653-9ace-937c1ea1ea1f"
      },
      "source": [
        "def brothers(bro1, bro2, bro3):\n",
        "    print('Here are the names of brothers :')\n",
        "    print(bro1, bro2, bro3)\n",
        "\n",
        "family = ['tom', 'sue', 'tim']\n",
        "brothers(*family)"
      ],
      "execution_count": null,
      "outputs": [
        {
          "output_type": "stream",
          "name": "stdout",
          "text": [
            "Here are the names of brothers :\n",
            "tom sue tim\n"
          ]
        }
      ]
    }
  ]
}