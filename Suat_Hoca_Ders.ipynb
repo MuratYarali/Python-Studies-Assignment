{
  "nbformat": 4,
  "nbformat_minor": 0,
  "metadata": {
    "colab": {
      "name": "Suat Hoca Ders.ipynb",
      "provenance": [],
      "collapsed_sections": [],
      "include_colab_link": true
    },
    "kernelspec": {
      "name": "python3",
      "display_name": "Python 3"
    },
    "language_info": {
      "name": "python"
    }
  },
  "cells": [
    {
      "cell_type": "markdown",
      "metadata": {
        "id": "view-in-github",
        "colab_type": "text"
      },
      "source": [
        "<a href=\"https://colab.research.google.com/github/MuratYarali/Python-Studies/blob/main/Suat_Hoca_Ders.ipynb\" target=\"_parent\"><img src=\"https://colab.research.google.com/assets/colab-badge.svg\" alt=\"Open In Colab\"/></a>"
      ]
    },
    {
      "cell_type": "markdown",
      "metadata": {
        "id": "QlBsRwyPxMmg"
      },
      "source": [
        "**split()**"
      ]
    },
    {
      "cell_type": "code",
      "metadata": {
        "id": "gj-K91BAxCe0",
        "colab": {
          "base_uri": "https://localhost:8080/"
        },
        "outputId": "f076b61a-eaea-4453-acfe-f118da273916"
      },
      "source": [
        "text = \"Hello dear friends\"\n",
        "print(text.split())"
      ],
      "execution_count": null,
      "outputs": [
        {
          "output_type": "stream",
          "name": "stdout",
          "text": [
            "['Hello', 'dear', 'friends']\n"
          ]
        }
      ]
    },
    {
      "cell_type": "code",
      "metadata": {
        "id": "D50mmh7mxV_l"
      },
      "source": [
        "text = \"For testing parameter: Londra, Prag, Canada, Beyrut, Isfahan, Phuket, Tokyo\""
      ],
      "execution_count": null,
      "outputs": []
    },
    {
      "cell_type": "code",
      "metadata": {
        "id": "NcjUHWpvxZf0",
        "colab": {
          "base_uri": "https://localhost:8080/"
        },
        "outputId": "fe371375-0602-48d6-b5ff-3a4225f3f4c9"
      },
      "source": [
        "countries = \"Türkiye, Singapur, Malezya, Lübnan, Kanada, Portekiz, Japonya\"\n",
        "country = countries.split(\",\", 4)\n",
        "print(*country, type(country), sep=\"\\n\")\n",
        "print(countries)"
      ],
      "execution_count": null,
      "outputs": [
        {
          "output_type": "stream",
          "name": "stdout",
          "text": [
            "Türkiye\n",
            " Singapur\n",
            " Malezya\n",
            " Lübnan\n",
            " Kanada, Portekiz, Japonya\n",
            "<class 'list'>\n",
            "Türkiye, Singapur, Malezya, Lübnan, Kanada, Portekiz, Japonya\n"
          ]
        }
      ]
    },
    {
      "cell_type": "code",
      "metadata": {
        "colab": {
          "base_uri": "https://localhost:8080/"
        },
        "id": "I50IOn82qZWs",
        "outputId": "3a8769fa-d88e-4606-fb4c-3f50f8dab700"
      },
      "source": [
        "text = \"ahmet\"\n",
        "print(*text, sep=\"\\n\")"
      ],
      "execution_count": null,
      "outputs": [
        {
          "output_type": "stream",
          "name": "stdout",
          "text": [
            "a\n",
            "h\n",
            "m\n",
            "e\n",
            "t\n"
          ]
        }
      ]
    },
    {
      "cell_type": "code",
      "metadata": {
        "id": "8_uj-hFD63pt",
        "colab": {
          "base_uri": "https://localhost:8080/"
        },
        "outputId": "2c878eba-c1ce-4de1-bb5d-bd48d26d9190"
      },
      "source": [
        "# cümledeki en kısa kelime nedir ve kaç karakterden oluşuyor.\n",
        "text = \" soru cozumuyle kodlama becerim gelisiyor.\"\n",
        "\n",
        "x = min(text.split(), key=len)\n",
        "print(f\"Cümledeki en kısa kelime '{x}' ve {len(x)} harflidir.\")"
      ],
      "execution_count": null,
      "outputs": [
        {
          "output_type": "stream",
          "name": "stdout",
          "text": [
            "Cümledeki en kısa kelime 'soru' ve 4 harflidir\n"
          ]
        }
      ]
    },
    {
      "cell_type": "markdown",
      "metadata": {
        "id": "_8SwX2LFxizj"
      },
      "source": [
        "**map()**"
      ]
    },
    {
      "cell_type": "code",
      "metadata": {
        "id": "mEpDElb2xdnK",
        "colab": {
          "base_uri": "https://localhost:8080/"
        },
        "outputId": "d824f208-9965-414c-a3c7-78ca4f501903"
      },
      "source": [
        "list1 = [1,2,3,4,5]\n",
        "\n",
        "list2 = dict(map(float,list1))\n",
        "print(list2)"
      ],
      "execution_count": null,
      "outputs": [
        {
          "output_type": "stream",
          "name": "stdout",
          "text": [
            "(<class 'float'>, [1, 2, 3, 4, 5])\n"
          ]
        }
      ]
    },
    {
      "cell_type": "code",
      "metadata": {
        "id": "Pqy7GDToxrTw",
        "colab": {
          "base_uri": "https://localhost:8080/"
        },
        "outputId": "a3e5abd7-fa82-42c3-e556-78e9ba62f981"
      },
      "source": [
        "def discount(x):\n",
        "  return x-(x*.2)\n",
        "\n",
        "price = [15.2, 17, 10, 22.9, 16.5, 7.7, 11]\n",
        "\n",
        "new_price = [list(map(discount, price))]\n",
        "\n",
        "print(new_price)"
      ],
      "execution_count": null,
      "outputs": [
        {
          "output_type": "stream",
          "name": "stdout",
          "text": [
            "[[12.16, 13.6, 8.0, 18.32, 13.2, 6.16, 8.8]]\n"
          ]
        }
      ]
    },
    {
      "cell_type": "markdown",
      "metadata": {
        "id": "mrkiXchaxxrY"
      },
      "source": [
        "**zip()**\n"
      ]
    },
    {
      "cell_type": "code",
      "metadata": {
        "id": "tu70MTT5x1UY",
        "colab": {
          "base_uri": "https://localhost:8080/"
        },
        "outputId": "35ae54b7-85e9-45dc-a924-bd83c95f95a5"
      },
      "source": [
        "list1 = [1,2,3,4,5]\n",
        "list2 = [\"a\",\"b\",\"c\",\"d\",\"e\"]\n",
        "\n",
        "print(dict(zip(list1, list2)))\n",
        "print(list(zip(list1, list2)))\n",
        "print(tuple(zip(list1, list2)))\n",
        "print(set(zip(list1, list2)), end=\"\\n\"*2)\n",
        "\n",
        "print(list(zip(list1, list2))[0])"
      ],
      "execution_count": null,
      "outputs": [
        {
          "output_type": "stream",
          "name": "stdout",
          "text": [
            "{1: 'a', 2: 'b', 3: 'c', 4: 'd', 5: 'e'}\n",
            "[(1, 'a'), (2, 'b'), (3, 'c'), (4, 'd'), (5, 'e')]\n",
            "((1, 'a'), (2, 'b'), (3, 'c'), (4, 'd'), (5, 'e'))\n",
            "{(2, 'b'), (5, 'e'), (1, 'a'), (3, 'c'), (4, 'd')}\n",
            "\n",
            "(1, 'a')\n"
          ]
        }
      ]
    },
    {
      "cell_type": "code",
      "metadata": {
        "id": "yTOzZAvJx9_H",
        "colab": {
          "base_uri": "https://localhost:8080/"
        },
        "outputId": "3ab9b322-2e26-4af8-90b2-85f9efa92b5a"
      },
      "source": [
        "list1 = [1,2,3]\n",
        "list2 = [\"a\",\"b\",\"c\",\"d\",\"e\"]\n",
        "\n",
        "print(dict(zip(list1, list2)))\n",
        "print(list(zip(list1, list2)))\n",
        "print(tuple(zip(list1, list2)))\n",
        "print(set(zip(list1, list2)))"
      ],
      "execution_count": null,
      "outputs": [
        {
          "output_type": "stream",
          "name": "stdout",
          "text": [
            "{1: 'a', 2: 'b', 3: 'c'}\n",
            "[(1, 'a'), (2, 'b'), (3, 'c')]\n",
            "((1, 'a'), (2, 'b'), (3, 'c'))\n",
            "{(2, 'b'), (3, 'c'), (1, 'a')}\n"
          ]
        }
      ]
    },
    {
      "cell_type": "code",
      "metadata": {
        "colab": {
          "base_uri": "https://localhost:8080/"
        },
        "id": "TOCaeuArwish",
        "outputId": "99a22893-460f-42ca-b737-bfd7e1f1ba95"
      },
      "source": [
        "list1 = [1,1,\"a\"]\n",
        "list2 = [\"a\",\"b\",\"c\",\"d\",\"e\"]\n",
        "\n",
        "print(set(zip(list1, list2)))"
      ],
      "execution_count": null,
      "outputs": [
        {
          "output_type": "stream",
          "name": "stdout",
          "text": [
            "{(1, 'b'), ('a', 'c'), (1, 'a')}\n"
          ]
        }
      ]
    },
    {
      "cell_type": "code",
      "metadata": {
        "colab": {
          "base_uri": "https://localhost:8080/"
        },
        "id": "b9nW8r_9xJZq",
        "outputId": "1af3c48b-a9d5-4f71-ae18-0f8937317075"
      },
      "source": [
        "std = [\"ahmet\", \"tarık\", \"müzeyyen\"]\n",
        "\n",
        "new_std = list(enumerate(std))\n",
        "print(new_std)"
      ],
      "execution_count": null,
      "outputs": [
        {
          "output_type": "stream",
          "name": "stdout",
          "text": [
            "[(0, 'ahmet'), (1, 'tarık'), (2, 'müzeyyen')]\n"
          ]
        }
      ]
    },
    {
      "cell_type": "code",
      "metadata": {
        "colab": {
          "base_uri": "https://localhost:8080/"
        },
        "id": "xTAYJpUMxsXb",
        "outputId": "d9dd363e-022e-4091-9e7e-072618894f66"
      },
      "source": [
        "std = [\"ahmet\", \"tarık\", \"müzeyyen\"]\n",
        "\n",
        "new_std = list(enumerate(std,2))\n",
        "print(new_std)"
      ],
      "execution_count": null,
      "outputs": [
        {
          "output_type": "stream",
          "name": "stdout",
          "text": [
            "[(2, 'ahmet'), (3, 'tarık'), (4, 'müzeyyen')]\n"
          ]
        }
      ]
    },
    {
      "cell_type": "markdown",
      "metadata": {
        "id": "xF5bxcFhyJ1p"
      },
      "source": [
        "Q-1) Verilen listeden {id:name} olacak şekilde dict oluşturunuz.\n",
        "\n",
        "*   test_list = [\"Ali\", 1, \"Veli\", 2, \"Osman\", 3, \"Ahmet\", 4] \n",
        "*   output : {1: 'Ali', 2: 'Veli', 3: 'Osman', 4: 'Ahmet'}\n",
        "\n"
      ]
    },
    {
      "cell_type": "code",
      "metadata": {
        "id": "DVaYG2DmyAog",
        "colab": {
          "base_uri": "https://localhost:8080/"
        },
        "outputId": "567eb736-9a2e-4ea3-fe54-e245549f6fde"
      },
      "source": [
        "test_list = [\"Ali\", 1, \"Veli\", 2, \"Osman\", 3, \"Ahmet\", 4]\n",
        "id = test_list[1::2]\n",
        "name = test_list[::2]\n",
        "\n",
        "print(id)\n",
        "print(name)\n",
        "print(dict(zip(id, name)))"
      ],
      "execution_count": null,
      "outputs": [
        {
          "output_type": "stream",
          "name": "stdout",
          "text": [
            "[1, 2, 3, 4]\n",
            "['Ali', 'Veli', 'Osman', 'Ahmet']\n",
            "{1: 'Ali', 2: 'Veli', 3: 'Osman', 4: 'Ahmet'}\n"
          ]
        }
      ]
    },
    {
      "cell_type": "code",
      "metadata": {
        "colab": {
          "base_uri": "https://localhost:8080/"
        },
        "id": "3qIzbDfk1x92",
        "outputId": "e6670630-fafe-45f0-a820-4947a8374263"
      },
      "source": [
        "test_list = [\"Ali\", 1, \"Veli\", 2, \"Osman\", 3, \"Ahmet\", 4]\n",
        "print(dict(zip(test_list[1::2],test_list[0::2])))"
      ],
      "execution_count": null,
      "outputs": [
        {
          "output_type": "stream",
          "name": "stdout",
          "text": [
            "{1: 'Ali', 2: 'Veli', 3: 'Osman', 4: 'Ahmet'}\n"
          ]
        }
      ]
    },
    {
      "cell_type": "markdown",
      "metadata": {
        "id": "1UPB43Qay35F"
      },
      "source": [
        "Q-2) Kullanıcıdan alınan 5 sayı içerisinden en büyük 2. sayıyı bulan kodu yazınız.\n",
        "\n",
        "*   map() ve split() kullanalım.\n"
      ]
    },
    {
      "cell_type": "code",
      "metadata": {
        "id": "xc9NPumvzQzi",
        "colab": {
          "base_uri": "https://localhost:8080/"
        },
        "outputId": "2ae2a1fc-1d4c-45c6-8c0f-73b64cac0e46"
      },
      "source": [
        "numbers = list(map(int, input(\"Enter 5 numbers= \").split()))\n",
        "\n",
        "sec_max = sorted(set(numbers))[-2]\n",
        "print(f\"Tüm sayılar {numbers}\")\n",
        "print(f\"Set edilmiş hali {set(numbers)}\")\n",
        "print(f\"Sıralanmış hali {sorted(set(numbers))}\")\n",
        "print(f\"2. maksimum {sec_max}\")"
      ],
      "execution_count": null,
      "outputs": [
        {
          "output_type": "stream",
          "name": "stdout",
          "text": [
            "Enter 5 numbers= -3 -3 -5 2 4\n",
            "Tüm sayılar [-3, -3, -5, 2, 4]\n",
            "Set edilmiş hali {2, -5, 4, -3}\n",
            "Sıralanmış hali [-5, -3, 2, 4]\n",
            "2. maksimum 2\n"
          ]
        }
      ]
    },
    {
      "cell_type": "markdown",
      "metadata": {
        "id": "LvhXFuYBzWZ3"
      },
      "source": [
        "Q-3) Kullanıcıdan alınan değer kadar numbers listesinin elemanlarını sağa kaydıran kodu yazınız.\n",
        "\n",
        "*   numbers = [2,3,5,7,11,44,34] \n",
        "\n",
        "\n"
      ]
    },
    {
      "cell_type": "code",
      "metadata": {
        "id": "sikUp9lqzkTX"
      },
      "source": [
        ""
      ],
      "execution_count": null,
      "outputs": []
    },
    {
      "cell_type": "markdown",
      "metadata": {
        "id": "IJQFhpuwzm3n"
      },
      "source": [
        "Q-4) Kullanıcıdan alınan sayının negatif veya pozitif olduğunu bulan kodu yazınız."
      ]
    },
    {
      "cell_type": "code",
      "metadata": {
        "id": "7cUgc7Qrz5gz",
        "colab": {
          "base_uri": "https://localhost:8080/",
          "height": 262
        },
        "outputId": "b92d2709-d414-446b-ce44-65a2be3a38b0"
      },
      "source": [
        "a = int(input(\"Enter a number= \"))\n",
        "\n",
        "if a>0:\n",
        "  print(\"Positive\")\n",
        "elif a<0:\n",
        "  print(\"Negative\")\n",
        "elif a==0:\n",
        "  print(\"Number is zero\")\n",
        "else:\n",
        "  print(\"Please enter a number\")"
      ],
      "execution_count": null,
      "outputs": [
        {
          "name": "stdout",
          "output_type": "stream",
          "text": [
            "Enter a number= i\n"
          ]
        },
        {
          "output_type": "error",
          "ename": "ValueError",
          "evalue": "ignored",
          "traceback": [
            "\u001b[0;31m---------------------------------------------------------------------------\u001b[0m",
            "\u001b[0;31mValueError\u001b[0m                                Traceback (most recent call last)",
            "\u001b[0;32m<ipython-input-57-d7cac2887d31>\u001b[0m in \u001b[0;36m<module>\u001b[0;34m()\u001b[0m\n\u001b[0;32m----> 1\u001b[0;31m \u001b[0ma\u001b[0m \u001b[0;34m=\u001b[0m \u001b[0mint\u001b[0m\u001b[0;34m(\u001b[0m\u001b[0minput\u001b[0m\u001b[0;34m(\u001b[0m\u001b[0;34m\"Enter a number= \"\u001b[0m\u001b[0;34m)\u001b[0m\u001b[0;34m)\u001b[0m\u001b[0;34m\u001b[0m\u001b[0;34m\u001b[0m\u001b[0m\n\u001b[0m\u001b[1;32m      2\u001b[0m \u001b[0;34m\u001b[0m\u001b[0m\n\u001b[1;32m      3\u001b[0m \u001b[0;32mif\u001b[0m \u001b[0ma\u001b[0m\u001b[0;34m>\u001b[0m\u001b[0;36m0\u001b[0m\u001b[0;34m:\u001b[0m\u001b[0;34m\u001b[0m\u001b[0;34m\u001b[0m\u001b[0m\n\u001b[1;32m      4\u001b[0m   \u001b[0mprint\u001b[0m\u001b[0;34m(\u001b[0m\u001b[0;34m\"Positive\"\u001b[0m\u001b[0;34m)\u001b[0m\u001b[0;34m\u001b[0m\u001b[0;34m\u001b[0m\u001b[0m\n\u001b[1;32m      5\u001b[0m \u001b[0;32melif\u001b[0m \u001b[0ma\u001b[0m\u001b[0;34m<\u001b[0m\u001b[0;36m0\u001b[0m\u001b[0;34m:\u001b[0m\u001b[0;34m\u001b[0m\u001b[0;34m\u001b[0m\u001b[0m\n",
            "\u001b[0;31mValueError\u001b[0m: invalid literal for int() with base 10: 'i'"
          ]
        }
      ]
    },
    {
      "cell_type": "markdown",
      "metadata": {
        "id": "pK8i0pf0z6ir"
      },
      "source": [
        "Q-5) Kullanıcıdan 2 değer ve işlemi alıp sonucunu döndüren basit bir hesap makinesi programı yazınız.\n",
        "\n",
        "*   \"1\" Toplama\n",
        "*   \"2\" Çıkarma\n",
        "*   \"3\" Çarpma\n",
        "*   \"4\" Bölme\n",
        "\n",
        "\n",
        "\n"
      ]
    },
    {
      "cell_type": "code",
      "metadata": {
        "id": "vCLkwiqr0SXh",
        "colab": {
          "base_uri": "https://localhost:8080/"
        },
        "outputId": "165932ad-5607-46af-e8ad-f222d703104b"
      },
      "source": [
        "num1 = float(input(\"Enter first number= \"))\n",
        "num2 = float(input(\"Enter second number= \"))\n",
        "işlem = input(\"İşlemi seçiniz: \")\n",
        "\n",
        "if işlem == \"+\":\n",
        "  print(f\"{num1} + {num2} = {num1+num2}\")\n",
        "elif işlem == \"-\":\n",
        "  print(f\"{num1} - {num2} = {num1-num2}\")\n",
        "elif işlem == \"*\":\n",
        "  print(f\"{num1} * {num2} = {num1*num2}\")\n",
        "elif işlem == \"/\":\n",
        "  print(f\"{num1} / {num2} = {num1/num2}\")\n",
        "else:\n",
        "  print(\"Yanlış giriş yaptınız\")"
      ],
      "execution_count": null,
      "outputs": [
        {
          "output_type": "stream",
          "name": "stdout",
          "text": [
            "Enter first number= 3\n",
            "Enter second number= 8\n",
            "İşlemi seçiniz: *\n",
            "3.0 * 8.0 = 24.0\n"
          ]
        }
      ]
    },
    {
      "cell_type": "markdown",
      "metadata": {
        "id": "FXi2yqRR0T8C"
      },
      "source": [
        "Q-6) E-mail ve parola bilgileri ile giriş kontrolü yapan programı yazınız.\n",
        "\n",
        "\n",
        "*   email = 'D999@clarusway.com'\n",
        "*   pswrd = 'd999'\n",
        "\n"
      ]
    },
    {
      "cell_type": "code",
      "metadata": {
        "id": "7aGnPRJ40sVD",
        "colab": {
          "base_uri": "https://localhost:8080/"
        },
        "outputId": "e178c71b-d807-4fb6-f89a-edf696279464"
      },
      "source": [
        "email = 'D999@clarusway.com'\n",
        "pswrd = 'd999'\n",
        "\n",
        "ent_mail = input(\"Enter your e-mail: \")\n",
        "ent_pswrd = input(\"Enter your password: \")\n",
        "\n",
        "if ent_mail != email and ent_pswrd == pswrd:\n",
        "  print(\"wrong mail address\")\n",
        "elif ent_mail == email and ent_pswrd != pswrd:\n",
        "  print(\"wrong password\")\n",
        "elif ent_mail != email and ent_pswrd != pswrd:\n",
        "  print(\"wrong mail address and password\")\n",
        "else:\n",
        "  print(\"login successful\")\n"
      ],
      "execution_count": null,
      "outputs": [
        {
          "output_type": "stream",
          "name": "stdout",
          "text": [
            "Enter your e-mail: D999@clarusway.c\n",
            "Enter your password: 456\n",
            "wrong mail address and password\n"
          ]
        }
      ]
    },
    {
      "cell_type": "markdown",
      "metadata": {
        "id": "6-UqVTtw0veT"
      },
      "source": [
        "Q-7) Kullanıcıdan alınan boy ve kilo değerlerine göre beden kitle indeksini hesaplayın ve şu kurallara göre ekrana şu yazıları yazdırın.\n",
        "     \n",
        "     BKİ 18.5'un altındaysa -------> Zayıf\n",
        "     \n",
        "     BKİ 18.5 ile 25 arasındaysa ------> Normal\n",
        "     \n",
        "     BKİ 25 ile 30 arasındaysa --------> Fazla Kilolu\n",
        "     \n",
        "     BKİ 30'un üstündeyse -------------> Obez\n",
        "\n",
        "Not: Beden Kitle İndeksi: Kilo / Boy(m) *  Boy(m)\n"
      ]
    },
    {
      "cell_type": "code",
      "metadata": {
        "id": "tR3VnGA-1DvQ",
        "colab": {
          "base_uri": "https://localhost:8080/"
        },
        "outputId": "7cecb901-0142-4b81-b25b-674f50d56265"
      },
      "source": [
        "boy = float(input(\"Boyunuzu cm cinsinden giriniz: \"))\n",
        "kilo = float(input(\"Kilonuzu giriniz: \"))\n",
        "bki = kilo / (boy ** 2 / 10000)\n",
        "\n",
        "print(f\"BKİ= {bki}\")\n",
        "\n",
        "if bki < 18.5:\n",
        "  print(\"Zayıf\")\n",
        "elif bki >= 18.5 and bki < 25:\n",
        "  print(\"Normal\")\n",
        "elif bki >= 25 and bki < 30:\n",
        "  print(\"Fazla Kilolu\")\n",
        "else:\n",
        "  print(\"Obez\")"
      ],
      "execution_count": null,
      "outputs": [
        {
          "output_type": "stream",
          "name": "stdout",
          "text": [
            "Boyunuzu cm cinsinden giriniz: 177\n",
            "Kilonuzu giriniz: 80\n",
            "BKİ= 25.535446391522232\n",
            "Fazla Kilolu\n"
          ]
        }
      ]
    },
    {
      "cell_type": "markdown",
      "metadata": {
        "id": "LYo_NNEy1Iya"
      },
      "source": [
        "Q-8) Kullanıcıdan alınan 3 sayıdan en büyüğünü bulan kodu yazınız."
      ]
    },
    {
      "cell_type": "code",
      "metadata": {
        "id": "Sog7RHFx1czS"
      },
      "source": [
        ""
      ],
      "execution_count": null,
      "outputs": []
    }
  ]
}