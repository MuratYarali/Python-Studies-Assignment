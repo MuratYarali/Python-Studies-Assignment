{
  "nbformat": 4,
  "nbformat_minor": 0,
  "metadata": {
    "colab": {
      "name": "Çalışmam 13.12.2021.ipynb",
      "provenance": [],
      "collapsed_sections": [],
      "authorship_tag": "ABX9TyMUXWdhFR+Ta2kn68FZj06v",
      "include_colab_link": true
    },
    "kernelspec": {
      "name": "python3",
      "display_name": "Python 3"
    },
    "language_info": {
      "name": "python"
    }
  },
  "cells": [
    {
      "cell_type": "markdown",
      "metadata": {
        "id": "view-in-github",
        "colab_type": "text"
      },
      "source": [
        "<a href=\"https://colab.research.google.com/github/MuratYarali/Python-Studies/blob/main/%C3%87al%C4%B1%C5%9Fmam_13_12_2021.ipynb\" target=\"_parent\"><img src=\"https://colab.research.google.com/assets/colab-badge.svg\" alt=\"Open In Colab\"/></a>"
      ]
    },
    {
      "cell_type": "code",
      "execution_count": null,
      "metadata": {
        "colab": {
          "base_uri": "https://localhost:8080/"
        },
        "id": "woB84CZDeqzv",
        "outputId": "0d0cae4d-9e93-4bf5-f613-2f9935320acb"
      },
      "outputs": [
        {
          "output_type": "stream",
          "name": "stdout",
          "text": [
            "ıuratyaralm\n"
          ]
        }
      ],
      "source": [
        "def front_back(word):\n",
        "  string_list = list(word)\n",
        "  string_list[0] = word[-1]\n",
        "  string_list[-1] = word[0]\n",
        "  return \"\".join(string_list)\n",
        "\n",
        "print(front_back('muratyaralı'))"
      ]
    },
    {
      "cell_type": "code",
      "source": [
        "def my_min(*args):\n",
        "  return min(args)\n",
        "\n",
        "print(my_min(3,8,-9,0,12,1.2))"
      ],
      "metadata": {
        "colab": {
          "base_uri": "https://localhost:8080/"
        },
        "id": "iZwyxIqxhYij",
        "outputId": "47120d4f-fddc-47a3-b47c-75658fad65e6"
      },
      "execution_count": null,
      "outputs": [
        {
          "output_type": "stream",
          "name": "stdout",
          "text": [
            "-9\n"
          ]
        }
      ]
    },
    {
      "cell_type": "code",
      "source": [
        "from collections import Counter\n",
        "\n",
        "myList = [1,1,2,3,4,5,3,2,3,4,2,1,2,3]\n",
        "print(Counter(myList))"
      ],
      "metadata": {
        "colab": {
          "base_uri": "https://localhost:8080/"
        },
        "id": "A1rkt5_n0p01",
        "outputId": "067e3de1-6807-43e9-9460-de72b5e437fc"
      },
      "execution_count": null,
      "outputs": [
        {
          "output_type": "stream",
          "name": "stdout",
          "text": [
            "Counter({2: 4, 3: 4, 1: 3, 4: 2, 5: 1})\n"
          ]
        }
      ]
    },
    {
      "cell_type": "code",
      "source": [
        "def number_count(sentence):\n",
        "  from collections import Counter\n",
        "  return Counter(sentence)\n",
        "\n",
        "number_count(input(\"Please enter a sentence: \"))"
      ],
      "metadata": {
        "colab": {
          "base_uri": "https://localhost:8080/"
        },
        "id": "be8u0Cji1Tee",
        "outputId": "1a42f9cb-c756-4863-eb98-9a5a73eded03"
      },
      "execution_count": null,
      "outputs": [
        {
          "name": "stdout",
          "output_type": "stream",
          "text": [
            "Please enter a sentence: hippo runs to us!\n"
          ]
        },
        {
          "output_type": "execute_result",
          "data": {
            "text/plain": [
              "Counter({' ': 3,\n",
              "         '!': 1,\n",
              "         'h': 1,\n",
              "         'i': 1,\n",
              "         'n': 1,\n",
              "         'o': 2,\n",
              "         'p': 2,\n",
              "         'r': 1,\n",
              "         's': 2,\n",
              "         't': 1,\n",
              "         'u': 2})"
            ]
          },
          "metadata": {},
          "execution_count": 7
        }
      ]
    },
    {
      "cell_type": "code",
      "source": [
        "n = list(map(int, input(\"Ortalamasını istediğiniz sayıları boşluk nırakarak giriniz: \").split()))\n",
        "\n",
        "avg = (sum(n))/(len(n))\n",
        "print(round(avg, 2))"
      ],
      "metadata": {
        "colab": {
          "base_uri": "https://localhost:8080/"
        },
        "id": "72lBqmdx6804",
        "outputId": "9005c288-f182-4000-b27e-41d42b9267ce"
      },
      "execution_count": null,
      "outputs": [
        {
          "output_type": "stream",
          "name": "stdout",
          "text": [
            "Ortalamasını istediğiniz sayıları boşluk nırakarak giriniz: 20 30 40 50 60\n",
            "40.0\n"
          ]
        }
      ]
    },
    {
      "cell_type": "code",
      "source": [
        "for harf in 'algoritmaornekleri':\n",
        "  print ('Sıradaki Harf :', harf)\n",
        "print()"
      ],
      "metadata": {
        "colab": {
          "base_uri": "https://localhost:8080/"
        },
        "id": "dgeJx5VQ8qVp",
        "outputId": "74e86ff5-9dfb-40f6-c7dc-4ba6dd7aa7f5"
      },
      "execution_count": null,
      "outputs": [
        {
          "output_type": "stream",
          "name": "stdout",
          "text": [
            "Sıradaki Harf : a\n",
            "Sıradaki Harf : l\n",
            "Sıradaki Harf : g\n",
            "Sıradaki Harf : o\n",
            "Sıradaki Harf : r\n",
            "Sıradaki Harf : i\n",
            "Sıradaki Harf : t\n",
            "Sıradaki Harf : m\n",
            "Sıradaki Harf : a\n",
            "Sıradaki Harf : o\n",
            "Sıradaki Harf : r\n",
            "Sıradaki Harf : n\n",
            "Sıradaki Harf : e\n",
            "Sıradaki Harf : k\n",
            "Sıradaki Harf : l\n",
            "Sıradaki Harf : e\n",
            "Sıradaki Harf : r\n",
            "Sıradaki Harf : i\n",
            "\n"
          ]
        }
      ]
    },
    {
      "cell_type": "code",
      "source": [
        "iller = ['İstanbul', 'Bursa',  'Ankara','Adana','İzmir']\n",
        "\n",
        "for i in iller:\n",
        "  print('Sıradaki il:',i)"
      ],
      "metadata": {
        "colab": {
          "base_uri": "https://localhost:8080/"
        },
        "id": "-zUmxbPh9BD9",
        "outputId": "968852b4-fa37-4569-9744-52adb06d8913"
      },
      "execution_count": null,
      "outputs": [
        {
          "output_type": "stream",
          "name": "stdout",
          "text": [
            "Sıradaki il: İstanbul\n",
            "Sıradaki il: Bursa\n",
            "Sıradaki il: Ankara\n",
            "Sıradaki il: Adana\n",
            "Sıradaki il: İzmir\n"
          ]
        }
      ]
    },
    {
      "cell_type": "code",
      "source": [
        "sayilar = [8,15,17,85,65,36,10,120,32,34,268,10,5,4,32]\n",
        "\n",
        "for i in sayilar:\n",
        "  if i % 2 == 0:\n",
        "    print(i)"
      ],
      "metadata": {
        "colab": {
          "base_uri": "https://localhost:8080/"
        },
        "id": "7HbiUaJO9Uo9",
        "outputId": "a725e654-cef5-4d9c-cadc-2e54ba1d352b"
      },
      "execution_count": null,
      "outputs": [
        {
          "output_type": "stream",
          "name": "stdout",
          "text": [
            "8\n",
            "36\n",
            "10\n",
            "120\n",
            "32\n",
            "34\n",
            "268\n",
            "10\n",
            "4\n",
            "32\n"
          ]
        }
      ]
    },
    {
      "cell_type": "code",
      "source": [
        "for sayı in range(1,11):\n",
        "  print(sayı)"
      ],
      "metadata": {
        "colab": {
          "base_uri": "https://localhost:8080/"
        },
        "id": "MAkPegXc9sGd",
        "outputId": "e4f351cd-840c-4262-fd1d-3a56d26dfef6"
      },
      "execution_count": null,
      "outputs": [
        {
          "output_type": "stream",
          "name": "stdout",
          "text": [
            "1\n",
            "2\n",
            "3\n",
            "4\n",
            "5\n",
            "6\n",
            "7\n",
            "8\n",
            "9\n",
            "10\n"
          ]
        }
      ]
    },
    {
      "cell_type": "code",
      "source": [
        "for sayi in range(10,0,-1):\n",
        "  print(sayi)"
      ],
      "metadata": {
        "colab": {
          "base_uri": "https://localhost:8080/"
        },
        "id": "UwyzFmCA9zbE",
        "outputId": "a6318e25-0244-4295-a256-007999e36b36"
      },
      "execution_count": null,
      "outputs": [
        {
          "output_type": "stream",
          "name": "stdout",
          "text": [
            "10\n",
            "9\n",
            "8\n",
            "7\n",
            "6\n",
            "5\n",
            "4\n",
            "3\n",
            "2\n",
            "1\n"
          ]
        }
      ]
    },
    {
      "cell_type": "code",
      "source": [
        "parola = \"\"\n",
        "s = 1\n",
        "\n",
        "for sayi in range(1,3):\n",
        "  cevap = input(\"Parolanızı giriniz: \")\n",
        "  if s == 1:\n",
        "    parola = cevap\n",
        "    s+=1\n",
        "  else:\n",
        "    if cevap == parola:\n",
        "      print(s, \"kere doğru parola girdiniz, giriş yapabilirsiniz\")\n",
        "    else:\n",
        "      print(\"Parolanız doğrulanamadı.\")"
      ],
      "metadata": {
        "colab": {
          "base_uri": "https://localhost:8080/"
        },
        "id": "itzUItsX-JtD",
        "outputId": "bd974b5c-d0bd-4417-a57c-9742e6242669"
      },
      "execution_count": null,
      "outputs": [
        {
          "output_type": "stream",
          "name": "stdout",
          "text": [
            "Parolanızı giriniz: 123\n",
            "Parolanızı giriniz: 23\n",
            "Parolanız dığrulanamadı.\n"
          ]
        }
      ]
    },
    {
      "cell_type": "code",
      "source": [
        "lst = list(map(int, input(\"Alt ve Üst sınırı yazınız: \").split()))\n",
        "\n",
        "for i in range(lst[0]+13, lst[1]):\n",
        "  print(i)"
      ],
      "metadata": {
        "colab": {
          "base_uri": "https://localhost:8080/"
        },
        "id": "fX4iZ-pwAuGI",
        "outputId": "eb6e5a04-e319-4f30-fb51-1c777f822603"
      },
      "execution_count": null,
      "outputs": [
        {
          "output_type": "stream",
          "name": "stdout",
          "text": [
            "Alt ve Üst sınırı yazınız: 2 18\n",
            "3\n",
            "4\n",
            "5\n",
            "6\n",
            "7\n",
            "8\n",
            "9\n",
            "10\n",
            "11\n",
            "12\n",
            "13\n",
            "14\n",
            "15\n",
            "16\n",
            "17\n"
          ]
        }
      ]
    },
    {
      "cell_type": "code",
      "source": [
        "def daireAlan(r):\n",
        "  alan = 3.14 * r ** 2\n",
        "  return alan\n",
        "\n",
        "r = int(input(\"Dairenin yarıçapını giriniz: \"))\n",
        "print(daireAlan(r))"
      ],
      "metadata": {
        "colab": {
          "base_uri": "https://localhost:8080/"
        },
        "id": "mY6mAZ9HBWPG",
        "outputId": "b28eeafe-c855-4b03-c318-86c055347408"
      },
      "execution_count": null,
      "outputs": [
        {
          "output_type": "stream",
          "name": "stdout",
          "text": [
            "Dairenin yarıçapını giriniz: 22\n",
            "1519.76\n"
          ]
        }
      ]
    },
    {
      "cell_type": "code",
      "source": [
        "def dikAlan(genişlik, yükseklik):\n",
        "  alan = genişlik * yükseklik\n",
        "  return alan\n",
        "\n",
        "genişlik, yükseklik = list(map(int,input(\"Genişlik ve Yüksekliği giriniz: \").split()))\n",
        "print(dikAlan(genişlik, yükseklik))"
      ],
      "metadata": {
        "colab": {
          "base_uri": "https://localhost:8080/"
        },
        "id": "Ct6pOI-QCfQc",
        "outputId": "103589be-ddaf-4da0-a6d3-f31c6639b410"
      },
      "execution_count": null,
      "outputs": [
        {
          "output_type": "stream",
          "name": "stdout",
          "text": [
            "Genişlik ve Yüksekliği giriniz: 40 25\n",
            "1000\n"
          ]
        }
      ]
    },
    {
      "cell_type": "code",
      "source": [
        "def çiftorta(a, b):\n",
        "  lst = []\n",
        "  for i in range(a+1, b):\n",
        "    if i % 2 == 0:\n",
        "      lst.append(i)\n",
        "    else:\n",
        "      continue\n",
        "    ortalama = (sum(lst))/(len(lst))\n",
        "    return ortalama\n",
        "\n",
        "a, b = list(map(int,input(\"2 sayı giriniz: \").split()))\n",
        "print(çiftorta(a, b))\n"
      ],
      "metadata": {
        "colab": {
          "base_uri": "https://localhost:8080/"
        },
        "id": "7XYiRd5CDQnT",
        "outputId": "689683b7-5a1d-42c3-d3fd-bc844408a654"
      },
      "execution_count": null,
      "outputs": [
        {
          "output_type": "stream",
          "name": "stdout",
          "text": [
            "2 sayı giriniz: 2 9\n",
            "4.0\n"
          ]
        }
      ]
    },
    {
      "cell_type": "code",
      "source": [
        "print(\"Hello World\")\n",
        "print(\"Hello World\")\n",
        "print(\"Hello World\")\n",
        "print(\"Hello World\")\n",
        "print(\"Hello World\")\n",
        "2/0\n",
        "print(\"Hello World\")\n",
        "print(\"Hello World\")\n",
        "print(\"Hello World\")\n",
        "print(\"Hello World\")\n",
        "print(\"Hello World\")\n",
        "print(\"Hello World\")"
      ],
      "metadata": {
        "colab": {
          "base_uri": "https://localhost:8080/",
          "height": 337
        },
        "id": "_KaqsdxFDRMr",
        "outputId": "c7641dca-e6a8-4e00-e621-0b40544adeb5"
      },
      "execution_count": null,
      "outputs": [
        {
          "output_type": "stream",
          "name": "stdout",
          "text": [
            "Hello World\n",
            "Hello World\n",
            "Hello World\n",
            "Hello World\n",
            "Hello World\n"
          ]
        },
        {
          "output_type": "error",
          "ename": "ZeroDivisionError",
          "evalue": "ignored",
          "traceback": [
            "\u001b[0;31m---------------------------------------------------------------------------\u001b[0m",
            "\u001b[0;31mZeroDivisionError\u001b[0m                         Traceback (most recent call last)",
            "\u001b[0;32m<ipython-input-3-08a33227daac>\u001b[0m in \u001b[0;36m<module>\u001b[0;34m()\u001b[0m\n\u001b[1;32m      4\u001b[0m \u001b[0mprint\u001b[0m\u001b[0;34m(\u001b[0m\u001b[0;34m\"Hello World\"\u001b[0m\u001b[0;34m)\u001b[0m\u001b[0;34m\u001b[0m\u001b[0;34m\u001b[0m\u001b[0m\n\u001b[1;32m      5\u001b[0m \u001b[0mprint\u001b[0m\u001b[0;34m(\u001b[0m\u001b[0;34m\"Hello World\"\u001b[0m\u001b[0;34m)\u001b[0m\u001b[0;34m\u001b[0m\u001b[0;34m\u001b[0m\u001b[0m\n\u001b[0;32m----> 6\u001b[0;31m \u001b[0;36m2\u001b[0m\u001b[0;34m/\u001b[0m\u001b[0;36m0\u001b[0m\u001b[0;34m\u001b[0m\u001b[0;34m\u001b[0m\u001b[0m\n\u001b[0m\u001b[1;32m      7\u001b[0m \u001b[0mprint\u001b[0m\u001b[0;34m(\u001b[0m\u001b[0;34m\"Hello World\"\u001b[0m\u001b[0;34m)\u001b[0m\u001b[0;34m\u001b[0m\u001b[0;34m\u001b[0m\u001b[0m\n\u001b[1;32m      8\u001b[0m \u001b[0mprint\u001b[0m\u001b[0;34m(\u001b[0m\u001b[0;34m\"Hello World\"\u001b[0m\u001b[0;34m)\u001b[0m\u001b[0;34m\u001b[0m\u001b[0;34m\u001b[0m\u001b[0m\n",
            "\u001b[0;31mZeroDivisionError\u001b[0m: division by zero"
          ]
        }
      ]
    },
    {
      "cell_type": "code",
      "source": [
        "while True:\n",
        "  no_one = int(input(\"The first number please: \"))\n",
        "  no_two = int(input(\"The second number please: \"))\n",
        "  try:\n",
        "    division = no_one / no_two\n",
        "    print(\"The result of the television is: \", division)\n",
        "    break\n",
        "  except Exception as fırfırik:\n",
        "    print(\"Something is wrong... Try again\")\n",
        "    print(\"Probobly it is because of '{}' error\".format(fırfırik))\n",
        "    break"
      ],
      "metadata": {
        "colab": {
          "base_uri": "https://localhost:8080/"
        },
        "id": "UlbxyD1RDjSB",
        "outputId": "3511e2ac-5713-4691-a7f1-fc5442585ec0"
      },
      "execution_count": null,
      "outputs": [
        {
          "output_type": "stream",
          "name": "stdout",
          "text": [
            "The first number please: 7\n",
            "The second number please: 0\n",
            "Something is wrong... Try again\n",
            "Probobly it is because of 'division by zero' error\n"
          ]
        }
      ]
    },
    {
      "cell_type": "code",
      "source": [
        "while True:\n",
        "  try:\n",
        "    no_one = int(input(\"The first number please: \"))\n",
        "    no_two = int(input(\"The second number please: \"))\n",
        "    division = no_one / no_two\n",
        "    print(\"The result of the television is: \", division)\n",
        "    break\n",
        "  except Exception as fırfırik:\n",
        "    print(\"Something is wrong... Try again\")\n",
        "    print(\"Probobly it is because of '{}' error\".format(fırfırik))\n",
        "    break"
      ],
      "metadata": {
        "colab": {
          "base_uri": "https://localhost:8080/"
        },
        "id": "YMypxGTQEj7_",
        "outputId": "f05d3752-ab07-437b-c793-675406e7b149"
      },
      "execution_count": null,
      "outputs": [
        {
          "output_type": "stream",
          "name": "stdout",
          "text": [
            "The first number please: 5\n",
            "The second number please: beş\n",
            "Something is wrong... Try again\n",
            "Probobly it is because of 'invalid literal for int() with base 10: 'beş'' error\n"
          ]
        }
      ]
    },
    {
      "cell_type": "code",
      "source": [
        "try:\n",
        "  a = 10\n",
        "  b = 2\n",
        "  print(\"Result of the division is: \", c)\n",
        "except Exception as e:\n",
        "  print(\"The errror mesage is: \", e)"
      ],
      "metadata": {
        "colab": {
          "base_uri": "https://localhost:8080/"
        },
        "id": "fQqUSeBYFJZe",
        "outputId": "a70ec322-d4c0-44dd-bc39-27224b6a6e0f"
      },
      "execution_count": null,
      "outputs": [
        {
          "output_type": "stream",
          "name": "stdout",
          "text": [
            "The errror mesage is:  name 'c' is not defined\n"
          ]
        }
      ]
    },
    {
      "cell_type": "code",
      "source": [
        "try:\n",
        "  int(\"on\")\n",
        "except ZeroDivisionError:\n",
        "  print(\"Attemp to divide by zero\")\n",
        "except NameError:\n",
        "  print(\"Act in accordance with name error\")\n",
        "except:\n",
        "  print(\"Something else went wrong\")"
      ],
      "metadata": {
        "colab": {
          "base_uri": "https://localhost:8080/"
        },
        "id": "beRCFbEPLWRA",
        "outputId": "ef0667ba-67c8-4b14-cc47-28e181f611e1"
      },
      "execution_count": null,
      "outputs": [
        {
          "output_type": "stream",
          "name": "stdout",
          "text": [
            "Something else went wrong\n"
          ]
        }
      ]
    },
    {
      "cell_type": "code",
      "source": [
        "try:\n",
        "  int(\"on\")\n",
        "except ZeroDivisionError:\n",
        "  print(\"Attemp to divide by zero\")\n",
        "except NameError:\n",
        "  print(\"Act in accordance with name error\")\n",
        "except:\n",
        "  print(\"Something else went wrong\")"
      ],
      "metadata": {
        "id": "fSO1zBoKMPdB"
      },
      "execution_count": null,
      "outputs": []
    },
    {
      "cell_type": "code",
      "source": [
        "try:\n",
        "  int(\"on\")\n",
        "except ZeroDivisionError:\n",
        "  print(\"Attemp to divide by zero\")\n",
        "except NameError:\n",
        "  print(\"Act in accordance with name error\")\n",
        "except (ValueError, TypeError):\n",
        "  print(\"Act in accordance with value and type error\")\n",
        "except:\n",
        "  print(\"Something else went wrong\")"
      ],
      "metadata": {
        "colab": {
          "base_uri": "https://localhost:8080/"
        },
        "id": "fX1fn-iOMvUm",
        "outputId": "aab18e05-b4d3-4f47-aee1-92ccab1784d2"
      },
      "execution_count": null,
      "outputs": [
        {
          "output_type": "stream",
          "name": "stdout",
          "text": [
            "Act in accordance with value and type error\n"
          ]
        }
      ]
    },
    {
      "cell_type": "code",
      "source": [
        "try:\n",
        "  4 / 0\n",
        "except ArithmeticError:\n",
        "  print(\"Attemp to divide by zero\")\n",
        "except NameError:\n",
        "  print(\"Act in accordance with name error\")\n",
        "except (ValueError, TypeError):\n",
        "  print(\"Act in accordance with value and type error\")\n",
        "except:\n",
        "  print(\"Something else went wrong\")"
      ],
      "metadata": {
        "colab": {
          "base_uri": "https://localhost:8080/"
        },
        "id": "MJlxT3N5N7p4",
        "outputId": "221b9954-564a-47fd-db36-c6e2b58bd82f"
      },
      "execution_count": null,
      "outputs": [
        {
          "output_type": "stream",
          "name": "stdout",
          "text": [
            "Attemp to divide by zero\n"
          ]
        }
      ]
    },
    {
      "cell_type": "code",
      "source": [
        "while True:\n",
        "  try:\n",
        "    fruits = [\"banana\", \"mango\", \"pear\", \"apple\", \"kiwi\", \"grape\"]\n",
        "    fruit = fruits[int(input(\"Enter the number of your favorite fruit: \"))]\n",
        "    print(f\"My favorite fruit is {fruit}\")\n",
        "    break\n",
        "  except ValueError:\n",
        "    print(\"Act in accordance with value error\")\n",
        "    continue\n",
        "  except IndexError:\n",
        "    print(\"Act in accordance with index error\")\n",
        "    continue"
      ],
      "metadata": {
        "colab": {
          "base_uri": "https://localhost:8080/"
        },
        "id": "BhtjONO8OKAF",
        "outputId": "f377e8ce-8249-44ed-c2bd-f9f571bf886e"
      },
      "execution_count": null,
      "outputs": [
        {
          "output_type": "stream",
          "name": "stdout",
          "text": [
            "Enter the number of your favorite fruit: -1\n",
            "My favorite fruit is grape\n"
          ]
        }
      ]
    },
    {
      "cell_type": "code",
      "source": [
        "fruits = [\"banana\", \"mango\", \"pear\", \"apple\", \"kiwi\", \"grape\"]\n",
        "counter = 3 \n",
        "\n",
        "while counter > 0:\n",
        "  try:\n",
        "    fruits = [\"banana\", \"mango\", \"pear\", \"apple\", \"kiwi\", \"grape\"]\n",
        "    fruit = fruits[int(input(\"Enter the number of your favorite fruit: \"))]\n",
        "    print(f\"My favorite fruit is {fruit}\")\n",
        "  except (ValueError, IndexError):\n",
        "    print(f\"You made an error.\")\n",
        "  else:\n",
        "    print(\"Congraduations. You have entered valid input\")\n",
        "    break\n",
        "  finally:\n",
        "    counter -= 1\n",
        "    print(f\"You have {counter} chance left.\")\n",
        "    print(\"Our fruits are always fresh \\n\")"
      ],
      "metadata": {
        "colab": {
          "base_uri": "https://localhost:8080/"
        },
        "id": "ClPjvi2pRjOn",
        "outputId": "e95134b8-73af-4e47-f564-ea2fbb1fd5ae"
      },
      "execution_count": null,
      "outputs": [
        {
          "output_type": "stream",
          "name": "stdout",
          "text": [
            "Enter the number of your favorite fruit: ss\n",
            "You made an error.\n",
            "You have 2 chance left.\n",
            "Our fruits are always fresh \n",
            "\n",
            "Enter the number of your favorite fruit: sd\n",
            "You made an error.\n",
            "You have 1 chance left.\n",
            "Our fruits are always fresh \n",
            "\n",
            "Enter the number of your favorite fruit: 9\n",
            "You made an error.\n",
            "You have 0 chance left.\n",
            "Our fruits are always fresh \n",
            "\n"
          ]
        }
      ]
    },
    {
      "cell_type": "code",
      "source": [
        "0 > 0"
      ],
      "metadata": {
        "colab": {
          "base_uri": "https://localhost:8080/"
        },
        "id": "RQ30S9uBZJZz",
        "outputId": "28ede748-0198-4cb6-e4b4-195360f388b9"
      },
      "execution_count": null,
      "outputs": [
        {
          "output_type": "execute_result",
          "data": {
            "text/plain": [
              "False"
            ]
          },
          "metadata": {},
          "execution_count": 20
        }
      ]
    },
    {
      "cell_type": "code",
      "source": [
        "string = \"bugün hüzünlüyüm. Ayrılık yakın. 2 session sonra...\"\n",
        "\n",
        "word_dict = {}\n",
        "\n",
        "for n in string:\n",
        "  if n in word_dict:\n",
        "    word_dict[n] += 1\n",
        "  else:\n",
        "    word_dict[n] = 1\n",
        "\n",
        "print(word_dict)"
      ],
      "metadata": {
        "colab": {
          "base_uri": "https://localhost:8080/"
        },
        "id": "TGX5WIpacalV",
        "outputId": "c8f5d5d2-fcbe-4a39-c9f7-5fbf3a61d641"
      },
      "execution_count": null,
      "outputs": [
        {
          "output_type": "stream",
          "name": "stdout",
          "text": [
            "{'b': 1, 'u': 1, 'g': 1, 'ü': 5, 'n': 5, ' ': 6, 'h': 1, 'z': 1, 'l': 2, 'y': 3, 'm': 1, '.': 5, 'A': 1, 'r': 2, 'ı': 3, 'k': 2, 'a': 2, '2': 1, 's': 4, 'e': 1, 'i': 1, 'o': 2}\n"
          ]
        }
      ]
    },
    {
      "cell_type": "code",
      "source": [
        "tipler = [\"int\", \"str\", \"bool\", \"list\", \"tuple\", \"dict\", \"set\"]\n",
        "veri = [\"a\", \"b\", True, (False, 1), {\"1\" : 2}, [1,2], {\"2\" : \"two\"}, {2, \"3\"}, \"c\", 23, 0]\n",
        "\n",
        "word_dict = {}\n",
        "\n",
        "for n in veri:\n",
        "  if type(n) in word_dict:\n",
        "    word_dict[type(n)] += 1\n",
        "  else:\n",
        "    word_dict[type(n)] = 1\n",
        "\n",
        "print(word_dict)"
      ],
      "metadata": {
        "colab": {
          "base_uri": "https://localhost:8080/"
        },
        "id": "T54TRotZeUtp",
        "outputId": "6547fee7-4f2d-4942-d192-01d415607378"
      },
      "execution_count": null,
      "outputs": [
        {
          "output_type": "stream",
          "name": "stdout",
          "text": [
            "{<class 'str'>: 3, <class 'bool'>: 1, <class 'tuple'>: 1, <class 'dict'>: 2, <class 'list'>: 1, <class 'set'>: 1, <class 'int'>: 2}\n"
          ]
        }
      ]
    },
    {
      "cell_type": "code",
      "source": [
        "tipler = [\"int\", \"str\", \"bool\", \"list\", \"tuple\", \"dict\", \"set\"]\n",
        "veri = [\"a\", \"b\", True, (False, 1), {\"1\" : 2}, [1,2], {\"2\" : \"two\"}, {2, \"3\"}, \"c\", 23, 0]\n",
        "toplam = {}\n",
        "\n",
        "for i in range(len(veri)):\n",
        "  if type(veri[i]) == \"int\": toplam[\"int\"] +=1\n",
        "  elif type(veri[i]) == \"str\": toplam[\"str\"] +=1\n",
        "  elif type(veri[i]) == \"bool\": toplam[\"bool\"] +=1\n",
        "  elif type(veri[i]) == \"tuple\": toplam[\"tuple\"] +=1\n",
        "  elif type(veri[i]) == \"dict\": toplam[\"dict\"] +=1\n",
        "  elif type(veri[i]) == \"set\": toplam[\"set\"] +=1\n",
        "  elif type(veri[i]) == \"list\": toplam[\"list\"] +=1\n",
        "\n",
        "print(toplam)"
      ],
      "metadata": {
        "colab": {
          "base_uri": "https://localhost:8080/"
        },
        "id": "kbqe7WJxfyl_",
        "outputId": "77649b6c-e4f6-40ce-a64b-1f0eb78d9846"
      },
      "execution_count": 36,
      "outputs": [
        {
          "output_type": "stream",
          "name": "stdout",
          "text": [
            "{}\n"
          ]
        }
      ]
    },
    {
      "cell_type": "code",
      "source": [
        "import os"
      ],
      "metadata": {
        "id": "NVxH4k-yiKkp"
      },
      "execution_count": 38,
      "outputs": []
    },
    {
      "cell_type": "code",
      "source": [
        "dosya_içeriği = os.listdir()"
      ],
      "metadata": {
        "id": "1mdiuPHPjBcZ"
      },
      "execution_count": 39,
      "outputs": []
    },
    {
      "cell_type": "code",
      "source": [
        "dosya_içeriği"
      ],
      "metadata": {
        "colab": {
          "base_uri": "https://localhost:8080/"
        },
        "id": "Fc8NY0ihjUhS",
        "outputId": "3c74f745-47e7-4d71-b1ba-a3de800d63c0"
      },
      "execution_count": 40,
      "outputs": [
        {
          "output_type": "execute_result",
          "data": {
            "text/plain": [
              "['.config', 'sample_data']"
            ]
          },
          "metadata": {},
          "execution_count": 40
        }
      ]
    },
    {
      "cell_type": "code",
      "source": [
        "pwd"
      ],
      "metadata": {
        "colab": {
          "base_uri": "https://localhost:8080/",
          "height": 36
        },
        "id": "J_ZaPQFnjWBR",
        "outputId": "b59e0030-91ed-4730-eb90-c8fdf52cf529"
      },
      "execution_count": 41,
      "outputs": [
        {
          "output_type": "execute_result",
          "data": {
            "application/vnd.google.colaboratory.intrinsic+json": {
              "type": "string"
            },
            "text/plain": [
              "'/content'"
            ]
          },
          "metadata": {},
          "execution_count": 41
        }
      ]
    }
  ]
}