{
  "nbformat": 4,
  "nbformat_minor": 0,
  "metadata": {
    "colab": {
      "name": "Çalışmam 13.12.2021.ipynb",
      "provenance": [],
      "collapsed_sections": [],
      "authorship_tag": "ABX9TyPYcBPjVeeILct3HxtxKt8i",
      "include_colab_link": true
    },
    "kernelspec": {
      "name": "python3",
      "display_name": "Python 3"
    },
    "language_info": {
      "name": "python"
    }
  },
  "cells": [
    {
      "cell_type": "markdown",
      "metadata": {
        "id": "view-in-github",
        "colab_type": "text"
      },
      "source": [
        "<a href=\"https://colab.research.google.com/github/MuratYarali/Python-Studies/blob/main/%C3%87al%C4%B1%C5%9Fmam_13_12_2021.ipynb\" target=\"_parent\"><img src=\"https://colab.research.google.com/assets/colab-badge.svg\" alt=\"Open In Colab\"/></a>"
      ]
    },
    {
      "cell_type": "code",
      "execution_count": null,
      "metadata": {
        "colab": {
          "base_uri": "https://localhost:8080/"
        },
        "id": "woB84CZDeqzv",
        "outputId": "0d0cae4d-9e93-4bf5-f613-2f9935320acb"
      },
      "outputs": [
        {
          "output_type": "stream",
          "name": "stdout",
          "text": [
            "ıuratyaralm\n"
          ]
        }
      ],
      "source": [
        "def front_back(word):\n",
        "  string_list = list(word)\n",
        "  string_list[0] = word[-1]\n",
        "  string_list[-1] = word[0]\n",
        "  return \"\".join(string_list)\n",
        "\n",
        "print(front_back('muratyaralı'))"
      ]
    },
    {
      "cell_type": "code",
      "source": [
        "def my_min(*args):\n",
        "  return min(args)\n",
        "\n",
        "print(my_min(3,8,-9,0,12,1.2))"
      ],
      "metadata": {
        "colab": {
          "base_uri": "https://localhost:8080/"
        },
        "id": "iZwyxIqxhYij",
        "outputId": "47120d4f-fddc-47a3-b47c-75658fad65e6"
      },
      "execution_count": null,
      "outputs": [
        {
          "output_type": "stream",
          "name": "stdout",
          "text": [
            "-9\n"
          ]
        }
      ]
    },
    {
      "cell_type": "code",
      "source": [
        "from collections import Counter\n",
        "\n",
        "myList = [1,1,2,3,4,5,3,2,3,4,2,1,2,3]\n",
        "print(Counter(myList))"
      ],
      "metadata": {
        "colab": {
          "base_uri": "https://localhost:8080/"
        },
        "id": "A1rkt5_n0p01",
        "outputId": "067e3de1-6807-43e9-9460-de72b5e437fc"
      },
      "execution_count": null,
      "outputs": [
        {
          "output_type": "stream",
          "name": "stdout",
          "text": [
            "Counter({2: 4, 3: 4, 1: 3, 4: 2, 5: 1})\n"
          ]
        }
      ]
    },
    {
      "cell_type": "code",
      "source": [
        "def number_count(sentence):\n",
        "  from collections import Counter\n",
        "  return Counter(sentence)\n",
        "\n",
        "number_count(input(\"Please enter a sentence: \"))"
      ],
      "metadata": {
        "colab": {
          "base_uri": "https://localhost:8080/"
        },
        "id": "be8u0Cji1Tee",
        "outputId": "1a42f9cb-c756-4863-eb98-9a5a73eded03"
      },
      "execution_count": null,
      "outputs": [
        {
          "name": "stdout",
          "output_type": "stream",
          "text": [
            "Please enter a sentence: hippo runs to us!\n"
          ]
        },
        {
          "output_type": "execute_result",
          "data": {
            "text/plain": [
              "Counter({' ': 3,\n",
              "         '!': 1,\n",
              "         'h': 1,\n",
              "         'i': 1,\n",
              "         'n': 1,\n",
              "         'o': 2,\n",
              "         'p': 2,\n",
              "         'r': 1,\n",
              "         's': 2,\n",
              "         't': 1,\n",
              "         'u': 2})"
            ]
          },
          "metadata": {},
          "execution_count": 7
        }
      ]
    },
    {
      "cell_type": "code",
      "source": [
        "n = list(map(int, input(\"Ortalamasını istediğiniz sayıları boşluk nırakarak giriniz: \").split()))\n",
        "\n",
        "avg = (sum(n))/(len(n))\n",
        "print(round(avg, 2))"
      ],
      "metadata": {
        "colab": {
          "base_uri": "https://localhost:8080/"
        },
        "id": "72lBqmdx6804",
        "outputId": "9005c288-f182-4000-b27e-41d42b9267ce"
      },
      "execution_count": null,
      "outputs": [
        {
          "output_type": "stream",
          "name": "stdout",
          "text": [
            "Ortalamasını istediğiniz sayıları boşluk nırakarak giriniz: 20 30 40 50 60\n",
            "40.0\n"
          ]
        }
      ]
    },
    {
      "cell_type": "code",
      "source": [
        "for harf in 'algoritmaornekleri':\n",
        "  print ('Sıradaki Harf :', harf)\n",
        "print()"
      ],
      "metadata": {
        "colab": {
          "base_uri": "https://localhost:8080/"
        },
        "id": "dgeJx5VQ8qVp",
        "outputId": "74e86ff5-9dfb-40f6-c7dc-4ba6dd7aa7f5"
      },
      "execution_count": null,
      "outputs": [
        {
          "output_type": "stream",
          "name": "stdout",
          "text": [
            "Sıradaki Harf : a\n",
            "Sıradaki Harf : l\n",
            "Sıradaki Harf : g\n",
            "Sıradaki Harf : o\n",
            "Sıradaki Harf : r\n",
            "Sıradaki Harf : i\n",
            "Sıradaki Harf : t\n",
            "Sıradaki Harf : m\n",
            "Sıradaki Harf : a\n",
            "Sıradaki Harf : o\n",
            "Sıradaki Harf : r\n",
            "Sıradaki Harf : n\n",
            "Sıradaki Harf : e\n",
            "Sıradaki Harf : k\n",
            "Sıradaki Harf : l\n",
            "Sıradaki Harf : e\n",
            "Sıradaki Harf : r\n",
            "Sıradaki Harf : i\n",
            "\n"
          ]
        }
      ]
    },
    {
      "cell_type": "code",
      "source": [
        "iller = ['İstanbul', 'Bursa',  'Ankara','Adana','İzmir']\n",
        "\n",
        "for i in iller:\n",
        "  print('Sıradaki il:',i)"
      ],
      "metadata": {
        "colab": {
          "base_uri": "https://localhost:8080/"
        },
        "id": "-zUmxbPh9BD9",
        "outputId": "968852b4-fa37-4569-9744-52adb06d8913"
      },
      "execution_count": null,
      "outputs": [
        {
          "output_type": "stream",
          "name": "stdout",
          "text": [
            "Sıradaki il: İstanbul\n",
            "Sıradaki il: Bursa\n",
            "Sıradaki il: Ankara\n",
            "Sıradaki il: Adana\n",
            "Sıradaki il: İzmir\n"
          ]
        }
      ]
    },
    {
      "cell_type": "code",
      "source": [
        "sayilar = [8,15,17,85,65,36,10,120,32,34,268,10,5,4,32]\n",
        "\n",
        "for i in sayilar:\n",
        "  if i % 2 == 0:\n",
        "    print(i)"
      ],
      "metadata": {
        "colab": {
          "base_uri": "https://localhost:8080/"
        },
        "id": "7HbiUaJO9Uo9",
        "outputId": "a725e654-cef5-4d9c-cadc-2e54ba1d352b"
      },
      "execution_count": null,
      "outputs": [
        {
          "output_type": "stream",
          "name": "stdout",
          "text": [
            "8\n",
            "36\n",
            "10\n",
            "120\n",
            "32\n",
            "34\n",
            "268\n",
            "10\n",
            "4\n",
            "32\n"
          ]
        }
      ]
    },
    {
      "cell_type": "code",
      "source": [
        "for sayı in range(1,11):\n",
        "  print(sayı)"
      ],
      "metadata": {
        "colab": {
          "base_uri": "https://localhost:8080/"
        },
        "id": "MAkPegXc9sGd",
        "outputId": "e4f351cd-840c-4262-fd1d-3a56d26dfef6"
      },
      "execution_count": null,
      "outputs": [
        {
          "output_type": "stream",
          "name": "stdout",
          "text": [
            "1\n",
            "2\n",
            "3\n",
            "4\n",
            "5\n",
            "6\n",
            "7\n",
            "8\n",
            "9\n",
            "10\n"
          ]
        }
      ]
    },
    {
      "cell_type": "code",
      "source": [
        "for sayi in range(10,0,-1):\n",
        "  print(sayi)"
      ],
      "metadata": {
        "colab": {
          "base_uri": "https://localhost:8080/"
        },
        "id": "UwyzFmCA9zbE",
        "outputId": "a6318e25-0244-4295-a256-007999e36b36"
      },
      "execution_count": null,
      "outputs": [
        {
          "output_type": "stream",
          "name": "stdout",
          "text": [
            "10\n",
            "9\n",
            "8\n",
            "7\n",
            "6\n",
            "5\n",
            "4\n",
            "3\n",
            "2\n",
            "1\n"
          ]
        }
      ]
    },
    {
      "cell_type": "code",
      "source": [
        "parola = \"\"\n",
        "s = 1\n",
        "\n",
        "for sayi in range(1,3):\n",
        "  cevap = input(\"Parolanızı giriniz: \")\n",
        "  if s == 1:\n",
        "    parola = cevap\n",
        "    s+=1\n",
        "  else:\n",
        "    if cevap == parola:\n",
        "      print(s, \"kere doğru parola girdiniz, giriş yapabilirsiniz\")\n",
        "    else:\n",
        "      print(\"Parolanız doğrulanamadı.\")"
      ],
      "metadata": {
        "colab": {
          "base_uri": "https://localhost:8080/"
        },
        "id": "itzUItsX-JtD",
        "outputId": "bd974b5c-d0bd-4417-a57c-9742e6242669"
      },
      "execution_count": null,
      "outputs": [
        {
          "output_type": "stream",
          "name": "stdout",
          "text": [
            "Parolanızı giriniz: 123\n",
            "Parolanızı giriniz: 23\n",
            "Parolanız dığrulanamadı.\n"
          ]
        }
      ]
    },
    {
      "cell_type": "code",
      "source": [
        "lst = list(map(int, input(\"Alt ve Üst sınırı yazınız: \").split()))\n",
        "\n",
        "for i in range(lst[0]+13, lst[1]):\n",
        "  print(i)"
      ],
      "metadata": {
        "colab": {
          "base_uri": "https://localhost:8080/"
        },
        "id": "fX4iZ-pwAuGI",
        "outputId": "eb6e5a04-e319-4f30-fb51-1c777f822603"
      },
      "execution_count": null,
      "outputs": [
        {
          "output_type": "stream",
          "name": "stdout",
          "text": [
            "Alt ve Üst sınırı yazınız: 2 18\n",
            "3\n",
            "4\n",
            "5\n",
            "6\n",
            "7\n",
            "8\n",
            "9\n",
            "10\n",
            "11\n",
            "12\n",
            "13\n",
            "14\n",
            "15\n",
            "16\n",
            "17\n"
          ]
        }
      ]
    },
    {
      "cell_type": "code",
      "source": [
        "def daireAlan(r):\n",
        "  alan = 3.14 * r ** 2\n",
        "  return alan\n",
        "\n",
        "r = int(input(\"Dairenin yarıçapını giriniz: \"))\n",
        "print(daireAlan(r))"
      ],
      "metadata": {
        "colab": {
          "base_uri": "https://localhost:8080/"
        },
        "id": "mY6mAZ9HBWPG",
        "outputId": "b28eeafe-c855-4b03-c318-86c055347408"
      },
      "execution_count": null,
      "outputs": [
        {
          "output_type": "stream",
          "name": "stdout",
          "text": [
            "Dairenin yarıçapını giriniz: 22\n",
            "1519.76\n"
          ]
        }
      ]
    },
    {
      "cell_type": "code",
      "source": [
        "def dikAlan(genişlik, yükseklik):\n",
        "  alan = genişlik * yükseklik\n",
        "  return alan\n",
        "\n",
        "genişlik, yükseklik = list(map(int,input(\"Genişlik ve Yüksekliği giriniz: \").split()))\n",
        "print(dikAlan(genişlik, yükseklik))"
      ],
      "metadata": {
        "colab": {
          "base_uri": "https://localhost:8080/"
        },
        "id": "Ct6pOI-QCfQc",
        "outputId": "103589be-ddaf-4da0-a6d3-f31c6639b410"
      },
      "execution_count": null,
      "outputs": [
        {
          "output_type": "stream",
          "name": "stdout",
          "text": [
            "Genişlik ve Yüksekliği giriniz: 40 25\n",
            "1000\n"
          ]
        }
      ]
    },
    {
      "cell_type": "code",
      "source": [
        "def çiftorta(a, b):\n",
        "  lst = []\n",
        "  for i in range(a+1, b):\n",
        "    if i % 2 == 0:\n",
        "      lst.append(i)\n",
        "    else:\n",
        "      continue\n",
        "    ortalama = (sum(lst))/(len(lst))\n",
        "    return ortalama\n",
        "\n",
        "a, b = list(map(int,input(\"2 sayı giriniz: \").split()))\n",
        "print(çiftorta(a, b))\n"
      ],
      "metadata": {
        "colab": {
          "base_uri": "https://localhost:8080/"
        },
        "id": "7XYiRd5CDQnT",
        "outputId": "689683b7-5a1d-42c3-d3fd-bc844408a654"
      },
      "execution_count": null,
      "outputs": [
        {
          "output_type": "stream",
          "name": "stdout",
          "text": [
            "2 sayı giriniz: 2 9\n",
            "4.0\n"
          ]
        }
      ]
    }
  ]
}