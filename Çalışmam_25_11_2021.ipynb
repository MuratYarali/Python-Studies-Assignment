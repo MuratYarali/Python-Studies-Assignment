{
  "nbformat": 4,
  "nbformat_minor": 0,
  "metadata": {
    "colab": {
      "name": "Çalışmam 25.11.2021.ipynb",
      "provenance": [],
      "collapsed_sections": [],
      "authorship_tag": "ABX9TyMqrgNB/N8YVR8ILqqjFApU",
      "include_colab_link": true
    },
    "kernelspec": {
      "name": "python3",
      "display_name": "Python 3"
    },
    "language_info": {
      "name": "python"
    }
  },
  "cells": [
    {
      "cell_type": "markdown",
      "metadata": {
        "id": "view-in-github",
        "colab_type": "text"
      },
      "source": [
        "<a href=\"https://colab.research.google.com/github/MuratYarali/Python-Studies/blob/main/%C3%87al%C4%B1%C5%9Fmam_25_11_2021.ipynb\" target=\"_parent\"><img src=\"https://colab.research.google.com/assets/colab-badge.svg\" alt=\"Open In Colab\"/></a>"
      ]
    },
    {
      "cell_type": "code",
      "metadata": {
        "colab": {
          "base_uri": "https://localhost:8080/"
        },
        "id": "NsUEn-le0t4d",
        "outputId": "152c617b-42b7-49b9-d108-eb3992c296a8"
      },
      "source": [
        "print(callable(\"anka\"))"
      ],
      "execution_count": null,
      "outputs": [
        {
          "output_type": "stream",
          "name": "stdout",
          "text": [
            "False\n"
          ]
        }
      ]
    },
    {
      "cell_type": "code",
      "metadata": {
        "colab": {
          "base_uri": "https://localhost:8080/"
        },
        "id": "QhMALDzG4Yta",
        "outputId": "730488e4-6a8c-4f51-b3ed-e26688d9e3e5"
      },
      "source": [
        "def x():\n",
        "  a = 5\n",
        "  return a\n",
        "print(x())"
      ],
      "execution_count": null,
      "outputs": [
        {
          "output_type": "stream",
          "name": "stdout",
          "text": [
            "5\n"
          ]
        }
      ]
    },
    {
      "cell_type": "code",
      "metadata": {
        "colab": {
          "base_uri": "https://localhost:8080/"
        },
        "id": "GLGl0U4y88Hz",
        "outputId": "8d2d535d-6a79-47f5-b06f-0fadb0ddd03c"
      },
      "source": [
        "bool(None)"
      ],
      "execution_count": null,
      "outputs": [
        {
          "output_type": "execute_result",
          "data": {
            "text/plain": [
              "False"
            ]
          },
          "metadata": {},
          "execution_count": 7
        }
      ]
    },
    {
      "cell_type": "code",
      "metadata": {
        "id": "FBAfpAAt9Fzy"
      },
      "source": [
        "mylist = ['apple', 'banana', 'cherry']\n",
        "\n",
        "x = frozenset(mylist)\n",
        "\n",
        "x[1] = \"strawberry\"\n",
        "\n",
        "print(x, type(x))"
      ],
      "execution_count": null,
      "outputs": []
    },
    {
      "cell_type": "code",
      "metadata": {
        "colab": {
          "base_uri": "https://localhost:8080/"
        },
        "id": "9Obl095EFxpB",
        "outputId": "0d49df89-42ba-4434-c8ac-2a9c1c2295c5"
      },
      "source": [
        "girdi=input(\"Lütfen sonucunu bulmak istediğiniz matematiksel işlemi yazın. \\\n",
        " + - * / matematiksel işaretlerini kullanabilirsiniz.\")\n",
        "\n",
        "sonuç = eval(girdi)\n",
        "\n",
        "print(\"Verdiğiniz matematiksel işlemin sonucu:\", sonuç)"
      ],
      "execution_count": null,
      "outputs": [
        {
          "output_type": "stream",
          "name": "stdout",
          "text": [
            "Lütfen sonucunu bulmak istediğiniz matematiksel işlemi yazın.  + - * / matematiksel işaretlerini kullanabilirsiniz.22*2\n",
            "Verdiğiniz matematiksel işlemin sonucu: 44\n"
          ]
        }
      ]
    },
    {
      "cell_type": "code",
      "metadata": {
        "colab": {
          "base_uri": "https://localhost:8080/"
        },
        "id": "4kr4Ci69KKfB",
        "outputId": "d9ff9087-124a-4d16-b71d-a69b751bd41d"
      },
      "source": [
        "def first_function(argument_1, argument_2) :\n",
        "    print(argument_1**2 + argument_2**2)\n",
        "\n",
        "first_function(2, argument_2 = 5)"
      ],
      "execution_count": null,
      "outputs": [
        {
          "output_type": "stream",
          "name": "stdout",
          "text": [
            "29\n"
          ]
        }
      ]
    },
    {
      "cell_type": "code",
      "metadata": {
        "colab": {
          "base_uri": "https://localhost:8080/"
        },
        "id": "RzFYD40LIWhG",
        "outputId": "846a29c6-36aa-4649-98b2-e26b54450cb4"
      },
      "source": [
        "def multiply(a, b):\n",
        "  print(a * b)\n",
        "\n",
        "multiply(3, 5)\n",
        "multiply(-1, 2.5)\n",
        "multiply(\"amazing\", 3)"
      ],
      "execution_count": null,
      "outputs": [
        {
          "output_type": "stream",
          "name": "stdout",
          "text": [
            "15\n",
            "-2.5\n",
            "amazingamazingamazing\n"
          ]
        }
      ]
    },
    {
      "cell_type": "code",
      "metadata": {
        "colab": {
          "base_uri": "https://localhost:8080/"
        },
        "id": "W397AdzuLJwo",
        "outputId": "0185d9e9-11f0-47bf-d5bb-1d7d60731787"
      },
      "source": [
        "def motto() :\n",
        "    print(\"Don't hesitate to reinvent yourself!\")\n",
        "\n",
        "motto()  # it takes no argument"
      ],
      "execution_count": null,
      "outputs": [
        {
          "output_type": "stream",
          "name": "stdout",
          "text": [
            "Don't hesitate to reinvent yourself!\n"
          ]
        }
      ]
    },
    {
      "cell_type": "code",
      "metadata": {
        "colab": {
          "base_uri": "https://localhost:8080/"
        },
        "id": "YaRPI_FaLLmw",
        "outputId": "4e54174f-73fd-48d9-b077-795babbd1af8"
      },
      "source": [
        "shadow_var = print(\"It can't be assigned to any variable\")\n",
        "print(shadow_var)  # NoneType value can't be used"
      ],
      "execution_count": null,
      "outputs": [
        {
          "output_type": "stream",
          "name": "stdout",
          "text": [
            "It can't be assigned to any variable\n",
            "None\n"
          ]
        }
      ]
    },
    {
      "cell_type": "code",
      "metadata": {
        "id": "BpyXFEPAMTx-"
      },
      "source": [
        "def alan(r):\n",
        "  return 3.14 * r ** 2"
      ],
      "execution_count": null,
      "outputs": []
    },
    {
      "cell_type": "code",
      "metadata": {
        "colab": {
          "base_uri": "https://localhost:8080/"
        },
        "id": "iWNGm6cyM8NW",
        "outputId": "6bb82e8f-723c-4df0-ff09-effcfb270ebf"
      },
      "source": [
        "sonuç = 25 * alan(3)\n",
        "\n",
        "print(sonuç)"
      ],
      "execution_count": null,
      "outputs": [
        {
          "output_type": "stream",
          "name": "stdout",
          "text": [
            "706.5\n"
          ]
        }
      ]
    },
    {
      "cell_type": "code",
      "metadata": {
        "colab": {
          "base_uri": "https://localhost:8080/"
        },
        "id": "udbLVXAGNXhN",
        "outputId": "0660580c-7c0e-4ebf-9b96-61f5278ede71"
      },
      "source": [
        "def myfunction(a, b):\n",
        "  area = a *b\n",
        "  return area\n",
        "\n",
        "print(myfunction(3, 4))\n",
        "print(myfunction(5, 7))"
      ],
      "execution_count": null,
      "outputs": [
        {
          "output_type": "stream",
          "name": "stdout",
          "text": [
            "12\n",
            "35\n"
          ]
        }
      ]
    }
  ]
}