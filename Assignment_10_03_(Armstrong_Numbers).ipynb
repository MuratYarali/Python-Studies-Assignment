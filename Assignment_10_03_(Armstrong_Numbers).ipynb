{
  "nbformat": 4,
  "nbformat_minor": 0,
  "metadata": {
    "colab": {
      "name": "Assignment - 10/03 (Armstrong Numbers).ipynb",
      "provenance": [],
      "collapsed_sections": [],
      "authorship_tag": "ABX9TyNrpOBUN5gb1oV6h0pSNKAv",
      "include_colab_link": true
    },
    "kernelspec": {
      "name": "python3",
      "display_name": "Python 3"
    },
    "language_info": {
      "name": "python"
    }
  },
  "cells": [
    {
      "cell_type": "markdown",
      "metadata": {
        "id": "view-in-github",
        "colab_type": "text"
      },
      "source": [
        "<a href=\"https://colab.research.google.com/github/MuratYarali/Python-Assignment/blob/main/Assignment_10_03_(Armstrong_Numbers).ipynb\" target=\"_parent\"><img src=\"https://colab.research.google.com/assets/colab-badge.svg\" alt=\"Open In Colab\"/></a>"
      ]
    },
    {
      "cell_type": "code",
      "metadata": {
        "colab": {
          "base_uri": "https://localhost:8080/"
        },
        "id": "XQ18XsmES4rN",
        "outputId": "3b489a83-002c-4038-a85c-fd94d9acaefd"
      },
      "source": [
        "number = input(\"Please enter an integer number: \")\n",
        "power = len(number)\n",
        "sonuc = 0\n",
        "if number.startswith(\"-\"):\n",
        "    print(\"It is an invalid entry. Don't use non-numeric, float, or\\\n",
        "    negative values!\")\n",
        "elif \".\" in number or \",\" in number:\n",
        "    print(\"It is an invalid entry. Don't use non-numeric, float, or\\\n",
        "    negative values!\")\n",
        "elif not number.isdigit():\n",
        "    print(\"It is an invalid entry. Don't use non-numeric, float, or\\\n",
        "    negative values!\")\n",
        "else:\n",
        "    for i in number:\n",
        "        sonuc += int(i) ** power\n",
        "    if int(number) == sonuc:\n",
        "        print(number + \" is an Armstrong number\")\n",
        "    else:\n",
        "        print(number + \" is not an Armstrong number\")"
      ],
      "execution_count": 6,
      "outputs": [
        {
          "output_type": "stream",
          "name": "stdout",
          "text": [
            "Please enter an integer number: one\n",
            "It is an invalid entry. Don't use non-numeric, float, or    negative values!\n"
          ]
        }
      ]
    }
  ]
}