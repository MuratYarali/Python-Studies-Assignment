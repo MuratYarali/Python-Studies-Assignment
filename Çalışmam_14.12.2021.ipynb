{
 "cells": [
  {
   "cell_type": "code",
   "execution_count": 1,
   "id": "7df7ec5c",
   "metadata": {},
   "outputs": [
    {
     "name": "stdout",
     "output_type": "stream",
     "text": [
      "13\n"
     ]
    }
   ],
   "source": [
    "def san(x):\n",
    " print(x+1)\n",
    "x=-2\n",
    "x=4\n",
    "san(12)"
   ]
  },
  {
   "cell_type": "code",
   "execution_count": 3,
   "id": "493eaa10",
   "metadata": {},
   "outputs": [
    {
     "data": {
      "text/plain": [
       "1"
      ]
     },
     "execution_count": 3,
     "metadata": {},
     "output_type": "execute_result"
    }
   ],
   "source": [
    "min([1, 2, 3])"
   ]
  },
  {
   "cell_type": "code",
   "execution_count": 4,
   "id": "fa2e0e7b",
   "metadata": {},
   "outputs": [
    {
     "name": "stdout",
     "output_type": "stream",
     "text": [
      "3\n",
      "1\n"
     ]
    }
   ],
   "source": [
    "def foo(fname, val):\n",
    " print(fname(val))\n",
    "foo(max, [1, 2, 3])\n",
    "foo(min, [1, 2, 3])"
   ]
  },
  {
   "cell_type": "code",
   "execution_count": 5,
   "id": "30e48829",
   "metadata": {},
   "outputs": [
    {
     "name": "stdout",
     "output_type": "stream",
     "text": [
      "2\n"
     ]
    }
   ],
   "source": [
    "count = 0\n",
    "my_string = \"Clarusway\"\n",
    "my_char = \"a\"\n",
    "\n",
    "for i in my_string:\n",
    "    if i == my_char:\n",
    "        count += 1\n",
    "\n",
    "print(count)"
   ]
  },
  {
   "cell_type": "code",
   "execution_count": 17,
   "id": "bcf7c794",
   "metadata": {},
   "outputs": [
    {
     "name": "stdout",
     "output_type": "stream",
     "text": [
      "3102\n"
     ]
    }
   ],
   "source": [
    "num = 2013\n",
    "reversed_num = 0\n",
    "while num != 0:\n",
    "    digit = num % 10\n",
    "    reversed_num = reversed_num * 10 + digit\n",
    "    num //= 10\n",
    "print(reversed_num)"
   ]
  },
  {
   "cell_type": "code",
   "execution_count": 24,
   "id": "7b99d654",
   "metadata": {},
   "outputs": [
    {
     "name": "stdout",
     "output_type": "stream",
     "text": [
      "3102\n"
     ]
    }
   ],
   "source": [
    "num = 2013\n",
    "reversed_num = []\n",
    "while num != 0:\n",
    "    digit = num % 10\n",
    "    reversed_num.append(str(digit))\n",
    "    num //= 10\n",
    "\n",
    "print(\"\".join(reversed_num))"
   ]
  },
  {
   "cell_type": "code",
   "execution_count": 1,
   "id": "9bcc1201",
   "metadata": {},
   "outputs": [
    {
     "ename": "SyntaxError",
     "evalue": "expected ':' (Temp/ipykernel_6604/2108462146.py, line 4)",
     "output_type": "error",
     "traceback": [
      "\u001b[1;36m  File \u001b[1;32m\"C:\\Users\\murat\\AppData\\Local\\Temp/ipykernel_6604/2108462146.py\"\u001b[1;36m, line \u001b[1;32m4\u001b[0m\n\u001b[1;33m    for i in range(3:0:-1):\u001b[0m\n\u001b[1;37m                  ^\u001b[0m\n\u001b[1;31mSyntaxError\u001b[0m\u001b[1;31m:\u001b[0m expected ':'\n"
     ]
    }
   ],
   "source": [
    "num = 3102\n",
    "reverse_num = []\n",
    "\n",
    "for i in range(3:0:-1):\n",
    "    reverse_num.append(i)"
   ]
  },
  {
   "cell_type": "code",
   "execution_count": 33,
   "id": "b95ce7b0",
   "metadata": {},
   "outputs": [
    {
     "name": "stdout",
     "output_type": "stream",
     "text": [
      "False True\n"
     ]
    }
   ],
   "source": [
    "f=lambda x:bool(x%2)\n",
    "print(f(20), f(21))"
   ]
  },
  {
   "cell_type": "code",
   "execution_count": 1,
   "id": "0fcb86ee",
   "metadata": {},
   "outputs": [
    {
     "name": "stdout",
     "output_type": "stream",
     "text": [
      "Collecting gitpython\n",
      "  Downloading GitPython-3.1.24-py3-none-any.whl (180 kB)\n",
      "Collecting gitdb<5,>=4.0.1\n",
      "  Downloading gitdb-4.0.9-py3-none-any.whl (63 kB)\n",
      "Collecting smmap<6,>=3.0.1\n",
      "  Downloading smmap-5.0.0-py3-none-any.whl (24 kB)\n",
      "Installing collected packages: smmap, gitdb, gitpython\n",
      "Successfully installed gitdb-4.0.9 gitpython-3.1.24 smmap-5.0.0\n"
     ]
    }
   ],
   "source": [
    "! pip install gitpython"
   ]
  },
  {
   "cell_type": "code",
   "execution_count": 2,
   "id": "083d16b9",
   "metadata": {},
   "outputs": [],
   "source": [
    "import git\n",
    "from git import Repo"
   ]
  },
  {
   "cell_type": "code",
   "execution_count": 3,
   "id": "91daf7ee",
   "metadata": {},
   "outputs": [
    {
     "data": {
      "text/plain": [
       "<git.repo.base.Repo 'F:\\\\CLA\\\\70.my-working\\\\python\\\\my_work_place\\\\repos\\\\.git'>"
      ]
     },
     "execution_count": 3,
     "metadata": {},
     "output_type": "execute_result"
    }
   ],
   "source": [
    "Repo.clone_from(\"https://github.com/aws/sagemaker-experiments.git\", \"F:/CLA/70.my-working/python/my_work_place/repos\")"
   ]
  },
  {
   "cell_type": "code",
   "execution_count": 4,
   "id": "bba60518",
   "metadata": {},
   "outputs": [],
   "source": [
    "repo = git.Repo(\"F:/CLA/70.my-working/python/my_work_place/repos\")"
   ]
  },
  {
   "cell_type": "code",
   "execution_count": 6,
   "id": "0289f39d",
   "metadata": {},
   "outputs": [
    {
     "data": {
      "text/plain": [
       "\"On branch main\\nYour branch is up to date with 'origin/main'.\\n\\nnothing to commit, working tree clean\""
      ]
     },
     "execution_count": 6,
     "metadata": {},
     "output_type": "execute_result"
    }
   ],
   "source": [
    "repo.git.status()"
   ]
  },
  {
   "cell_type": "code",
   "execution_count": 8,
   "id": "267305bb",
   "metadata": {},
   "outputs": [
    {
     "data": {
      "text/plain": [
       "\"On branch main\\nYour branch is up to date with 'origin/main'.\\n\\nnothing to commit, working tree clean\""
      ]
     },
     "execution_count": 8,
     "metadata": {},
     "output_type": "execute_result"
    }
   ],
   "source": [
    "repo.git.execute(\"git status\")"
   ]
  },
  {
   "cell_type": "code",
   "execution_count": 9,
   "id": "ac01ee74",
   "metadata": {},
   "outputs": [
    {
     "data": {
      "text/plain": [
       "'Already up to date.'"
      ]
     },
     "execution_count": 9,
     "metadata": {},
     "output_type": "execute_result"
    }
   ],
   "source": [
    "repo.git.pull()"
   ]
  },
  {
   "cell_type": "code",
   "execution_count": 10,
   "id": "86af7483",
   "metadata": {},
   "outputs": [
    {
     "data": {
      "text/plain": [
       "'Already up to date.'"
      ]
     },
     "execution_count": 10,
     "metadata": {},
     "output_type": "execute_result"
    }
   ],
   "source": [
    "repo.git.execute(\"git pull\")"
   ]
  },
  {
   "cell_type": "code",
   "execution_count": 12,
   "id": "0ca1230e",
   "metadata": {},
   "outputs": [
    {
     "data": {
      "text/plain": [
       "'On branch main\\nYour branch is up to date with \\'origin/main\\'.\\n\\nChanges not staged for commit:\\n  (use \"git add <file>...\" to update what will be committed)\\n  (use \"git restore <file>...\" to discard changes in working directory)\\n\\tmodified:   scripts/version.py\\n\\nno changes added to commit (use \"git add\" and/or \"git commit -a\")'"
      ]
     },
     "execution_count": 12,
     "metadata": {},
     "output_type": "execute_result"
    }
   ],
   "source": [
    "repo.git.execute(\"git status\")"
   ]
  }
 ],
 "metadata": {
  "kernelspec": {
   "display_name": "Python 3 (ipykernel)",
   "language": "python",
   "name": "python3"
  },
  "language_info": {
   "codemirror_mode": {
    "name": "ipython",
    "version": 3
   },
   "file_extension": ".py",
   "mimetype": "text/x-python",
   "name": "python",
   "nbconvert_exporter": "python",
   "pygments_lexer": "ipython3",
   "version": "3.10.1"
  }
 },
 "nbformat": 4,
 "nbformat_minor": 5
}
