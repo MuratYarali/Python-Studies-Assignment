{
  "nbformat": 4,
  "nbformat_minor": 0,
  "metadata": {
    "colab": {
      "name": "Assignment - 10/08 (Letters Count).ipynb",
      "provenance": [],
      "collapsed_sections": [],
      "authorship_tag": "ABX9TyNDfmYj7W1/94HlkzMM6D5I",
      "include_colab_link": true
    },
    "kernelspec": {
      "name": "python3",
      "display_name": "Python 3"
    },
    "language_info": {
      "name": "python"
    }
  },
  "cells": [
    {
      "cell_type": "markdown",
      "metadata": {
        "id": "view-in-github",
        "colab_type": "text"
      },
      "source": [
        "<a href=\"https://colab.research.google.com/github/MuratYarali/Python-Assignment/blob/main/Assignment_10_08_(Letters_Count).ipynb\" target=\"_parent\"><img src=\"https://colab.research.google.com/assets/colab-badge.svg\" alt=\"Open In Colab\"/></a>"
      ]
    },
    {
      "cell_type": "code",
      "execution_count": 13,
      "metadata": {
        "colab": {
          "base_uri": "https://localhost:8080/"
        },
        "id": "3hMx7X1_F8pm",
        "outputId": "2f53b088-2e9a-4015-c9fc-6a2e956f62ec"
      },
      "outputs": [
        {
          "name": "stdout",
          "output_type": "stream",
          "text": [
            "Please enter a sentence: hippo runs to us!\n"
          ]
        },
        {
          "output_type": "execute_result",
          "data": {
            "text/plain": [
              "{' ': 3,\n",
              " '!': 1,\n",
              " 'h': 1,\n",
              " 'i': 1,\n",
              " 'n': 1,\n",
              " 'o': 2,\n",
              " 'p': 2,\n",
              " 'r': 1,\n",
              " 's': 2,\n",
              " 't': 1,\n",
              " 'u': 2}"
            ]
          },
          "metadata": {},
          "execution_count": 13
        }
      ],
      "source": [
        "def number_count(sentence):\n",
        "  collect = []\n",
        "  dictionary = {}\n",
        "  for i in sentence:\n",
        "    if i not in collect:\n",
        "      collect.append(i)\n",
        "      amount = sentence.count(i)\n",
        "      dictionary.update({i : amount})\n",
        "    else:\n",
        "      continue\n",
        "  return dictionary\n",
        "\n",
        "number_count(input(\"Please enter a sentence: \"))"
      ]
    }
  ]
}