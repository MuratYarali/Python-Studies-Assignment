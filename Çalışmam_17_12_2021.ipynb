{
  "nbformat": 4,
  "nbformat_minor": 0,
  "metadata": {
    "colab": {
      "name": "Çalışmam_17.12.2021.ipynb",
      "provenance": [],
      "collapsed_sections": [],
      "authorship_tag": "ABX9TyPgXAM/he2yZixV0o1begA+",
      "include_colab_link": true
    },
    "kernelspec": {
      "name": "python3",
      "display_name": "Python 3"
    },
    "language_info": {
      "name": "python"
    }
  },
  "cells": [
    {
      "cell_type": "markdown",
      "metadata": {
        "id": "view-in-github",
        "colab_type": "text"
      },
      "source": [
        "<a href=\"https://colab.research.google.com/github/MuratYarali/Python-Studies/blob/main/%C3%87al%C4%B1%C5%9Fmam_17_12_2021.ipynb\" target=\"_parent\"><img src=\"https://colab.research.google.com/assets/colab-badge.svg\" alt=\"Open In Colab\"/></a>"
      ]
    },
    {
      "cell_type": "code",
      "execution_count": 4,
      "metadata": {
        "colab": {
          "base_uri": "https://localhost:8080/"
        },
        "id": "PpHZt_2F7zC0",
        "outputId": "6e32030c-e083-4eaf-d023-3c57a739267a"
      },
      "outputs": [
        {
          "output_type": "stream",
          "name": "stdout",
          "text": [
            "Provide a string to search vowels: USA OF AMERICA\n",
            "['u', 'a', 'o', 'e', 'i']\n"
          ]
        }
      ],
      "source": [
        "vowels = [\"a\",\"e\", \"i\", \"o\", \"u\"]\n",
        "\n",
        "string = input(\"Provide a string to search vowels: \").lower()\n",
        "\n",
        "result = []\n",
        "\n",
        "for letter in string:\n",
        "  if letter in vowels and letter not in result:\n",
        "    result.append(letter)\n",
        "\n",
        "print(result)"
      ]
    },
    {
      "cell_type": "code",
      "source": [
        "vowels = [\"a\",\"e\", \"i\", \"o\", \"u\"]\n",
        "\n",
        "string = input(\"Provide a string to search vowels: \").lower()\n",
        "\n",
        "result = []\n",
        "\n",
        "for letter in string:\n",
        "  if letter in vowels:\n",
        "    result.append(letter)\n",
        "\n",
        "print(result)"
      ],
      "metadata": {
        "id": "8i2hNTAV_GGU"
      },
      "execution_count": null,
      "outputs": []
    },
    {
      "cell_type": "code",
      "source": [
        "numbers = []\n",
        "for i in range(100, 501):\n",
        "  if (i % 7 == 0) and (i % 3 == 0):\n",
        "    numbers.append(i)\n",
        "\n",
        "print(numbers)"
      ],
      "metadata": {
        "colab": {
          "base_uri": "https://localhost:8080/"
        },
        "id": "1LEtLS57_OpS",
        "outputId": "133f68c6-4e88-4048-a384-63d2faf98f31"
      },
      "execution_count": 5,
      "outputs": [
        {
          "output_type": "stream",
          "name": "stdout",
          "text": [
            "[105, 126, 147, 168, 189, 210, 231, 252, 273, 294, 315, 336, 357, 378, 399, 420, 441, 462, 483]\n"
          ]
        }
      ]
    },
    {
      "cell_type": "code",
      "source": [
        "numbers = []\n",
        "for i in range(100, 501):\n",
        "  if i % 7 == 0 and i % 3 == 0:\n",
        "    numbers.append(i)\n",
        "\n",
        "print(numbers)"
      ],
      "metadata": {
        "colab": {
          "base_uri": "https://localhost:8080/"
        },
        "id": "Ctk7r-REAetQ",
        "outputId": "16e09f52-9aa8-48b4-c7a1-5c2bc3f8d026"
      },
      "execution_count": 6,
      "outputs": [
        {
          "output_type": "stream",
          "name": "stdout",
          "text": [
            "[105, 126, 147, 168, 189, 210, 231, 252, 273, 294, 315, 336, 357, 378, 399, 420, 441, 462, 483]\n"
          ]
        }
      ]
    },
    {
      "cell_type": "code",
      "source": [
        "numbers = []\n",
        "for i in range(100, 501):\n",
        "  if i % 7 == 0 & i % 3 == 0:\n",
        "    numbers.append(i)\n",
        "\n",
        "print(numbers)"
      ],
      "metadata": {
        "colab": {
          "base_uri": "https://localhost:8080/"
        },
        "id": "z_W9eMeh8J3c",
        "outputId": "2019fa12-28a1-4993-a667-d8a2803f683c"
      },
      "execution_count": 7,
      "outputs": [
        {
          "output_type": "stream",
          "name": "stdout",
          "text": [
            "[105, 112, 119, 126, 133, 140, 147, 154, 161, 168, 175, 182, 189, 196, 203, 210, 217, 224, 231, 238, 245, 252, 259, 266, 273, 280, 287, 294, 301, 308, 315, 322, 329, 336, 343, 350, 357, 364, 371, 378, 385, 392, 399, 406, 413, 420, 427, 434, 441, 448, 455, 462, 469, 476, 483, 490, 497]\n"
          ]
        }
      ]
    },
    {
      "cell_type": "code",
      "source": [
        "numbers = []\n",
        "for i in range(100, 501):\n",
        "  if (i % 7 == 0) & (i % 3 == 0):\n",
        "    numbers.append(i)\n",
        "\n",
        "print(numbers)"
      ],
      "metadata": {
        "colab": {
          "base_uri": "https://localhost:8080/"
        },
        "id": "6KheTyO-A2Ku",
        "outputId": "d09bf42f-5d9d-40b8-faa7-f738b1397c00"
      },
      "execution_count": 9,
      "outputs": [
        {
          "output_type": "stream",
          "name": "stdout",
          "text": [
            "[105, 126, 147, 168, 189, 210, 231, 252, 273, 294, 315, 336, 357, 378, 399, 420, 441, 462, 483]\n"
          ]
        }
      ]
    },
    {
      "cell_type": "code",
      "source": [
        "numbers = []\n",
        "for i in range(100, 501):\n",
        "  if (i % 7 == 0):\n",
        "    if (i % 3 == 0):\n",
        "      numbers.append(i)\n",
        "\n",
        "print(numbers)"
      ],
      "metadata": {
        "colab": {
          "base_uri": "https://localhost:8080/"
        },
        "id": "GorJ3WT_AlKa",
        "outputId": "bfa63a6c-9c9d-4f66-adf9-2e2fc0d865ec"
      },
      "execution_count": 8,
      "outputs": [
        {
          "output_type": "stream",
          "name": "stdout",
          "text": [
            "[105, 126, 147, 168, 189, 210, 231, 252, 273, 294, 315, 336, 357, 378, 399, 420, 441, 462, 483]\n"
          ]
        }
      ]
    },
    {
      "cell_type": "code",
      "source": [
        ""
      ],
      "metadata": {
        "id": "9-gmFu3RAsX_"
      },
      "execution_count": null,
      "outputs": []
    }
  ]
}