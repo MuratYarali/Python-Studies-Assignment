{
 "cells": [
  {
   "cell_type": "code",
   "execution_count": 4,
   "metadata": {},
   "outputs": [],
   "source": [
    "fruits = ['Banana\\n', 'Orange\\n', 'Apple\\n', 'Strawberry\\n', 'Cherry\\n']\n",
    "\n",
    "with open(\"fruits.txt\", \"w\", encoding=\"utf-8\") as file:\n",
    "    file.writelines(fruits)\n"
   ]
  },
  {
   "cell_type": "code",
   "execution_count": 5,
   "metadata": {},
   "outputs": [
    {
     "name": "stdout",
     "output_type": "stream",
     "text": [
      "Banana\n",
      "Orange\n",
      "Apple\n",
      "Strawberry\n",
      "Cherry\n",
      "\n"
     ]
    }
   ],
   "source": [
    "with open(\"fruits.txt\", 'r', encoding=\"utf-8\") as file:\n",
    "    print(file.read())"
   ]
  },
  {
   "cell_type": "code",
   "execution_count": 6,
   "metadata": {},
   "outputs": [
    {
     "name": "stdout",
     "output_type": "stream",
     "text": [
      "['Banana\\n', 'Orange\\n', 'Apple\\n', 'Strawberry\\n', 'Cherry\\n']\n"
     ]
    }
   ],
   "source": [
    "with open(\"fruits.txt\", 'r', encoding=\"utf-8\") as file:\n",
    "    print(file.readlines())"
   ]
  },
  {
   "cell_type": "code",
   "execution_count": 19,
   "metadata": {},
   "outputs": [],
   "source": [
    "colors = ['red', 'green', 'yellow', 'white', 'black']\n",
    "\n",
    "with open(\"new_file.txt\", 'w', encoding=\"utf-8\") as file:\n",
    "    for i in colors:\n",
    "        file.writelines(i + \"\\n\")  # adds a newline character"
   ]
  },
  {
   "cell_type": "code",
   "execution_count": 20,
   "metadata": {},
   "outputs": [
    {
     "name": "stdout",
     "output_type": "stream",
     "text": [
      "red\n",
      "green\n",
      "yellow\n",
      "white\n",
      "black\n",
      "\n"
     ]
    }
   ],
   "source": [
    "with open(\"new_file.txt\", 'r', encoding=\"utf-8\") as file:\n",
    "    print(file.read())"
   ]
  },
  {
   "cell_type": "code",
   "execution_count": 21,
   "metadata": {},
   "outputs": [
    {
     "name": "stdout",
     "output_type": "stream",
     "text": [
      "['red\\n', 'green\\n', 'yellow\\n', 'white\\n', 'black\\n']\n"
     ]
    }
   ],
   "source": [
    "with open(\"new_file.txt\", 'r', encoding=\"utf-8\") as file:\n",
    "    print(file.readlines())"
   ]
  },
  {
   "cell_type": "code",
   "execution_count": 23,
   "metadata": {},
   "outputs": [
    {
     "name": "stdout",
     "output_type": "stream",
     "text": [
      "Banana\n",
      "Orange\n",
      "Apple\n",
      "Strawberry\n",
      "Cherry\n",
      "\n"
     ]
    }
   ],
   "source": [
    "fruits = ['Banana\\n', 'Orange\\n', 'Apple\\n', 'Strawberry\\n', 'Cherry\\n']\n",
    "\n",
    "with open(\"fruits.txt\", 'w', encoding=\"utf-8\") as file:\n",
    "    file.writelines(fruits)  # creates a file containing the elements of the list\n",
    "\n",
    "with open(\"fruits.txt\", 'r', encoding=\"utf-8\") as file:\n",
    "    print(file.read())  # reads the content of the file\n"
   ]
  },
  {
   "cell_type": "code",
   "execution_count": 29,
   "metadata": {},
   "outputs": [],
   "source": [
    "with open(\"fruits.txt\", 'a', encoding=\"utf-8\") as file:\n",
    "    file.write('Melon\\n')  # adds \"Melon\" to the end of the existing file"
   ]
  },
  {
   "cell_type": "code",
   "execution_count": 31,
   "metadata": {},
   "outputs": [
    {
     "name": "stdout",
     "output_type": "stream",
     "text": [
      "Hello Richard. This is my file.\n"
     ]
    }
   ],
   "source": [
    "with open(\"new_file.txt\", 'w', encoding=\"utf-8\") as my_file:  \n",
    "# create and open the file\n",
    "\n",
    "    my_file.write('Hello Richard. This is my file.')  \n",
    "    # write str data into the file\n",
    "\n",
    "with open(\"new_file.txt\", 'r', encoding=\"utf-8\") as file:\n",
    "    print(file.read())"
   ]
  },
  {
   "cell_type": "code",
   "execution_count": 32,
   "metadata": {},
   "outputs": [],
   "source": [
    "colors = ['red\\n', 'green\\n', 'yellow\\n', 'white\\n', 'black\\n']\n",
    "\n",
    "with open(\"new_file.txt\", \"w\", encoding=\"utf-8\") as file:\n",
    "    file.writelines(colors)  # writes each of the elements in a separate line"
   ]
  },
  {
   "cell_type": "code",
   "execution_count": 33,
   "metadata": {},
   "outputs": [],
   "source": [
    "with open(\"new_file.txt\", 'w', encoding=\"utf-8\") as file:\n",
    "    file.write(\"blue\\n\")"
   ]
  },
  {
   "cell_type": "code",
   "execution_count": 35,
   "metadata": {},
   "outputs": [
    {
     "name": "stdout",
     "output_type": "stream",
     "text": [
      "['no,fruit,amount\\n', '1,Banana,4 lb\\n', '2,Orange,5 lb\\n', '3,Apple,2 lb\\n', '4,Strawberry,6 lb\\n', '5,Cherry,3 lb']\n"
     ]
    }
   ],
   "source": [
    "with open(\"fruits.csv\", 'r', encoding=\"utf-8\") as file:\n",
    "    print(file.readlines())"
   ]
  },
  {
   "cell_type": "code",
   "execution_count": 38,
   "metadata": {},
   "outputs": [
    {
     "name": "stdout",
     "output_type": "stream",
     "text": [
      "['no', 'fruit', 'amount']\n",
      "['1', 'Banana', '4 lb']\n",
      "['2', 'Orange', '5 lb']\n",
      "['3', 'Apple', '2 lb']\n",
      "['4', 'Strawberry', '6 lb']\n",
      "['5', 'Cherry', '3 lb']\n"
     ]
    }
   ],
   "source": [
    "import csv\n",
    "\n",
    "with open(\"fruits.csv\", 'r', newline =\"\", encoding=\"utf-8\") as file:\n",
    "    csv_rows = csv.reader(file)\n",
    "\n",
    "    for row in csv_rows:\n",
    "        print(row)"
   ]
  },
  {
   "cell_type": "code",
   "execution_count": 39,
   "metadata": {},
   "outputs": [
    {
     "name": "stdout",
     "output_type": "stream",
     "text": [
      "['no', 'fruit', 'amount']\n",
      "['1', 'Banana', '4 lb']\n",
      "['2', 'Orange', '5 lb']\n",
      "['3', 'Apple', '2 lb']\n",
      "['4', 'Strawberry', '6 lb']\n",
      "['5', 'Cherry', '3 lb']\n"
     ]
    }
   ],
   "source": [
    "import csv\n",
    "\n",
    "with open(\"fruits.csv\", 'r', encoding=\"utf-8\") as file:\n",
    "    csv_rows = csv.reader(file)\n",
    "\n",
    "    for row in csv_rows:\n",
    "        print(row)"
   ]
  },
  {
   "cell_type": "code",
   "execution_count": 41,
   "metadata": {},
   "outputs": [
    {
     "name": "stdout",
     "output_type": "stream",
     "text": [
      "['no', 'fruit', 'amount']\n",
      "['1', 'Banana', '4 lb']\n",
      "['2', 'Orange', '5 lb']\n",
      "['3', 'Apple', '2 lb']\n",
      "['4', 'Strawberry', '6 lb']\n",
      "['5', 'Cherry', '3 lb']\n"
     ]
    }
   ],
   "source": [
    "import csv\n",
    "\n",
    "with open(\"fruits.csv\", \"r\", newline=\"\", encoding=\"utf-8\") as file:\n",
    "    csv_rows= csv.reader(file, delimiter=\",\")\n",
    "    for row in csv_rows:\n",
    "        print(row)"
   ]
  },
  {
   "cell_type": "code",
   "execution_count": 3,
   "metadata": {},
   "outputs": [
    {
     "name": "stdout",
     "output_type": "stream",
     "text": [
      "row_num, first_name, last_name, ages\n",
      "1, isabella, bold, 22\n",
      "2, lara, bold, 12\n",
      "3, solomon, bold, 46\n",
      "4, adam, smithson, 40\n",
      "5, mose, smithson, 51\n"
     ]
    }
   ],
   "source": [
    "with open(\"people.csv\", \"r\", newline=\"\", encoding=\"utf-8\") as file:\n",
    "    print(file.read())"
   ]
  },
  {
   "cell_type": "code",
   "execution_count": 6,
   "metadata": {},
   "outputs": [
    {
     "name": "stdout",
     "output_type": "stream",
     "text": [
      "['no', 'fruit', 'amount']\n",
      "['1', 'Banana', '4 lb']\n",
      "['2', 'Orange', '5 lb']\n",
      "['3', 'Apple', '2 lb']\n",
      "['4', 'Strawberry', '6 lb']\n",
      "['5', 'Cherry', '3 lb']\n"
     ]
    }
   ],
   "source": [
    "import csv\n",
    "\n",
    "with open(\"fruits.csv\", \"r\", newline=\"\", encoding=\"utf-8\") as file:\n",
    "    csv_rows= csv.reader(file, delimiter=\",\")\n",
    "    for row in csv_rows:\n",
    "        print(row)"
   ]
  },
  {
   "cell_type": "code",
   "execution_count": 7,
   "metadata": {},
   "outputs": [
    {
     "data": {
      "text/plain": [
       "<_csv.reader at 0x2091d9cb5e0>"
      ]
     },
     "execution_count": 7,
     "metadata": {},
     "output_type": "execute_result"
    }
   ],
   "source": [
    "csv_rows"
   ]
  }
 ],
 "metadata": {
  "interpreter": {
   "hash": "0127ce2b7568e6364fcc574b031f73928e7aa4cd8418ab017d9e270fb3906b0d"
  },
  "kernelspec": {
   "display_name": "Python 3.10.1 64-bit",
   "language": "python",
   "name": "python3"
  },
  "language_info": {
   "codemirror_mode": {
    "name": "ipython",
    "version": 3
   },
   "file_extension": ".py",
   "mimetype": "text/x-python",
   "name": "python",
   "nbconvert_exporter": "python",
   "pygments_lexer": "ipython3",
   "version": "3.10.1"
  },
  "orig_nbformat": 4
 },
 "nbformat": 4,
 "nbformat_minor": 2
}
