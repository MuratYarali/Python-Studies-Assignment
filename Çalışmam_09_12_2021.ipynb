{
  "nbformat": 4,
  "nbformat_minor": 0,
  "metadata": {
    "colab": {
      "name": "Çalışmam 09.12.2021.ipynb",
      "provenance": [],
      "collapsed_sections": [],
      "authorship_tag": "ABX9TyPsrzuNYhvhKtK8ALuopUGr",
      "include_colab_link": true
    },
    "kernelspec": {
      "name": "python3",
      "display_name": "Python 3"
    },
    "language_info": {
      "name": "python"
    }
  },
  "cells": [
    {
      "cell_type": "markdown",
      "metadata": {
        "id": "view-in-github",
        "colab_type": "text"
      },
      "source": [
        "<a href=\"https://colab.research.google.com/github/MuratYarali/Python-Studies/blob/main/%C3%87al%C4%B1%C5%9Fmam_09_12_2021.ipynb\" target=\"_parent\"><img src=\"https://colab.research.google.com/assets/colab-badge.svg\" alt=\"Open In Colab\"/></a>"
      ]
    },
    {
      "cell_type": "code",
      "execution_count": 3,
      "metadata": {
        "colab": {
          "base_uri": "https://localhost:8080/"
        },
        "id": "h0T_9tJ2ahEo",
        "outputId": "cc743cb3-34cd-4625-82b8-45246cf71b22"
      },
      "outputs": [
        {
          "output_type": "stream",
          "name": "stdout",
          "text": [
            "0 -10\n"
          ]
        }
      ],
      "source": [
        "command = [\"right 20\", \"right 30\", \"left 50\", \"up 10\", \"down 20\"]\n",
        "\n",
        "x = y = 0\n",
        "\n",
        "for i in range(len(command)):\n",
        "  if command[i].startswith(\"r\"): x += int(command[i].split()[1])\n",
        "  elif command[i].startswith(\"l\"): x -= int(command[i].split()[1])\n",
        "  elif command[i].startswith(\"u\"): y += int(command[i].split()[1])\n",
        "  elif command[i].startswith(\"d\"): y -= int(command[i].split()[1])\n",
        "\n",
        "print(x ,y)"
      ]
    },
    {
      "cell_type": "code",
      "source": [
        "x = \"[([{({})}]({}))\"\n",
        "y = \"([{({})}]({}))\"\n",
        "\n",
        "\n",
        "def isValid(s):\n",
        "  while \"()\" in s or \"[]\" in s or \"{}\" in s:\n",
        "    s = s.replace(\"()\", \"\").replace(\"[]\", \"\").replace(\"{}\", \"\")\n",
        "  return s == \"\"\n",
        "\n",
        "isValid(x)"
      ],
      "metadata": {
        "id": "9ZqgTt9ilC9i"
      },
      "execution_count": null,
      "outputs": []
    },
    {
      "cell_type": "code",
      "source": [
        "calculator = {\"+\" : (lambda x, y: x + y),\n",
        "              \"-\" : (lambda x, y: x - y),\n",
        "              \"*\" : (lambda x, y: x * y),\n",
        "              \"/\" : (lambda x, y: x / y)}\n",
        "\n",
        "calculator[\"/\"](20,5)"
      ],
      "metadata": {
        "colab": {
          "base_uri": "https://localhost:8080/"
        },
        "id": "dNw7UwG7rptg",
        "outputId": "c319d1cb-26c0-42d9-980b-d79461c45e80"
      },
      "execution_count": 12,
      "outputs": [
        {
          "output_type": "execute_result",
          "data": {
            "text/plain": [
              "4.0"
            ]
          },
          "metadata": {},
          "execution_count": 12
        }
      ]
    },
    {
      "cell_type": "code",
      "source": [
        "upper = [i for i in range(3)]\n",
        "upper"
      ],
      "metadata": {
        "colab": {
          "base_uri": "https://localhost:8080/"
        },
        "id": "QuyRErB-z2mI",
        "outputId": "da5672c9-6455-4310-aa89-250a355459ec"
      },
      "execution_count": 17,
      "outputs": [
        {
          "output_type": "execute_result",
          "data": {
            "text/plain": [
              "[0, 1, 2]"
            ]
          },
          "metadata": {},
          "execution_count": 17
        }
      ]
    },
    {
      "cell_type": "code",
      "source": [
        "import random\n",
        "\n",
        "uppers = [chr(random.randint(65,90)) for i in range(3)]\n",
        "lowers = [chr(random.randint(97,122)) for i in range(3)]\n",
        "numbers = [chr(random.randint(48,57)) for i in range(3)]\n",
        "chars = [chr(random.randint(33,47)) + chr(random.randint(58,64))]\n",
        "\n",
        "password = [\"\".join(uppers) + \"\".join(lowers) + \"\".join(numbers) + \"\".join(chars)]\n",
        "\n",
        "def karıştır(password):\n",
        "  templist = list(password)\n",
        "  random.shuffle(templist)\n",
        "  return \"\".join((templist))\n",
        "\n",
        "passw = karıştır(password)\n",
        "passw"
      ],
      "metadata": {
        "colab": {
          "base_uri": "https://localhost:8080/",
          "height": 35
        },
        "id": "K6OlrdwmsyI-",
        "outputId": "aa236824-cc14-447f-b42c-22aed1f81482"
      },
      "execution_count": 7,
      "outputs": [
        {
          "output_type": "execute_result",
          "data": {
            "application/vnd.google.colaboratory.intrinsic+json": {
              "type": "string"
            },
            "text/plain": [
              "'HMEcsk119\">'"
            ]
          },
          "metadata": {},
          "execution_count": 7
        }
      ]
    },
    {
      "cell_type": "code",
      "source": [
        "from timeit import timeit"
      ],
      "metadata": {
        "id": "MPKCj_945obm"
      },
      "execution_count": 8,
      "outputs": []
    },
    {
      "cell_type": "code",
      "source": [
        "def for_loop():\n",
        "\n",
        "  result = []\n",
        "\n",
        "  for i in range(1000000):\n",
        "    result.append(i)\n",
        "  return result"
      ],
      "metadata": {
        "id": "kgmzLWIK50E1"
      },
      "execution_count": 21,
      "outputs": []
    },
    {
      "cell_type": "code",
      "source": [
        "def list_comp():\n",
        "  return [i for i in range(1000000)]"
      ],
      "metadata": {
        "id": "M-Vdn65e6Nf8"
      },
      "execution_count": 22,
      "outputs": []
    },
    {
      "cell_type": "code",
      "source": [
        "# size = 100\n",
        "\n",
        "time_for = timeit(for_loop, number = size)\n",
        "time_list_comp = timeit(list_comp, number = size)"
      ],
      "metadata": {
        "id": "yuJzza0o690j"
      },
      "execution_count": 25,
      "outputs": []
    },
    {
      "cell_type": "code",
      "source": [
        "print(f\" List Comp. is {round(time_for/time_list_comp)} times faster than for loops.\")"
      ],
      "metadata": {
        "colab": {
          "base_uri": "https://localhost:8080/"
        },
        "id": "vxglw4Rh7omK",
        "outputId": "65cfc873-a96c-4715-b41e-6554e902e6e4"
      },
      "execution_count": 26,
      "outputs": [
        {
          "output_type": "stream",
          "name": "stdout",
          "text": [
            " List Comp. is 2 times faster than for loops.\n"
          ]
        }
      ]
    }
  ]
}