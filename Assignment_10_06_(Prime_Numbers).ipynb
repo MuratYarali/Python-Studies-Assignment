{
  "nbformat": 4,
  "nbformat_minor": 0,
  "metadata": {
    "colab": {
      "name": "Assignment - 10/06 (Prime Numbers).ipynb",
      "provenance": [],
      "collapsed_sections": [],
      "authorship_tag": "ABX9TyPsihsqrLwxwErhZpNnZrVy",
      "include_colab_link": true
    },
    "kernelspec": {
      "name": "python3",
      "display_name": "Python 3"
    },
    "language_info": {
      "name": "python"
    }
  },
  "cells": [
    {
      "cell_type": "markdown",
      "metadata": {
        "id": "view-in-github",
        "colab_type": "text"
      },
      "source": [
        "<a href=\"https://colab.research.google.com/github/MuratYarali/Python-Assignment/blob/main/Assignment_10_06_(Prime_Numbers).ipynb\" target=\"_parent\"><img src=\"https://colab.research.google.com/assets/colab-badge.svg\" alt=\"Open In Colab\"/></a>"
      ]
    },
    {
      "cell_type": "code",
      "metadata": {
        "colab": {
          "base_uri": "https://localhost:8080/"
        },
        "id": "WesRT5_EtRH5",
        "outputId": "c62ebeb8-da6c-4a06-ceb3-9a8923138223"
      },
      "source": [
        "num = int(input(\"Enter a number: \"))\n",
        "prime_list = []\n",
        "\n",
        "for i in range(1,num+1):\n",
        "  count = 0\n",
        "  for j in range(2, (i//2+1)):\n",
        "    if i % j == 0:\n",
        "      count += 1\n",
        "      break\n",
        "  if (count == 0 and i !=1):\n",
        "    prime_list.append(i)\n",
        "\n",
        "print(prime_list)"
      ],
      "execution_count": 18,
      "outputs": [
        {
          "output_type": "stream",
          "name": "stdout",
          "text": [
            "Enter a number: 100\n",
            "[2, 3, 5, 7, 11, 13, 17, 19, 23, 29, 31, 37, 41, 43, 47, 53, 59, 61, 67, 71, 73, 79, 83, 89, 97]\n"
          ]
        }
      ]
    }
  ]
}