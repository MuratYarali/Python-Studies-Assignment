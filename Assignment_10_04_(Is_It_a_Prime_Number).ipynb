{
  "nbformat": 4,
  "nbformat_minor": 0,
  "metadata": {
    "colab": {
      "name": "Assignment - 10/04 (Is It a Prime Number?).ipynb",
      "provenance": [],
      "collapsed_sections": [],
      "authorship_tag": "ABX9TyMS924QnJFGrVp+msVxTpoO",
      "include_colab_link": true
    },
    "kernelspec": {
      "name": "python3",
      "display_name": "Python 3"
    },
    "language_info": {
      "name": "python"
    }
  },
  "cells": [
    {
      "cell_type": "markdown",
      "metadata": {
        "id": "view-in-github",
        "colab_type": "text"
      },
      "source": [
        "<a href=\"https://colab.research.google.com/github/MuratYarali/Python-Assignment/blob/main/Assignment_10_04_(Is_It_a_Prime_Number%3F).ipynb\" target=\"_parent\"><img src=\"https://colab.research.google.com/assets/colab-badge.svg\" alt=\"Open In Colab\"/></a>"
      ]
    },
    {
      "cell_type": "code",
      "metadata": {
        "id": "qFF1mjIE-nXD"
      },
      "source": [
        "number = int(input(\"Bir sayı giriniz: \"))\n",
        "listem = []\n",
        "\n",
        "for i in range(2, number+1):\n",
        "  if number % i == 0:\n",
        "    listem.append(i)\n",
        "if len(listem) == 1:\n",
        "  print(f\"{number} bir asal sayıdır\")\n",
        "else:\n",
        "  print(f\"{number} bir asal sayı değildir\")"
      ],
      "execution_count": null,
      "outputs": []
    }
  ]
}
